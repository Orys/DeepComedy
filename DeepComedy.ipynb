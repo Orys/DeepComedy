{
  "nbformat": 4,
  "nbformat_minor": 0,
  "metadata": {
    "accelerator": "GPU",
    "colab": {
      "name": "ultimo__DeepComedy_CozziLiscio.ipynb",
      "provenance": [],
      "collapsed_sections": [
        "UfJW74BYOrC7"
      ],
      "toc_visible": true
    },
    "kernelspec": {
      "display_name": "Python 3",
      "name": "python3"
    }
  },
  "cells": [
    {
      "cell_type": "markdown",
      "metadata": {
        "id": "sH8ZrNeLjNgR"
      },
      "source": [
        "# Setup"
      ]
    },
    {
      "cell_type": "code",
      "metadata": {
        "id": "tPw2olv7UFJX",
        "outputId": "684d0c65-995f-4598-fb59-458f50e8fdb0",
        "colab": {
          "base_uri": "https://localhost:8080/"
        }
      },
      "source": [
        "import numpy as np\n",
        "import tensorflow as tf\n",
        "import os\n",
        "import sys\n",
        "\n",
        "# import functions and datasets from our Git repo\n",
        "!git clone \"https://github.com/RiccardoCozzi96/DeepComedy\"\n",
        "sys.path.append(\"DeepComedy/tokenizer/\")\n",
        "sys.path.append(\"DeepComedy/metrics/\")\n",
        "sys.path.append(\"DeepComedy/datasets/\")\n",
        "\n",
        "# select destination folderss\n",
        "use_drive = False\n",
        "if use_drive:\n",
        "  from google.colab import drive\n",
        "  drive.mount('/content/gdrive')\n",
        "  path = \"/content/gdrive/My Drive/DeepComedyGenerated/\" \n",
        "else:\n",
        "  path = \"/DeepComedyGenerated/\"\n",
        "  \n",
        "datasets_path = \"DeepComedy/datasets\"\n",
        "\n",
        "# create destination folder if it doesn't exist\n",
        "if not os.path.exists(path):\n",
        "  os.mkdir(path)\n",
        "  print(\"CREATED: \", path)"
      ],
      "execution_count": 1,
      "outputs": [
        {
          "output_type": "stream",
          "text": [
            "Cloning into 'DeepComedy'...\n",
            "remote: Enumerating objects: 21, done.\u001b[K\n",
            "remote: Counting objects: 100% (21/21), done.\u001b[K\n",
            "remote: Compressing objects: 100% (21/21), done.\u001b[K\n",
            "remote: Total 442 (delta 10), reused 0 (delta 0), pack-reused 421\u001b[K\n",
            "Receiving objects: 100% (442/442), 2.58 MiB | 22.99 MiB/s, done.\n",
            "Resolving deltas: 100% (71/71), done.\n",
            "CREATED:  /DeepComedyGenerated/\n"
          ],
          "name": "stdout"
        }
      ]
    },
    {
      "cell_type": "markdown",
      "metadata": {
        "id": "3rvcgFJVD2pH"
      },
      "source": [
        "#Set Hyperparameters"
      ]
    },
    {
      "cell_type": "code",
      "metadata": {
        "id": "s8RddYWrD2Hu",
        "outputId": "f8b4f13e-a20a-427d-d074-fd862d8b1bd9",
        "colab": {
          "base_uri": "https://localhost:8080/"
        }
      },
      "source": [
        "# ATTENTION: assert d_model % self.num_heads == 0\n",
        "\n",
        "num_layers_encoder = 5\n",
        "num_layers_decoder = 5\n",
        "\n",
        "d_model = 256\n",
        "dff = 512\n",
        "num_heads = 4\n",
        "dropout_rate = 0.2\n",
        "\n",
        "# One epoch is all you need\n",
        "epochs_production = 0\n",
        "epochs_comedy = 1\n",
        "\n",
        "# number of repetitions per dataset, instead of epochs\n",
        "repetitions_production = 0\n",
        "repetitions_comedy = 70\n",
        "\n",
        "# append files' names in the desired order\n",
        "myorder = []\n",
        "if epochs_production > 0:\n",
        "  # Sort files lists in custom order\n",
        "  production_list = ['tokenized_convivio.txt','tokenized_vita.txt', 'tokenized_detto.txt','tokenized_fiore.txt']\n",
        "  for filename in production_list:\n",
        "    myorder.append(filename)\n",
        "if epochs_comedy > 0:\n",
        "  myorder.append('tokenized_commedia.txt')\n",
        "print(\"myorder: \", myorder)"
      ],
      "execution_count": 2,
      "outputs": [
        {
          "output_type": "stream",
          "text": [
            "myorder:  ['tokenized_commedia.txt']\n"
          ],
          "name": "stdout"
        }
      ]
    },
    {
      "cell_type": "markdown",
      "metadata": {
        "id": "c0ql2E8f8sI3"
      },
      "source": [
        "# Load Data"
      ]
    },
    {
      "cell_type": "code",
      "metadata": {
        "id": "PQmOWPA1eA2v"
      },
      "source": [
        "# Read files and save them in list_of_lists\n",
        "def read_files(directory):\n",
        "  files_list = []\n",
        "  files_names = []\n",
        "  for filename in os.listdir(directory):\n",
        "      if filename.endswith(\".txt\"):\n",
        " \n",
        "          path_to_file = os.path.join(directory, filename)\n",
        " \n",
        "          # Read file\n",
        "          text = open(path_to_file, 'r').read().lower()\n",
        " \n",
        "          # generate list from text by splitting lines\n",
        "          text_list = text.splitlines()\n",
        "          files_list.append(text_list)\n",
        "          files_names.append(filename)\n",
        "      else:\n",
        "          continue\n",
        " \n",
        "  return files_list, files_names\n",
        "\n",
        "directory = './DeepComedy/datasets/tokenized/'\n",
        "files_list, files_names = read_files(directory)"
      ],
      "execution_count": 3,
      "outputs": []
    },
    {
      "cell_type": "markdown",
      "metadata": {
        "id": "UfJW74BYOrC7"
      },
      "source": [
        "# Functions Definitions"
      ]
    },
    {
      "cell_type": "markdown",
      "metadata": {
        "id": "-HYdRez6OyFh"
      },
      "source": [
        "## Text Processing"
      ]
    },
    {
      "cell_type": "code",
      "metadata": {
        "id": "qmsoGOcaFJrN"
      },
      "source": [
        "# Flattens list\n",
        "def flatten(data):\n",
        "  return [token for verse in data for token in verse]\n",
        "\n",
        "# Replaces special tokens with more readable ones\n",
        "def clear_text(text):\n",
        "  return text.replace('<s>', ' ').replace('<v>', '').replace('<t>','\\n').replace('</v>', '\\n').replace('~', ' ')"
      ],
      "execution_count": 4,
      "outputs": []
    },
    {
      "cell_type": "code",
      "metadata": {
        "id": "DLrXmQLxSKQ1"
      },
      "source": [
        "# Creates list of tokens from input string with tokens\n",
        "def split_tokens(data):\n",
        "  split = []\n",
        "  for verse in data:\n",
        "    split.append(verse.split(' '))\n",
        "  return split\n",
        "\n",
        "# Encodes tokens by using the vocabulary\n",
        "def encode_tokens(data):\n",
        "  encoded = []\n",
        "  for verse in data:\n",
        "    encoded.append(text_list_to_int(verse))\n",
        "  return encoded"
      ],
      "execution_count": 5,
      "outputs": []
    },
    {
      "cell_type": "code",
      "metadata": {
        "id": "GRLQ85eoKpj4"
      },
      "source": [
        "# Create vocabulary and mappings\n",
        "def create_vocab(files, myorder):\n",
        "  # flatten list_of_lists to list of tokens\n",
        "  flattened = []\n",
        "  for i, file_name in enumerate(files):\n",
        "    if file_name in myorder:\n",
        "      flattened.extend(flatten(split_tokens(files[file_name])))\n",
        "  \n",
        "  # create vocabulary\n",
        "  tokens_set = set(flattened)\n",
        "\n",
        "  # append punctuation to head of vocabulary\n",
        "  non_alphas = []\n",
        "  alphas = []\n",
        "  for token in tokens_set:\n",
        "    if not token.isalpha():\n",
        "      non_alphas.append(token)\n",
        "    else:\n",
        "      alphas.append(token)\n",
        "  punctuation = []\n",
        "  punctuated_syls = []\n",
        "  special_tokens = []\n",
        "  for token in non_alphas:\n",
        "    if len(token) == 1:\n",
        "      punctuation.append(token)\n",
        "    elif '<' in token:\n",
        "      special_tokens.append(token)\n",
        "    else:\n",
        "      punctuated_syls.append(token)\n",
        "\n",
        "  # follow with the rest of the tokens\n",
        "  alphas.extend(punctuated_syls)\n",
        "  alphas = sorted(alphas, key=len)\n",
        "  vocab = []\n",
        "  for group in [special_tokens, punctuation, alphas]:\n",
        "    vocab.extend(group)\n",
        "\n",
        "  # if missing, add empty string at position 0\n",
        "  if '' in vocab:\n",
        "    vocab.remove('')\n",
        "  vocab.insert(0, '')\n",
        "\n",
        "  vocab_size = len(vocab)\n",
        "\n",
        "  # Creating a mapping from unique characters to indices\n",
        "  str2idx = {u:i for i, u in enumerate(vocab)}\n",
        "  idx2str = np.array(vocab)\n",
        "\n",
        "  print(\"\\n\\nvocabulary size: {} tokens\".format(vocab_size))\n",
        "  print(\"\\nstr2idx:\\n\", str2idx)\n",
        "  print(\"\\nidx2str:\\n\", idx2str)\n",
        "  return vocab_size, str2idx, idx2str\n",
        "\n",
        "# Converts our text values to numeric.\n",
        "def text_list_to_int(string_list):\n",
        "  return np.array([str2idx[c] for c in string_list])\n",
        " \n",
        "# Converts our numeric values to text.\n",
        "def ints_to_text(ints):\n",
        "  try:\n",
        "    ints = ints.numpy()\n",
        "  except:\n",
        "    pass\n",
        "  return ''.join(idx2str[ints])"
      ],
      "execution_count": 6,
      "outputs": []
    },
    {
      "cell_type": "markdown",
      "metadata": {
        "id": "0h7Qth3cPFhp"
      },
      "source": [
        "## Split Input Target"
      ]
    },
    {
      "cell_type": "code",
      "metadata": {
        "id": "6U0RZ--zQux7"
      },
      "source": [
        "def create_dataset(inputs, targets, batch_size = 64, repetitions = 100):\n",
        "  # Create dataset from inputs and targets\n",
        "  dataset = tf.data.Dataset.from_tensor_slices((\n",
        "      tf.keras.preprocessing.sequence.pad_sequences(inputs), \n",
        "      tf.keras.preprocessing.sequence.pad_sequences(targets)))\n",
        "  # cache the dataset to memory to get a speedup while reading from it.\n",
        "  dataset = dataset.cache()\n",
        "  # create batched dataset and shuffle it\n",
        "  buffer_size = len(dataset)\n",
        "  dataset = dataset.shuffle(buffer_size, reshuffle_each_iteration=True).repeat(repetitions).padded_batch(batch_size, drop_remainder=True)\n",
        "  # This allows later elements to be prepared while the current is being processed.\n",
        "  dataset = dataset.prefetch(tf.data.experimental.AUTOTUNE)\n",
        "  return buffer_size, dataset"
      ],
      "execution_count": 7,
      "outputs": []
    },
    {
      "cell_type": "code",
      "metadata": {
        "id": "uD8DGqIJBgEI"
      },
      "source": [
        "# split dataset in input-target couples\n",
        "def split_input_target_comedy(text_list, inp_len=3, tar_len=4, skip=1, \n",
        "                              batch_size=64, repetitions=100):\n",
        "  \n",
        "  inputs = []\n",
        "  targets = []\n",
        "\n",
        "  # Prepare data for model (list of integers)\n",
        "  dataset = split_tokens(text_list)\n",
        "  dataset = encode_tokens(dataset)\n",
        "  \n",
        "  # Split input-target\n",
        "  for i in range(0, len(dataset)-tar_len, skip):\n",
        "    inputs.append(flatten(dataset[i:i+inp_len]))\n",
        "    targets.append(flatten(dataset[i:i+tar_len]))\n",
        "\n",
        "  # Max length of Divine Comedy verses\n",
        "  max_len = max(len(x) for x in inputs)\n",
        "\n",
        "  # Create repeated, shuffled and prefetched dataset\n",
        "  real_size, dataset = create_dataset(inputs, targets, batch_size, repetitions)\n",
        " \n",
        "  # Real dataset size (not repeated)\n",
        "  real_size_batched = int(real_size/batch_size)\n",
        "\n",
        "  return dataset, max_len, real_size_batched"
      ],
      "execution_count": 8,
      "outputs": []
    },
    {
      "cell_type": "code",
      "metadata": {
        "id": "x4gDDehmLcjO"
      },
      "source": [
        "# split dataset in input-target couples\n",
        "def split_input_target_production(datasets, inp_len=3, tar_len=3, skip=1, \n",
        "                                  batch_size=64, repetitions=100):\n",
        "  \n",
        "  datasets_list = []\n",
        "  inputs = []\n",
        "  targets = []\n",
        "\n",
        "  for text_list in datasets:\n",
        "\n",
        "    # Prepare data for model (list of integers)\n",
        "    dataset = split_tokens(text_list)\n",
        "    dataset = encode_tokens(dataset)\n",
        "    \n",
        "    # Split input-target\n",
        "    for i in range(0, len(dataset)-tar_len, skip):\n",
        "      inputs.append(flatten(dataset[i:i+inp_len]))\n",
        "      targets.append(flatten(dataset[i:i+tar_len]))\n",
        "\n",
        "  # Create repeated, shuffled and prefetched dataset\n",
        "  real_size, dataset = create_dataset(inputs, targets, batch_size, repetitions)\n",
        " \n",
        "  # Real dataset size (not repeated)\n",
        "  real_size_batched = int(real_size/batch_size)\n",
        "\n",
        "  return dataset, real_size_batched"
      ],
      "execution_count": 9,
      "outputs": []
    },
    {
      "cell_type": "markdown",
      "metadata": {
        "id": "ozCuv-4-_KOX"
      },
      "source": [
        "# Datasets Creation"
      ]
    },
    {
      "cell_type": "code",
      "metadata": {
        "id": "PDMbg480_J63",
        "outputId": "79b80d7e-07d6-4be3-e084-441ff18ca1d3",
        "colab": {
          "base_uri": "https://localhost:8080/"
        }
      },
      "source": [
        "# Create files dictionary\n",
        "files = {files_names[i]:files_list[i] for i in range(len(files_names))}\n",
        "\n",
        "# Create vocabularies\n",
        "vocab_size, str2idx, idx2str = create_vocab(files, myorder)\n",
        "\n",
        "# Print files' names and texts\n",
        "print(\"\\n\\n{}\".format('='*100))\n",
        "print(\"\\nFiles: \", len(files))\n",
        "print(\"Files names:\")\n",
        "for i, file_name in enumerate(files):\n",
        "  print(\"\\t{}- {}\".format(i+1, file_name))\n",
        "print(\"\\n\\n{}\".format('='*100))"
      ],
      "execution_count": 10,
      "outputs": [
        {
          "output_type": "stream",
          "text": [
            "\n",
            "\n",
            "vocabulary size: 5164 tokens\n",
            "\n",
            "str2idx:\n",
            " {'': 0, '<t>': 1, '<s>': 2, '</v>': 3, '<v>': 4, '\"': 5, ',': 6, \"'\": 7, '?': 8, ':': 9, '!': 10, ';': 11, '.': 12, 'i': 13, 'm': 14, 'n': 15, 'b': 16, 'ò': 17, 'u': 18, 'é': 19, 'l': 20, 'r': 21, 'e': 22, 'ì': 23, 'ó': 24, 'c': 25, 'è': 26, 'ù': 27, 't': 28, 'p': 29, 'a': 30, 'd': 31, 'o': 32, 'à': 33, 'h': 34, 's': 35, 'bi': 36, 'nì': 37, 'ìn': 38, 'tè': 39, 'ee': 40, 'fà': 41, 'ti': 42, 'dò': 43, 'po': 44, 'pe': 45, 'ge': 46, 'sè': 47, 'de': 48, 'pè': 49, 'tù': 50, 'ùn': 51, 'va': 52, 'sé': 53, 'bà': 54, 'té': 55, 'eu': 56, 'cù': 57, 'be': 58, 'vó': 59, 'zè': 60, 'am': 61, 'so': 62, 'fó': 63, 'ev': 64, 'ie': 65, 'én': 66, 'of': 67, 'só': 68, 'ès': 69, 'zo': 70, 'àt': 71, 'hi': 72, 'io': 73, 'ce': 74, 've': 75, 'fù': 76, 'ir': 77, 'ém': 78, 'go': 79, 'ùr': 80, 'mì': 81, 'fu': 82, 'ob': 83, 'có': 84, 'iu': 85, 'un': 86, 'fì': 87, 'pé': 88, 'gi': 89, 'tu': 90, 'ma': 91, 'af': 92, 'dó': 93, 'ré': 94, 'dé': 95, 'az': 96, 'me': 97, 'pu': 98, 'ur': 99, 'gì': 100, 'tì': 101, 'co': 102, 'da': 103, 'or': 104, 'oh': 105, 'es': 106, 'ne': 107, 'ia': 108, 'su': 109, 'ro': 110, 'ta': 111, 'gu': 112, 'nu': 113, 'gà': 114, 'zò': 115, 'fé': 116, 'pì': 117, 'ci': 118, 'do': 119, 'ad': 120, 'at': 121, 'àu': 122, 'àm': 123, 'gó': 124, 'òc': 125, 'fo': 126, 'rè': 127, 'fè': 128, 'sò': 129, 'dì': 130, 'ac': 131, 'fi': 132, 'gè': 133, 'ja': 134, 'mà': 135, 'ga': 136, 'dà': 137, 'ca': 138, 'ìs': 139, 'sì': 140, 'ni': 141, 'él': 142, 'an': 143, 'vi': 144, 'tó': 145, 'lè': 146, 'và': 147, 'se': 148, 'òg': 149, 'ha': 150, 'tà': 151, 'os': 152, 'in': 153, 'dè': 154, 'èl': 155, 'ul': 156, 'du': 157, 'cè': 158, 'cà': 159, 'on': 160, 'lò': 161, 'ol': 162, 'ch': 163, 'òt': 164, 'uo': 165, 'àn': 166, 'zó': 167, 'ei': 168, 'uò': 169, 'vé': 170, 'ìm': 171, 'óm': 172, 'iò': 173, 'si': 174, 'en': 175, 'fò': 176, 'mo': 177, 'bì': 178, 'èc': 179, 'vì': 180, 'ze': 181, 'ón': 182, 'lu': 183, 'ér': 184, 'ià': 185, 'ba': 186, 'ab': 187, 'ru': 188, 'ap': 189, 'et': 190, 'ól': 191, 'no': 192, 'lo': 193, 'zà': 194, 'id': 195, 'pi': 196, 'au': 197, 'ag': 198, 'xi': 199, 'nù': 200, 'rò': 201, 'te': 202, 'ex': 203, 'vo': 204, 'ar': 205, 'to': 206, 'bé': 207, 'dù': 208, 'na': 209, 'om': 210, 'ra': 211, 'oc': 212, 'ef': 213, 'el': 214, 'mi': 215, 'mé': 216, 'ho': 217, 'pù': 218, 'nó': 219, 'òr': 220, 'àc': 221, 'là': 222, 'la': 223, 'mò': 224, 'mu': 225, 'th': 226, 'fa': 227, 'pò': 228, 'vù': 229, 'és': 230, 'èn': 231, 'ló': 232, 'ri': 233, 'zi': 234, 'al': 235, 'li': 236, 'qu': 237, 'tò': 238, 'ró': 239, 'im': 240, 'ór': 241, 'mù': 242, 'ec': 243, 'èr': 244, 'og': 245, 'né': 246, 'pa': 247, 'lé': 248, 'vò': 249, 'sà': 250, 'ai': 251, 'rì': 252, 'bù': 253, 'bò': 254, 'rù': 255, 'sù': 256, 'cu': 257, 'er': 258, 'lù': 259, 'ot': 260, 'gò': 261, 'em': 262, 'bu': 263, 'za': 264, 'nè': 265, 'bo': 266, 'ed': 267, 'pó': 268, 'pà': 269, 'àl': 270, 'us': 271, 'ue': 272, 'nò': 273, 'àr': 274, 'sa': 275, 'bó': 276, 'iù': 277, 'cì': 278, 'lì': 279, 'èu': 280, 'av': 281, 'vè': 282, 'sc': 283, 'eb': 284, 'bè': 285, 'le': 286, 'vu': 287, 'um': 288, 'rà': 289, 'op': 290, 'gù': 291, 'di': 292, 'as': 293, 'fe': 294, 'il': 295, 'cò': 296, 're': 297, 'jo': 298, 'mè': 299, 'mó': 300, 'od': 301, 'gé': 302, 'cé': 303, 'nà': 304, \"'l\": 305, \"u'\": 306, \"e'\": 307, \"'e\": 308, \"'n\": 309, \"t'\": 310, \"a'\": 311, \"s'\": 312, \"i'\": 313, \"'m\": 314, \"'o\": 315, \"'a\": 316, 'mam': 317, 'tur': 318, 'soc': 319, 'fet': 320, 'pón': 321, 'dai': 322, 'vor': 323, 'sèt': 324, 'tés': 325, 'drà': 326, 'lot': 327, 'ser': 328, 'cer': 329, 'crà': 330, 'gma': 331, 'cul': 332, 'vàg': 333, 'ciè': 334, 'pòt': 335, 'dàn': 336, 'sve': 337, 'lor': 338, 'scù': 339, 'pog': 340, 'nùl': 341, 'pop': 342, 'niè': 343, 'tad': 344, 'rém': 345, 'vai': 346, 'fuc': 347, 'spi': 348, 'dii': 349, 'sab': 350, 'gàb': 351, 'nit': 352, 'pàs': 353, 'pae': 354, 'tró': 355, 'nec': 356, 'mao': 357, 'san': 358, 'rós': 359, 'chè': 360, 'bis': 361, 'cèl': 362, 'vég': 363, 'sus': 364, 'gón': 365, 'rag': 366, 'tau': 367, 'svo': 368, 'guz': 369, 'dop': 370, 'fém': 371, 'sug': 372, 'cor': 373, 'sti': 374, 'sài': 375, 'cir': 376, 'nic': 377, 'sma': 378, 'lau': 379, 'tio': 380, 'nio': 381, 'rui': 382, 'prì': 383, 'luò': 384, 'pal': 385, 'tàc': 386, 'vin': 387, 'sai': 388, 'tàt': 389, 'giz': 390, 'gua': 391, 'diè': 392, 'sis': 393, 'tìn': 394, 'zuc': 395, 'cot': 396, 'lic': 397, 'tèn': 398, 'vòr': 399, 'gad': 400, 'tec': 401, 'gim': 402, 'ris': 403, 'lìm': 404, 'bei': 405, 'nié': 406, 'rab': 407, 'lus': 408, 'dil': 409, 'sos': 410, 'scu': 411, 'biè': 412, 'dùr': 413, 'nuc': 414, 'fuò': 415, 'bar': 416, 'tuf': 417, 'spa': 418, 'gom': 419, 'plò': 420, 'sór': 421, 'pul': 422, 'peg': 423, 'vil': 424, 'pén': 425, 'mài': 426, 'lir': 427, 'chì': 428, 'cia': 429, 'guc': 430, 'bir': 431, 'fib': 432, 'tas': 433, 'tis': 434, 'dan': 435, 'lam': 436, 'gàl': 437, 'agi': 438, 'bàn': 439, 'vàc': 440, 'fio': 441, 'gno': 442, 'sén': 443, 'fèr': 444, 'cér': 445, 'vac': 446, 'pio': 447, 'nol': 448, 'mor': 449, 'sog': 450, 'rio': 451, 'stè': 452, 'làb': 453, 'gob': 454, 'prò': 455, 'qué': 456, 'fùg': 457, 'cad': 458, 'lut': 459, 'tra': 460, 'grà': 461, 'mum': 462, 'man': 463, 'ràg': 464, 'fiò': 465, 'dén': 466, 'deg': 467, 'nòz': 468, 'crè': 469, 'sam': 470, 'tem': 471, 'lab': 472, 'pil': 473, 'mes': 474, 'teo': 475, 'leu': 476, 'vel': 477, 'ten': 478, 'rol': 479, 'che': 480, 'sùp': 481, 'mòt': 482, 'vrì': 483, 'rie': 484, 'neo': 485, 'gat': 486, 'der': 487, 'cré': 488, 'règ': 489, 'cis': 490, 'sòn': 491, 'tòl': 492, 'mòl': 493, 'mag': 494, 'suc': 495, 'bió': 496, 'cór': 497, 'for': 498, 'vuo': 499, 'meg': 500, 'glo': 501, 'pur': 502, 'ril': 503, 'pli': 504, 'leb': 505, 'soa': 506, 'sop': 507, 'cra': 508, 'par': 509, 'fam': 510, 'git': 511, 'nun': 512, 'det': 513, 'mòz': 514, 'làz': 515, 'ròc': 516, 'men': 517, 'gèl': 518, 'put': 519, 'rav': 520, 'dus': 521, 'muo': 522, 'sup': 523, 'vàm': 524, 'lia': 525, 'ren': 526, 'bev': 527, 'frò': 528, 'vìt': 529, 'biò': 530, 'fès': 531, 'tàn': 532, 'giu': 533, 'fùm': 534, 'léz': 535, 'sto': 536, 'dug': 537, 'bèr': 538, 'peo': 539, 'sno': 540, 'nob': 541, 'tom': 542, 'bao': 543, 'céz': 544, 'dió': 545, 'vea': 546, 'bri': 547, 'séz': 548, 'lór': 549, 'béc': 550, 'nai': 551, 'dos': 552, 'niz': 553, 'bòl': 554, 'cét': 555, 'cag': 556, 'nos': 557, 'mun': 558, 'fèb': 559, 'zàr': 560, 'néi': 561, 'bàr': 562, 'sot': 563, 'làc': 564, 'doc': 565, 'dal': 566, 'gàn': 567, 'lon': 568, 'pic': 569, 'gar': 570, 'vàr': 571, 'sùd': 572, 'tum': 573, 'fat': 574, 'giù': 575, 'que': 576, 'clì': 577, 'cil': 578, 'des': 579, 'pos': 580, 'rac': 581, 'len': 582, 'mem': 583, 'spó': 584, 'tal': 585, 'teg': 586, 'saù': 587, 'sfe': 588, 'rom': 589, 'nau': 590, 'néc': 591, 'ciò': 592, 'gré': 593, 'ret': 594, 'gia': 595, 'reo': 596, 'mas': 597, 'pér': 598, 'sei': 599, 'tie': 600, 'dut': 601, 'bre': 602, 'tel': 603, 'tii': 604, 'poi': 605, 'vén': 606, 'cle': 607, 'prà': 608, 'bug': 609, 'can': 610, 'col': 611, 'dee': 612, 'pià': 613, 'bon': 614, 'dez': 615, 'gyp': 616, 'ric': 617, 'drù': 618, 'bia': 619, 'èst': 620, 'tóm': 621, 'sóf': 622, 'ful': 623, 'sur': 624, 'sfo': 625, 'cac': 626, 'nul': 627, 'noc': 628, 'ruf': 629, 'cio': 630, 'déi': 631, 'rir': 632, 'lèt': 633, 'lei': 634, 'tez': 635, 'tut': 636, 'han': 637, 'cla': 638, 'fés': 639, 'pàt': 640, 'nói': 641, 'vio': 642, 'sco': 643, 'rìg': 644, 'von': 645, 'póz': 646, 'giò': 647, 'lòc': 648, 'vol': 649, 'màt': 650, 'pro': 651, 'guà': 652, 'sov': 653, 'seg': 654, 'ghi': 655, 'pra': 656, 'fàl': 657, 'das': 658, 'mer': 659, 'fàt': 660, 'làm': 661, 'due': 662, 'rap': 663, 'pré': 664, 'gis': 665, 'tei': 666, 'gnà': 667, 'mia': 668, 'aiu': 669, 'dui': 670, 'rai': 671, 'rob': 672, 'gnì': 673, 'pia': 674, 'pri': 675, 'nir': 676, 'cìl': 677, 'sèm': 678, 'tim': 679, 'net': 680, 'àrd': 681, 'din': 682, 'mèr': 683, 'sor': 684, 'crò': 685, 'fùl': 686, 'gór': 687, 'tho': 688, 'màn': 689, 'pem': 690, 'mil': 691, 'cat': 692, 'fee': 693, 'nàr': 694, 'spo': 695, 'lea': 696, 'pen': 697, 'nua': 698, 'frù': 699, 'sàu': 700, 'fau': 701, 'tui': 702, 'lét': 703, 'sof': 704, 'lip': 705, 'dur': 706, 'pèg': 707, 'brì': 708, 'vec': 709, 'sar': 710, 'bèl': 711, 'cró': 712, 'luc': 713, 'gem': 714, 'flu': 715, 'muò': 716, 'fuo': 717, 'coc': 718, 'smi': 719, 'stò': 720, 'mén': 721, 'miè': 722, 'mèm': 723, 'ses': 724, 'lóm': 725, 'tiè': 726, 'bèn': 727, 'nac': 728, 'lìc': 729, 'lòi': 730, 'làu': 731, 'gnò': 732, 'lùn': 733, 'rup': 734, 'cos': 735, 'crù': 736, 'ral': 737, 'vér': 738, 'quò': 739, 'fon': 740, 'noa': 741, 'més': 742, 'crì': 743, 'tol': 744, 'pìn': 745, 'dri': 746, 'raf': 747, 'càl': 748, 'rón': 749, 'sdé': 750, 'liè': 751, 'nòc': 752, 'tor': 753, 'mez': 754, 'vid': 755, 'cel': 756, 'lan': 757, 'chi': 758, 'vra': 759, 'zar': 760, 'cìs': 761, 'nòr': 762, 'sna': 763, 'pùn': 764, 'lem': 765, 'rei': 766, 'dom': 767, 'sit': 768, 'spì': 769, 'cop': 770, 'sep': 771, 'fòl': 772, 'dem': 773, 'lac': 774, 'lón': 775, 'nèn': 776, 'sgo': 777, 'rea': 778, 'cin': 779, 'pól': 780, 'vét': 781, 'gue': 782, 'hon': 783, 'dob': 784, 'sga': 785, 'mùf': 786, 'pòi': 787, 'ròg': 788, 'top': 789, 'dre': 790, 'guì': 791, 'sde': 792, 'lie': 793, 'dèr': 794, 'scé': 795, 'pau': 796, 'van': 797, 'rió': 798, 'vìn': 799, 'zur': 800, 'cuc': 801, 'gau': 802, 'póp': 803, 'muc': 804, 'cut': 805, 'bàl': 806, 'vèn': 807, 'quà': 808, 'laz': 809, 'róg': 810, 'nil': 811, 'nùn': 812, 'sèi': 813, 'cem': 814, 'làs': 815, 'dei': 816, 'zùr': 817, 'svi': 818, 'sté': 819, 'fra': 820, 'fòn': 821, 'tan': 822, 'bat': 823, 'riz': 824, 'rlo': 825, 'stù': 826, 'nèl': 827, 'del': 828, 'gib': 829, 'gàz': 830, 'tòr': 831, 'càc': 832, 'mue': 833, 'còr': 834, 'rem': 835, 'gro': 836, 'boz': 837, 'gas': 838, 'sod': 839, 'got': 840, 'nió': 841, 'spu': 842, 'còc': 843, 'lim': 844, 'spà': 845, 'ler': 846, 'mèl': 847, 'sob': 848, 'vèm': 849, 'fan': 850, 'gòr': 851, 'mól': 852, 'sat': 853, 'nìg': 854, 'mic': 855, 'dót': 856, 'lil': 857, 'mìr': 858, 'veg': 859, 'pàl': 860, 'dua': 861, 'rla': 862, 'vom': 863, 'pom': 864, 'lul': 865, 'góc': 866, 'tre': 867, 'zai': 868, 'pèn': 869, 'pin': 870, 'rer': 871, 'fas': 872, 'sic': 873, 'seo': 874, 'dòn': 875, 'plè': 876, 'dùb': 877, 'not': 878, 'tag': 879, 'tùn': 880, 'lìs': 881, 'mèz': 882, 'lèn': 883, 'tac': 884, 'zuf': 885, 'pel': 886, 'raz': 887, 'tàu': 888, 'fri': 889, 'poc': 890, 'stì': 891, 'déz': 892, 'ban': 893, 'bru': 894, 'den': 895, 'ian': 896, 'uom': 897, 'zel': 898, 'brè': 899, 'sce': 900, 'goc': 901, 'dùt': 902, 'nàg': 903, 'gre': 904, 'mos': 905, 'fun': 906, 'num': 907, 'sme': 908, 'bac': 909, 'pòr': 910, 'dém': 911, 'bie': 912, 'tun': 913, 'soz': 914, 'bàc': 915, 'mir': 916, 'vis': 917, 'màg': 918, 'nón': 919, 'rec': 920, 'gnù': 921, 'mio': 922, 'tég': 923, 'deo': 924, 'mai': 925, 'biz': 926, 'gin': 927, 'neg': 928, 'min': 929, 'nan': 930, 'mon': 931, 'let': 932, 'sba': 933, 'cèr': 934, 'rug': 935, 'siè': 936, 'sèg': 937, 'gla': 938, 'bec': 939, 'tsi': 940, 'grè': 941, 'lop': 942, 'gel': 943, 'fis': 944, 'tuo': 945, 'xil': 946, 'pùc': 947, 'pùl': 948, 'buf': 949, 'sùr': 950, 'bàt': 951, 'dif': 952, 'ner': 953, 'maì': 954, 'nef': 955, 'mol': 956, 'rin': 957, 'sém': 958, 'cen': 959, 'bel': 960, 'qua': 961, 'fàc': 962, 'buò': 963, 'tàr': 964, 'gor': 965, 'spè': 966, 'brò': 967, 'cro': 968, 'pir': 969, 'vei': 970, 'mèi': 971, 'car': 972, 'gnu': 973, 'voi': 974, 'mea': 975, 'pun': 976, 'gra': 977, 'fig': 978, 'gni': 979, 'nez': 980, 'dul': 981, 'pec': 982, 'pea': 983, 'fin': 984, 'mar': 985, 'lui': 986, 'tóc': 987, 'vrà': 988, 'dra': 989, 'trò': 990, 'fià': 991, 'ció': 992, 'ghe': 993, 'sèr': 994, 'nle': 995, 'til': 996, 'ras': 997, 'feb': 998, 'mii': 999, 'lom': 1000, 'sen': 1001, 'get': 1002, 'dau': 1003, 'feg': 1004, 'cie': 1005, 'red': 1006, 'nen': 1007, 'cià': 1008, 'meo': 1009, 'cès': 1010, 'lup': 1011, 'tèr': 1012, 'pàn': 1013, 'nól': 1014, 'cèt': 1015, 'gil': 1016, 'lat': 1017, 'moz': 1018, 'vól': 1019, 'dov': 1020, 'fes': 1021, 'drò': 1022, 'nem': 1023, 'bàs': 1024, 'ciu': 1025, 'bùl': 1026, 'fre': 1027, 'mòs': 1028, 'coz': 1029, 'pùb': 1030, 'può': 1031, 'zie': 1032, 'neb': 1033, 'frì': 1034, 'làn': 1035, 'pùz': 1036, 'cre': 1037, 'feo': 1038, 'ros': 1039, 'lìn': 1040, 'lài': 1041, 'mal': 1042, 'zac': 1043, 'fón': 1044, 'plu': 1045, 'càu': 1046, 'tòp': 1047, 'dub': 1048, 'nel': 1049, 'pèt': 1050, 'sól': 1051, 'puz': 1052, 'sul': 1053, 'sér': 1054, 'ràt': 1055, 'pis': 1056, 'sta': 1057, 'paz': 1058, 'sem': 1059, 'rao': 1060, 'bue': 1061, 'cal': 1062, 'unì': 1063, 'cèf': 1064, 'ste': 1065, 'gól': 1066, 'bùc': 1067, 'nur': 1068, 'cam': 1069, 'tia': 1070, 'sfa': 1071, 'vas': 1072, 'nii': 1073, 'pìl': 1074, 'set': 1075, 'lur': 1076, 'ceo': 1077, 'dòs': 1078, 'sca': 1079, 'sum': 1080, 'meu': 1081, 'tón': 1082, 'tar': 1083, 'ron': 1084, 'trà': 1085, 'già': 1086, 'nis': 1087, 'più': 1088, 'pìr': 1089, 'sàn': 1090, 'res': 1091, 'scó': 1092, 'por': 1093, 'suo': 1094, 'cob': 1095, 'fòr': 1096, 'sio': 1097, 'pat': 1098, 'sàl': 1099, 'nin': 1100, 'bùt': 1101, 'fac': 1102, 'rat': 1103, 'pes': 1104, 'rof': 1105, 'tàg': 1106, 'vat': 1107, 'dor': 1108, 'smu': 1109, 'dit': 1110, 'cai': 1111, 'zaf': 1112, 'vos': 1113, 'gio': 1114, 'prè': 1115, 'lis': 1116, 'nuo': 1117, 'càm': 1118, 'pue': 1119, 'nom': 1120, 'toa': 1121, 'dec': 1122, 'ien': 1123, 'poe': 1124, 'brù': 1125, 'via': 1126, 'tos': 1127, 'pot': 1128, 'sap': 1129, 'nor': 1130, 'gne': 1131, 'sua': 1132, 'dia': 1133, 'téz': 1134, 'dià': 1135, 'fol': 1136, 'dam': 1137, 'stà': 1138, 'pèr': 1139, 'suè': 1140, 'sal': 1141, 'cur': 1142, 'sas': 1143, 'màz': 1144, 'sìl': 1145, 'glò': 1146, 'lar': 1147, 'fal': 1148, 'bal': 1149, 'fie': 1150, 'mel': 1151, 'tuó': 1152, 'pru': 1153, 'gae': 1154, 'pon': 1155, 'tuc': 1156, 'fil': 1157, 'ché': 1158, 'ven': 1159, 'zio': 1160, 'sin': 1161, 'scà': 1162, 'pet': 1163, 'dét': 1164, 'bùf': 1165, 'ter': 1166, 'sil': 1167, 'leg': 1168, 'lùi': 1169, 'rim': 1170, 'nea': 1171, 'suf': 1172, 'vàn': 1173, 'non': 1174, 'dàr': 1175, 'guo': 1176, 'sie': 1177, 'fos': 1178, 'fòg': 1179, 'ves': 1180, 'gàg': 1181, 'bli': 1182, 'sòl': 1183, 'cép': 1184, 'vet': 1185, 'bun': 1186, 'rèl': 1187, 'hài': 1188, 'bià': 1189, 'pan': 1190, 'néb': 1191, 'fiu': 1192, 'fug': 1193, 'làt': 1194, 'goz': 1195, 'còt': 1196, 'lià': 1197, 'cru': 1198, 'fit': 1199, 'zàn': 1200, 'pòs': 1201, 'réz': 1202, 'ran': 1203, 'lec': 1204, 'sàc': 1205, 'nra': 1206, 'buc': 1207, 'dio': 1208, 'bór': 1209, 'gir': 1210, 'nie': 1211, 'bol': 1212, 'plù': 1213, 'doa': 1214, 'slà': 1215, 'fei': 1216, 'sèl': 1217, 'bio': 1218, 'dol': 1219, 'pas': 1220, 'iuo': 1221, 'fum': 1222, 'boè': 1223, 'vul': 1224, 'sòr': 1225, 'tré': 1226, 'vag': 1227, 'lìp': 1228, 'nli': 1229, 'son': 1230, 'dàt': 1231, 'gna': 1232, 'lin': 1233, 'gam': 1234, 'qui': 1235, 'mét': 1236, 'pàu': 1237, 'dól': 1238, 'cól': 1239, 'lio': 1240, 'rit': 1241, 'mug': 1242, 'pór': 1243, 'gèt': 1244, 'fel': 1245, 'bré': 1246, 'zón': 1247, 'pòn': 1248, 'ghì': 1249, 'lèi': 1250, 'cum': 1251, 'gen': 1252, 'fle': 1253, 'sàs': 1254, 'rau': 1255, 'bur': 1256, 'toc': 1257, 'fòs': 1258, 'roi': 1259, 'raa': 1260, 'sió': 1261, 'gàu': 1262, 'rót': 1263, 'ràn': 1264, 'cap': 1265, 'dél': 1266, 'vam': 1267, 'noi': 1268, 'nes': 1269, 'gal': 1270, 'fur': 1271, 'fól': 1272, 'lég': 1273, 'nas': 1274, 'rez': 1275, 'zió': 1276, 'cén': 1277, 'quì': 1278, 'nèt': 1279, 'càr': 1280, 'lee': 1281, 'tèl': 1282, 'spé': 1283, 'hae': 1284, 'var': 1285, 'grù': 1286, 'cun': 1287, 'ruò': 1288, 'ràl': 1289, 'fog': 1290, 'nia': 1291, 'bin': 1292, 'dot': 1293, 'fen': 1294, 'puc': 1295, 'stó': 1296, 'pél': 1297, 'sue': 1298, 'sia': 1299, 'ràb': 1300, 'cef': 1301, 'fia': 1302, 'met': 1303, 'ria': 1304, 'lòp': 1305, 'viz': 1306, 'far': 1307, 'bro': 1308, 'sec': 1309, 'dùn': 1310, 'fai': 1311, 'ces': 1312, 'fìs': 1313, 'sóm': 1314, 'puo': 1315, 'gèn': 1316, 'bèf': 1317, 'sag': 1318, 'gri': 1319, 'cói': 1320, 'bóc': 1321, 'sun': 1322, 'rég': 1323, 'leo': 1324, 'coi': 1325, 'mat': 1326, 'gèm': 1327, 'vèc': 1328, 'gan': 1329, 'lun': 1330, 'còi': 1331, 'tàl': 1332, 'pac': 1333, 'tue': 1334, 'cìn': 1335, 'tet': 1336, 'nal': 1337, 'muf': 1338, 'nlo': 1339, 'vìl': 1340, 'sir': 1341, 'vìs': 1342, 'ràf': 1343, 'sbi': 1344, 'suò': 1345, 'rum': 1346, 'boa': 1347, 'gie': 1348, 'run': 1349, 'ber': 1350, 'dóp': 1351, 'spe': 1352, 'deb': 1353, 'per': 1354, 'stu': 1355, 'gru': 1356, 'sui': 1357, 'mie': 1358, 'cón': 1359, 'rèt': 1360, 'dir': 1361, 'rli': 1362, 'nèr': 1363, 'dès': 1364, 'nim': 1365, 'fom': 1366, 'rid': 1367, 'cli': 1368, 'duò': 1369, 'reb': 1370, 'pit': 1371, 'cri': 1372, 'pòg': 1373, 'bró': 1374, 'zul': 1375, 'ges': 1376, 'rut': 1377, 'but': 1378, 'fàr': 1379, 'tua': 1380, 'bra': 1381, 'pèc': 1382, 'vèr': 1383, 'mìl': 1384, 'las': 1385, 'mae': 1386, 'pre': 1387, 'fél': 1388, 'fro': 1389, 'tro': 1390, 'duo': 1391, 'cóc': 1392, 'ben': 1393, 'ton': 1394, 'pla': 1395, 'noè': 1396, 'gui': 1397, 'moi': 1398, 'dun': 1399, 'sel': 1400, 'fla': 1401, 'vùl': 1402, 'drì': 1403, 'gió': 1404, 'ier': 1405, 'vre': 1406, 'vèl': 1407, 'gon': 1408, 'sub': 1409, 'fem': 1410, 'séc': 1411, 'món': 1412, 'dea': 1413, 'saf': 1414, 'lap': 1415, 'mèn': 1416, 'vir': 1417, 'sii': 1418, 'còl': 1419, 'lém': 1420, 'trì': 1421, 'rot': 1422, 'tin': 1423, 'pùr': 1424, 'bor': 1425, 'smo': 1426, 'sót': 1427, 'frà': 1428, 'ror': 1429, 'lel': 1430, 'luo': 1431, 'piu': 1432, 'diz': 1433, 'bom': 1434, 'fìt': 1435, 'nìc': 1436, 'bab': 1437, 'sùn': 1438, 'ciù': 1439, 'tus': 1440, 'nat': 1441, 'bil': 1442, 'fui': 1443, 'cau': 1444, 'cic': 1445, 'vit': 1446, 'ger': 1447, 'zia': 1448, 'clo': 1449, 'scò': 1450, 'què': 1451, 'luz': 1452, 'nél': 1453, 'gìl': 1454, 'sac': 1455, 'tai': 1456, 'ion': 1457, 'réc': 1458, 'fiù': 1459, 'cùl': 1460, 'ruo': 1461, 'rèn': 1462, 'màr': 1463, 'trù': 1464, 'ram': 1465, 'nàc': 1466, 'fió': 1467, 'clu': 1468, 'sél': 1469, 'fór': 1470, 'rel': 1471, 'lit': 1472, 'boc': 1473, 'tam': 1474, 'cèn': 1475, 'tùr': 1476, 'làr': 1477, 'fèn': 1478, 'cit': 1479, 'com': 1480, 'fue': 1481, 'rle': 1482, 'cas': 1483, 'fré': 1484, 'bas': 1485, 'lep': 1486, 'róz': 1487, 'fùr': 1488, 'reg': 1489, 'vie': 1490, 'cuò': 1491, 'guò': 1492, 'tir': 1493, 'nès': 1494, 'die': 1495, 'gli': 1496, 'rig': 1497, 'buo': 1498, 'vàl': 1499, 'brà': 1500, 'bui': 1501, 'zon': 1502, 'snà': 1503, 'sàg': 1504, 'càn': 1505, 'mul': 1506, 'nar': 1507, 'dar': 1508, 'róf': 1509, 'vem': 1510, 'còs': 1511, 'tes': 1512, 'riu': 1513, 'mee': 1514, 'sle': 1515, 'nòt': 1516, 'rar': 1517, 'maz': 1518, 'rài': 1519, 'hai': 1520, 'plà': 1521, 'mot': 1522, 'tài': 1523, 'scì': 1524, 'fèt': 1525, 'sèn': 1526, 'iàl': 1527, 'zan': 1528, 'cùn': 1529, 'tic': 1530, 'gol': 1531, 'cea': 1532, 'nét': 1533, 'ver': 1534, 'dìt': 1535, 'sez': 1536, 'véz': 1537, 'nuò': 1538, 'don': 1539, 'viè': 1540, 'rìt': 1541, 'fic': 1542, 'dèn': 1543, 'nei': 1544, 'tri': 1545, 'bet': 1546, 'nha': 1547, 'rib': 1548, 'piè': 1549, 'vii': 1550, 'fer': 1551, 'càs': 1552, 'bot': 1553, 'val': 1554, 'vòl': 1555, 'mòr': 1556, 'les': 1557, 'dim': 1558, 'gea': 1559, 'cet': 1560, 'còz': 1561, 'sci': 1562, 'grì': 1563, 'ruc': 1564, 'pàr': 1565, 'fru': 1566, 'lès': 1567, 'som': 1568, 'tlè': 1569, 'roc': 1570, 'tór': 1571, 'bìs': 1572, 'lez': 1573, 'rog': 1574, 'cìr': 1575, 'gìb': 1576, 'cuo': 1577, 'gur': 1578, 'dic': 1579, 'sfà': 1580, 'fér': 1581, 'tùt': 1582, 'piò': 1583, 'nàn': 1584, 'zòn': 1585, 'pol': 1586, 'gnó': 1587, 'sau': 1588, 'lai': 1589, 'caf': 1590, 'omè': 1591, 'ple': 1592, 'dis': 1593, 'fiè': 1594, 'bea': 1595, 'dro': 1596, 'spù': 1597, 'viò': 1598, 'sol': 1599, 'sla': 1600, 'sét': 1601, 'pie': 1602, 'sra': 1603, 'cùi': 1604, 'bóm': 1605, 'mac': 1606, 'con': 1607, 'bèi': 1608, 'tèm': 1609, 'piz': 1610, 'cui': 1611, 'rìc': 1612, 'fìa': 1613, 'plo': 1614, 'fàn': 1615, 'fàb': 1616, \"'po\": 1617, \"me'\": 1618, \"'ul\": 1619, \"d'a\": 1620, \"po'\": 1621, 'i~o': 1622, \"t'è\": 1623, \"'tu\": 1624, \"'ne\": 1625, \"fe'\": 1626, \"s'u\": 1627, \"l'a\": 1628, \"su'\": 1629, \"cu'\": 1630, \"s'e\": 1631, \"n'u\": 1632, \"'la\": 1633, 'a~e': 1634, \"ne'\": 1635, 'o~i': 1636, \"s'o\": 1637, \"m'i\": 1638, \"'so\": 1639, \"ha'\": 1640, \"mi'\": 1641, \"ma'\": 1642, \"na'\": 1643, \"'an\": 1644, \"lu'\": 1645, \"'di\": 1646, \"c'è\": 1647, 'o~e': 1648, \"t'a\": 1649, \"s'a\": 1650, \"d'u\": 1651, \"fa'\": 1652, \"m'o\": 1653, \"l'u\": 1654, \"'mi\": 1655, \"sa'\": 1656, \"ve'\": 1657, \"la'\": 1658, 'e~e': 1659, 'a~u': 1660, \"gi'\": 1661, \"fu'\": 1662, \"z'i\": 1663, \"'ec\": 1664, \"'se\": 1665, 'a~i': 1666, \"l'e\": 1667, 'i~a': 1668, \"'si\": 1669, 'e~a': 1670, \"ta'\": 1671, \"'re\": 1672, \"z'a\": 1673, \"d'e\": 1674, \"du'\": 1675, \"s'i\": 1676, \"co'\": 1677, \"'ve\": 1678, \"n'a\": 1679, 'i~u': 1680, \"ce'\": 1681, \"'ma\": 1682, \"se'\": 1683, \"'al\": 1684, \"re'\": 1685, \"'in\": 1686, \"'pe\": 1687, \"pa'\": 1688, \"tr'\": 1689, \"vr'\": 1690, \"lì'\": 1691, 'e~o': 1692, \"'be\": 1693, 'o~a': 1694, \"ga'\": 1695, \"d'i\": 1696, \"li'\": 1697, 'e~u': 1698, \"do'\": 1699, \"'go\": 1700, \"l'o\": 1701, \"'io\": 1702, \"vi'\": 1703, \"v'a\": 1704, \"ci'\": 1705, \"'is\": 1706, \"t'e\": 1707, \"fi'\": 1708, \"le'\": 1709, \"to'\": 1710, \"'co\": 1711, 'e~i': 1712, \"ni'\": 1713, \"pe'\": 1714, 'a~a': 1715, \"'te\": 1716, \"da'\": 1717, 'a~o': 1718, \"te'\": 1719, \"'ta\": 1720, \"no'\": 1721, \"m'è\": 1722, \"'no\": 1723, \"de'\": 1724, \"'vi\": 1725, 'i~e': 1726, \"v'e\": 1727, \"uo'\": 1728, 'o~u': 1729, \"'i'\": 1730, \"ri'\": 1731, \"l'i\": 1732, \"vo'\": 1733, \"'e'\": 1734, \"n'è\": 1735, \"t'i\": 1736, 'i~i': 1737, \"z'o\": 1738, \"va'\": 1739, \"s'è\": 1740, \"l'è\": 1741, \"so'\": 1742, \"m'a\": 1743, \"v'o\": 1744, \"m'e\": 1745, \"n'e\": 1746, \"di'\": 1747, \"mo'\": 1748, \"'mo\": 1749, \"t'o\": 1750, \"ti'\": 1751, \"'fa\": 1752, \"d'o\": 1753, \"c'e\": 1754, \"t'u\": 1755, \"v'è\": 1756, 'gliò': 1757, 'stil': 1758, 'gròp': 1759, 'stic': 1760, 'chét': 1761, 'clàu': 1762, 'ghel': 1763, 'driz': 1764, 'pròs': 1765, 'cheg': 1766, 'gnun': 1767, 'sfar': 1768, 'spec': 1769, 'ciol': 1770, 'scuò': 1771, 'chel': 1772, 'tràt': 1773, 'drea': 1774, 'smen': 1775, 'stàn': 1776, 'pien': 1777, 'priè': 1778, 'meon': 1779, 'stul': 1780, 'stiè': 1781, 'bràc': 1782, 'glèt': 1783, 'viar': 1784, 'sual': 1785, 'ciul': 1786, 'stol': 1787, 'giùn': 1788, 'frét': 1789, 'quié': 1790, 'scim': 1791, 'guar': 1792, 'nias': 1793, 'prun': 1794, 'plor': 1795, 'sman': 1796, 'glia': 1797, 'sber': 1798, 'oscu': 1799, 'fiar': 1800, 'pris': 1801, 'gnia': 1802, 'tram': 1803, 'stió': 1804, 'grèm': 1805, 'luia': 1806, 'viam': 1807, 'prón': 1808, 'tran': 1809, 'fron': 1810, 'quen': 1811, 'pion': 1812, 'sfam': 1813, 'cièn': 1814, 'sgom': 1815, 'gual': 1816, 'spór': 1817, 'drai': 1818, 'sfer': 1819, 'bión': 1820, 'grie': 1821, 'stuò': 1822, 'tuas': 1823, 'scia': 1824, 'lios': 1825, 'gian': 1826, 'chiò': 1827, 'creò': 1828, 'siio': 1829, 'tràr': 1830, 'tier': 1831, 'fles': 1832, 'trac': 1833, 'spuo': 1834, 'agro': 1835, 'trie': 1836, 'igne': 1837, 'boem': 1838, 'quei': 1839, 'neia': 1840, 'scòr': 1841, 'quiè': 1842, 'graf': 1843, 'près': 1844, 'breo': 1845, 'smal': 1846, 'chià': 1847, 'spìr': 1848, 'scri': 1849, 'sper': 1850, 'ciap': 1851, 'vion': 1852, 'lear': 1853, 'ciom': 1854, 'scuo': 1855, 'giac': 1856, 'suon': 1857, 'sban': 1858, 'vien': 1859, 'dies': 1860, 'rent': 1861, 'igno': 1862, 'scòp': 1863, 'prio': 1864, 'tuoi': 1865, 'guaz': 1866, 'frat': 1867, 'dran': 1868, 'piag': 1869, 'riuo': 1870, 'sciù': 1871, 'nuan': 1872, 'ista': 1873, 'scir': 1874, 'brol': 1875, 'bria': 1876, 'guic': 1877, 'ciam': 1878, 'cric': 1879, 'dràn': 1880, 'scrò': 1881, 'scet': 1882, 'lìng': 1883, 'ghiè': 1884, 'gros': 1885, 'spie': 1886, 'strò': 1887, 'drap': 1888, 'trea': 1889, 'riat': 1890, 'prìn': 1891, 'gnus': 1892, 'quod': 1893, 'stai': 1894, 'siar': 1895, 'scià': 1896, 'squa': 1897, 'pior': 1898, 'miei': 1899, 'gliu': 1900, 'glet': 1901, 'sdét': 1902, 'stig': 1903, 'plàn': 1904, 'scol': 1905, 'tria': 1906, 'ciuf': 1907, 'stór': 1908, 'quìl': 1909, 'rlam': 1910, 'giàr': 1911, 'vuol': 1912, 'bias': 1913, 'rièn': 1914, 'spir': 1915, 'piòg': 1916, 'trop': 1917, 'brot': 1918, 'spre': 1919, 'squì': 1920, 'nual': 1921, 'bròt': 1922, 'zial': 1923, 'tuon': 1924, 'cliò': 1925, 'spor': 1926, 'scoc': 1927, 'stin': 1928, 'scuf': 1929, 'pièn': 1930, 'guan': 1931, 'vean': 1932, 'cruc': 1933, 'quel': 1934, 'scal': 1935, 'guìz': 1936, 'crùc': 1937, 'scàn': 1938, 'plar': 1939, 'fiòc': 1940, 'scòc': 1941, 'gnem': 1942, 'ghez': 1943, 'trec': 1944, 'dras': 1945, 'stui': 1946, 'pian': 1947, 'stìn': 1948, 'atre': 1949, 'blan': 1950, 'scré': 1951, 'trot': 1952, 'gnin': 1953, 'ciar': 1954, 'stei': 1955, 'stan': 1956, 'brac': 1957, 'gioi': 1958, 'dian': 1959, 'fuia': 1960, 'sfat': 1961, 'puol': 1962, 'pluo': 1963, 'quai': 1964, 'stem': 1965, 'spèc': 1966, 'stól': 1967, 'quia': 1968, 'rlin': 1969, 'duol': 1970, 'prez': 1971, 'piue': 1972, 'rion': 1973, 'gnaz': 1974, 'brùt': 1975, 'stiz': 1976, 'dail': 1977, 'lian': 1978, 'dron': 1979, 'trom': 1980, 'fioc': 1981, 'ghiò': 1982, 'fiàm': 1983, 'spin': 1984, 'uscì': 1985, 'spiè': 1986, 'chiu': 1987, 'quin': 1988, 'brón': 1989, 'saet': 1990, 'diàn': 1991, 'stàl': 1992, 'spèn': 1993, 'scém': 1994, 'stél': 1995, 'guef': 1996, 'grat': 1997, 'sver': 1998, 'giug': 1999, 'guis': 2000, 'cuir': 2001, 'spal': 2002, 'tean': 2003, 'spés': 2004, 'gial': 2005, 'tròp': 2006, 'piog': 2007, 'scos': 2008, 'stea': 2009, 'spes': 2010, 'plan': 2011, 'sche': 2012, 'scèl': 2013, 'guil': 2014, 'trat': 2015, 'chéz': 2016, 'gior': 2017, 'tron': 2018, 'vria': 2019, 'stèi': 2020, 'riac': 2021, 'sfàt': 2022, 'ciuo': 2023, 'sfan': 2024, 'stém': 2025, 'giue': 2026, 'stùi': 2027, 'trae': 2028, 'stra': 2029, 'chio': 2030, 'piac': 2031, 'stie': 2032, 'quél': 2033, 'stuc': 2034, 'gnàz': 2035, 'tree': 2036, 'gier': 2037, 'trùi': 2038, 'crea': 2039, 'stré': 2040, 'smoz': 2041, 'stal': 2042, 'schi': 2043, 'sciu': 2044, 'sbra': 2045, 'fial': 2046, 'foon': 2047, 'muoi': 2048, 'stop': 2049, 'fràt': 2050, 'dràm': 2051, 'trul': 2052, 'grón': 2053, 'briè': 2054, 'riem': 2055, 'pruo': 2056, 'biar': 2057, 'spun': 2058, 'pénn': 2059, 'ciùl': 2060, 'spàl': 2061, 'niam': 2062, 'moal': 2063, 'vier': 2064, 'creb': 2065, 'ghià': 2066, 'giun': 2067, 'gheg': 2068, 'vrar': 2069, 'fuòr': 2070, 'pren': 2071, 'pros': 2072, 'sven': 2073, 'dièn': 2074, 'ziar': 2075, 'gion': 2076, 'fien': 2077, 'stes': 2078, 'cain': 2079, 'spàr': 2080, 'stro': 2081, 'grin': 2082, 'fior': 2083, 'plàu': 2084, 'ples': 2085, 'trap': 2086, 'fréd': 2087, 'scàb': 2088, 'piar': 2089, 'sten': 2090, 'grap': 2091, 'qual': 2092, 'greg': 2093, 'proc': 2094, 'giai': 2095, 'guàg': 2096, 'span': 2097, 'usci': 2098, 'buia': 2099, 'smor': 2100, 'gnor': 2101, 'quèr': 2102, 'quéi': 2103, 'scon': 2104, 'sànc': 2105, 'chez': 2106, 'bròc': 2107, 'gias': 2108, 'stam': 2109, 'buen': 2110, 'brèn': 2111, 'chil': 2112, 'stor': 2113, 'stèr': 2114, 'bren': 2115, 'sien': 2116, 'tret': 2117, 'riar': 2118, 'vuoi': 2119, 'frir': 2120, 'guir': 2121, 'ster': 2122, 'asco': 2123, 'viag': 2124, 'chia': 2125, 'fràn': 2126, 'tual': 2127, 'spia': 2128, 'sdru': 2129, 'scin': 2130, 'plau': 2131, 'nail': 2132, 'scèn': 2133, 'pres': 2134, 'spet': 2135, 'suoi': 2136, 'noin': 2137, 'gras': 2138, 'grop': 2139, 'smar': 2140, 'trui': 2141, 'gnen': 2142, 'drir': 2143, 'muor': 2144, 'tian': 2145, 'guit': 2146, 'scre': 2147, 'frut': 2148, 'tràc': 2149, 'smon': 2150, 'tiam': 2151, 'grom': 2152, 'scun': 2153, 'vuòi': 2154, 'frùt': 2155, 'scam': 2156, 'sian': 2157, 'gran': 2158, 'prei': 2159, 'zion': 2160, 'guèr': 2161, 'guèn': 2162, 'spel': 2163, 'slac': 2164, 'suol': 2165, 'flet': 2166, 'spèr': 2167, 'creu': 2168, 'trar': 2169, 'fren': 2170, 'spar': 2171, 'puom': 2172, 'guon': 2173, 'puos': 2174, 'pióm': 2175, 'gher': 2176, 'quor': 2177, 'dial': 2178, 'neau': 2179, 'rlan': 2180, 'drel': 2181, 'trag': 2182, 'puoi': 2183, 'piàg': 2184, 'sfac': 2185, 'spez': 2186, 'chin': 2187, 'vrei': 2188, 'dram': 2189, 'scic': 2190, 'sfor': 2191, 'sbar': 2192, 'gres': 2193, 'cion': 2194, 'fiam': 2195, 'gròs': 2196, 'lion': 2197, 'spìt': 2198, 'buon': 2199, 'guài': 2200, 'spèt': 2201, 'pruò': 2202, 'crin': 2203, 'quat': 2204, 'ched': 2205, 'crol': 2206, 'chet': 2207, 'scro': 2208, 'lier': 2209, 'drit': 2210, 'diam': 2211, 'scis': 2212, 'stre': 2213, 'phel': 2214, 'préz': 2215, 'gram': 2216, 'gréz': 2217, 'sier': 2218, 'scio': 2219, 'bion': 2220, 'glio': 2221, 'fian': 2222, 'acri': 2223, 'brar': 2224, 'gnes': 2225, 'grep': 2226, 'gnel': 2227, 'sgan': 2228, 'ghio': 2229, 'rien': 2230, 'trai': 2231, 'scen': 2232, 'scàr': 2233, 'rlia': 2234, 'niàn': 2235, 'stis': 2236, 'vial': 2237, 'stés': 2238, 'ghia': 2239, 'prai': 2240, 'spit': 2241, 'mian': 2242, 'tren': 2243, 'stas': 2244, 'quil': 2245, 'scem': 2246, 'tiun': 2247, 'vrai': 2248, 'prèn': 2249, 'scea': 2250, 'vrés': 2251, 'scop': 2252, 'guai': 2253, 'voil': 2254, 'riai': 2255, 'sfèr': 2256, 'gner': 2257, 'sias': 2258, 'opra': 2259, 'spàz': 2260, 'sgri': 2261, 'cheo': 2262, 'star': 2263, 'stel': 2264, 'buoi': 2265, 'strè': 2266, 'giam': 2267, 'tien': 2268, 'fiàn': 2269, 'nien': 2270, 'brie': 2271, 'ispa': 2272, 'sgra': 2273, 'zien': 2274, 'zièn': 2275, 'brut': 2276, 'chìl': 2277, 'ghés': 2278, 'case': 2279, 'cien': 2280, 'quèn': 2281, 'quis': 2282, 'stec': 2283, 'leot': 2284, 'guer': 2285, 'scàl': 2286, 'quìn': 2287, 'tràn': 2288, 'stùl': 2289, 'scer': 2290, 'prie': 2291, 'scab': 2292, 'rlon': 2293, 'stià': 2294, 'cian': 2295, 'guel': 2296, 'dier': 2297, 'vran': 2298, 'niel': 2299, 'guàr': 2300, 'blia': 2301, 'flit': 2302, 'sfio': 2303, 'frón': 2304, 'rlar': 2305, 'gien': 2306, 'ciòt': 2307, 'stèl': 2308, 'ghie': 2309, 'guàn': 2310, 'guet': 2311, 'fórm': 2312, 'gnas': 2313, 'sfre': 2314, 'bréz': 2315, 'ghét': 2316, 'clàs': 2317, 'stav': 2318, 'fran': 2319, 'giuo': 2320, 'svia': 2321, 'fiòt': 2322, 'tuia': 2323, 'cuor': 2324, 'sion': 2325, 'grem': 2326, 'cral': 2327, 'stri': 2328, 'scar': 2329, 'trón': 2330, 'chiè': 2331, 'rior': 2332, 'glie': 2333, 'prin': 2334, 'glié': 2335, 'gnum': 2336, 'bian': 2337, 'piàn': 2338, 'cias': 2339, 'pria': 2340, 'biac': 2341, 'sprì': 2342, 'bièt': 2343, 'nièn': 2344, 'ghéz': 2345, 'giór': 2346, 'gnie': 2347, 'cher': 2348, 'svel': 2349, 'ghin': 2350, 'date': 2351, 'giàl': 2352, 'dien': 2353, 'trei': 2354, 'drìt': 2355, 'gnon': 2356, 'bràn': 2357, 'clìs': 2358, 'scac': 2359, 'zian': 2360, 'coar': 2361, 'riot': 2362, 'quam': 2363, 'glàu': 2364, 'buòn': 2365, 'trio': 2366, 'quàl': 2367, 'scom': 2368, 'sbri': 2369, 'piov': 2370, 'piez': 2371, 'tras': 2372, 'fred': 2373, 'giàn': 2374, 'spen': 2375, 'esti': 2376, 'nion': 2377, 'dràp': 2378, 'fier': 2379, 'spro': 2380, 'rian': 2381, 'vreb': 2382, 'cria': 2383, 'treb': 2384, 'gràs': 2385, 'stìz': 2386, 'piat': 2387, 'quàr': 2388, 'scan': 2389, 'stèn': 2390, 'scor': 2391, 'strà': 2392, 'grot': 2393, 'viem': 2394, 'vian': 2395, 'biàn': 2396, 'giar': 2397, 'pric': 2398, 'snel': 2399, 'pron': 2400, 'blio': 2401, 'brul': 2402, 'grég': 2403, 'spon': 2404, 'scór': 2405, 'stio': 2406, 'stia': 2407, 'chiù': 2408, 'brio': 2409, 'flès': 2410, 'sciò': 2411, 'grez': 2412, 'espe': 2413, 'scòt': 2414, 'escu': 2415, 'quar': 2416, 'gnar': 2417, 'chie': 2418, 'siam': 2419, 'nètt': 2420, 'pier': 2421, 'neen': 2422, 'stuo': 2423, 'scel': 2424, 'tris': 2425, 'stet': 2426, 'nian': 2427, 'quie': 2428, 'brìs': 2429, 'bran': 2430, 'scie': 2431, 'truo': 2432, 'ghir': 2433, 'gròt': 2434, 'cioc': 2435, 'stiò': 2436, 'fret': 2437, 'ciac': 2438, 'tròr': 2439, 'fiac': 2440, 'clis': 2441, 'gnan': 2442, 'ghil': 2443, 'drìz': 2444, 'quàt': 2445, 'scàz': 2446, 'agne': 2447, 'nier': 2448, 'cioè': 2449, 'stru': 2450, 'tràm': 2451, 'gnuo': 2452, 'gràn': 2453, 'troc': 2454, 'scón': 2455, 'guiz': 2456, 'prir': 2457, 'quàn': 2458, 'cras': 2459, 'spic': 2460, 'chis': 2461, 'glià': 2462, 'quan': 2463, 'piom': 2464, 'sfin': 2465, 'spuò': 2466, 'giòt': 2467, 'tiem': 2468, 'lien': 2469, 'sgor': 2470, 'ciel': 2471, 'spol': 2472, 'guen': 2473, 'ciai': 2474, 'biet': 2475, 'pran': 2476, 'brug': 2477, 'sneb': 2478, 'cleo': 2479, \"'mo'\": 2480, 'e~am': 2481, 'va~a': 2482, \"d'of\": 2483, \"t'em\": 2484, 'i~il': 2485, 'ta~i': 2486, \"s'av\": 2487, \"s'of\": 2488, 'ti~o': 2489, \"'v'è\": 2490, 'ro~o': 2491, \"d'el\": 2492, \"pr'e\": 2493, \"fec'\": 2494, 've~e': 2495, 'ce~u': 2496, 'a~un': 2497, 'a~io': 2498, 'te~o': 2499, 'po~e': 2500, 'za~u': 2501, 'no~u': 2502, 'mi~o': 2503, 'da~a': 2504, 'ne~u': 2505, 'ti~a': 2506, \"v'ho\": 2507, \"vr'a\": 2508, 'i~ac': 2509, \"gn'o\": 2510, 'ra~u': 2511, \"l'in\": 2512, \"d'ac\": 2513, \"v'in\": 2514, \"tr'è\": 2515, 'i~ar': 2516, \"mus'\": 2517, \"s'an\": 2518, \"l'ad\": 2519, 'po~o': 2520, 'o~im': 2521, \"'don\": 2522, \"'dil\": 2523, 'fu~o': 2524, \"l'am\": 2525, \"tr'a\": 2526, \"v'ap\": 2527, \"n'ap\": 2528, \"d'oc\": 2529, 'pi~a': 2530, \"t'au\": 2531, 'di~a': 2532, \"sci'\": 2533, 'no~e': 2534, \"l'ot\": 2535, 'na~i': 2536, \"t'es\": 2537, 'bo~a': 2538, \"l'es\": 2539, 'mo~o': 2540, 'a~av': 2541, \"v'ab\": 2542, \"'che\": 2543, 'ta~a': 2544, \"l'en\": 2545, 'ge~e': 2546, 'lo~i': 2547, 'gi~e': 2548, 'ta~o': 2549, 'be~o': 2550, \"l'em\": 2551, \"sto'\": 2552, \"l'av\": 2553, 'pi~e': 2554, \"v'el\": 2555, \"v'i'\": 2556, 'ra~a': 2557, \"m'im\": 2558, 'me~o': 2559, \"m'in\": 2560, \"'bea\": 2561, 'ce~e': 2562, \"pia'\": 2563, 'ma~a': 2564, \"s'os\": 2565, \"st'u\": 2566, \"v'io\": 2567, 'e~at': 2568, \"d'al\": 2569, 'o~ar': 2570, 'za~i': 2571, 'e~il': 2572, 'vo~o': 2573, 'ci~o': 2574, 'fu~a': 2575, \"l'ap\": 2576, \"v'es\": 2577, \"t'el\": 2578, \"d'im\": 2579, 'da~o': 2580, 'mi~i': 2581, 'o~ac': 2582, 'i~es': 2583, 'o~an': 2584, \"que'\": 2585, \"d'af\": 2586, 'se~e': 2587, 'o~ia': 2588, \"m'an\": 2589, \"giò'\": 2590, \"sco'\": 2591, \"'pap\": 2592, \"l'an\": 2593, \"pr'a\": 2594, 'ce~o': 2595, \"d'at\": 2596, 'le~a': 2597, \"t'or\": 2598, \"m'eb\": 2599, \"ch'i\": 2600, 'ni~e': 2601, 've~u': 2602, 'e~ar': 2603, 'to~o': 2604, 'ti~u': 2605, \"v'an\": 2606, \"z'al\": 2607, 'sa~e': 2608, \"com'\": 2609, 'a~al': 2610, 'ra~o': 2611, \"ond'\": 2612, 'su~i': 2613, \"mea'\": 2614, 'po~a': 2615, \"d'az\": 2616, 'lo~u': 2617, \"vre'\": 2618, 'mi~e': 2619, 'zi~o': 2620, \"d'os\": 2621, \"t'io\": 2622, \"d'en\": 2623, 'li~e': 2624, \"l'as\": 2625, \"l'af\": 2626, \"t'ap\": 2627, 'o~in': 2628, 'si~o': 2629, 'o~au': 2630, \"n'an\": 2631, \"l'ef\": 2632, 'do~e': 2633, \"pie'\": 2634, \"s'ab\": 2635, 'co~i': 2636, 'be~i': 2637, 'su~a': 2638, 'io~u': 2639, 'to~e': 2640, 'si~i': 2641, 'sa~i': 2642, \"s'e'\": 2643, 'za~o': 2644, 'ri~e': 2645, \"m'ab\": 2646, 'a~es': 2647, \"'v'e\": 2648, 'a~ad': 2649, 'vi~a': 2650, 'a~at': 2651, 'o~ie': 2652, 'ti~e': 2653, 'go~a': 2654, 'ba~e': 2655, 'ma~u': 2656, 'me~e': 2657, 'o~er': 2658, 'ne~i': 2659, 'ca~e': 2660, 'e~an': 2661, 'de~o': 2662, \"l'of\": 2663, 'le~e': 2664, 'si~e': 2665, 'so~a': 2666, 'a~ap': 2667, 'ra~i': 2668, \"'dun\": 2669, 'te~u': 2670, \"l'ac\": 2671, 'be~a': 2672, \"z'es\": 2673, \"ch'è\": 2674, 'io~e': 2675, 'ro~u': 2676, 've~a': 2677, 'io~a': 2678, 'no~o': 2679, 'tu~e': 2680, \"s'at\": 2681, 'po~i': 2682, \"ch'a\": 2683, \"m'al\": 2684, 'ga~e': 2685, 'le~o': 2686, 'ti~i': 2687, \"l'on\": 2688, 'vo~e': 2689, 'e~av': 2690, \"'con\": 2691, \"suo'\": 2692, 'li~o': 2693, 'be~e': 2694, \"l'os\": 2695, \"s'i'\": 2696, 'no~i': 2697, 'bi~a': 2698, \"'spe\": 2699, 'ca~u': 2700, 'sa~o': 2701, \"m'es\": 2702, \"st'è\": 2703, \"d'or\": 2704, 'co~a': 2705, \"l'au\": 2706, \"d'es\": 2707, \"t'al\": 2708, \"vr'u\": 2709, \"v'ha\": 2710, 'zi~u': 2711, \"t'ar\": 2712, \"i~a'\": 2713, 'me~i': 2714, 'ro~a': 2715, \"ver'\": 2716, \"tro'\": 2717, 'do~o': 2718, 'fu~e': 2719, \"l'or\": 2720, \"ov'e\": 2721, \"d'ae\": 2722, 'te~i': 2723, 'mo~e': 2724, 'ro~i': 2725, 'le~u': 2726, 'tu~o': 2727, 'ci~a': 2728, 'o~el': 2729, \"s'as\": 2730, \"ch'o\": 2731, 'ni~u': 2732, \"cia'\": 2733, \"t'il\": 2734, 'to~a': 2735, 'ne~e': 2736, \"s'au\": 2737, 'bo~i': 2738, \"v'im\": 2739, 'di~o': 2740, \"d'am\": 2741, 'co~u': 2742, 'hi~a': 2743, 'vi~o': 2744, \"mei'\": 2745, \"v'of\": 2746, \"l'ab\": 2747, \"t'ha\": 2748, \"s'ha\": 2749, \"d'er\": 2750, \"l'un\": 2751, \"m'ap\": 2752, \"v'ar\": 2753, 'va~e': 2754, 'zo~a': 2755, \"l'um\": 2756, 'di~u': 2757, 'de~a': 2758, \"c'im\": 2759, 'za~a': 2760, 'ma~i': 2761, 'la~u': 2762, 'a~ab': 2763, \"n'eb\": 2764, 'za~e': 2765, 'da~u': 2766, 'no~a': 2767, \"s'et\": 2768, 'da~i': 2769, 'lo~a': 2770, \"dra'\": 2771, 'me~a': 2772, 'te~e': 2773, 'e~io': 2774, 'la~i': 2775, 'do~i': 2776, 'ma~o': 2777, \"d'ol\": 2778, \"s'ap\": 2779, \"tr'e\": 2780, \"z'ar\": 2781, 'ni~o': 2782, 'ta~u': 2783, \"s'in\": 2784, 'a~om': 2785, \"ov'è\": 2786, 'me~u': 2787, \"ste'\": 2788, \"'non\": 2789, \"'for\": 2790, \"st'o\": 2791, \"l'uo\": 2792, \"d'au\": 2793, \"t'ho\": 2794, \"noi'\": 2795, 're~u': 2796, 'fe~e': 2797, 'i~ad': 2798, 'do~u': 2799, \"t'av\": 2800, \"v'eb\": 2801, \"m'of\": 2802, \"bia'\": 2803, \"'men\": 2804, 'o~av': 2805, 'so~o': 2806, \"v'al\": 2807, 'zo~e': 2808, 'di~i': 2809, \"t'af\": 2810, 'mo~u': 2811, 'e~ag': 2812, 'go~e': 2813, \"d'ap\": 2814, 'mo~i': 2815, \"d'an\": 2816, \"s'ei\": 2817, \"t'im\": 2818, \"'glo\": 2819, \"n'ab\": 2820, 'o~il': 2821, 'i~an': 2822, 'la~a': 2823, \"v'en\": 2824, \"t'at\": 2825, 'bo~e': 2826, 'gi~a': 2827, 'mi~a': 2828, 'vo~a': 2829, 'ma~e': 2830, \"l'ho\": 2831, 'ce~i': 2832, 'ga~a': 2833, 'e~in': 2834, 'ge~a': 2835, 'i~al': 2836, \"ghe'\": 2837, \"d'as\": 2838, \"v'et\": 2839, \"d'om\": 2840, \"l'ul\": 2841, 'ro~e': 2842, \"l'ha\": 2843, \"t'an\": 2844, \"v'or\": 2845, \"'v'u\": 2846, \"'più\": 2847, \"s'es\": 2848, 'li~u': 2849, 'ne~a': 2850, 'li~a': 2851, 'va~i': 2852, \"l'el\": 2853, 'ie~a': 2854, \"'per\": 2855, \"'sal\": 2856, 'i~et': 2857, 'a~or': 2858, \"che'\": 2859, 'to~i': 2860, 'a~il': 2861, \"s'am\": 2862, 'te~a': 2863, \"'que\": 2864, 'si~a': 2865, \"l'al\": 2866, 'zi~a': 2867, \"d'et\": 2868, \"m'ac\": 2869, \"l'im\": 2870, 'ta~e': 2871, \"l'er\": 2872, \"t'in\": 2873, \"l'ol\": 2874, \"s'af\": 2875, \"l'eb\": 2876, \"t'ac\": 2877, \"n'ag\": 2878, \"l'et\": 2879, 'i~in': 2880, 'ri~o': 2881, \"d'ot\": 2882, 'pa~e': 2883, 'fi~e': 2884, \"ch'u\": 2885, \"un'a\": 2886, 'e~ac': 2887, \"m'ai\": 2888, \"st'a\": 2889, 'tu~i': 2890, \"l'ar\": 2891, 'di~e': 2892, \"m'ad\": 2893, 'ra~e': 2894, \"n'ha\": 2895, \"s'en\": 2896, \"s'eb\": 2897, \"ram'\": 2898, 'e~ot': 2899, 'ca~a': 2900, 'vi~e': 2901, \"'qui\": 2902, \"'sod\": 2903, 'o~at': 2904, 'i~ed': 2905, \"v'e'\": 2906, \"m'ar\": 2907, 'e~ab': 2908, \"m'ha\": 2909, 'de~i': 2910, 're~e': 2911, \"'deu\": 2912, 'e~as': 2913, \"'pie\": 2914, 'pe~i': 2915, \"m'ag\": 2916, 've~i': 2917, 're~i': 2918, \"s'ad\": 2919, 'e~ad': 2920, 'bi~i': 2921, \"dei'\": 2922, \"l'om\": 2923, \"t'ab\": 2924, 'a~eb': 2925, \"v'er\": 2926, \"qu'e\": 2927, \"n'ac\": 2928, 'e~el': 2929, \"vuo'\": 2930, \"d'ab\": 2931, \"l'op\": 2932, \"d'eu\": 2933, 'na~u': 2934, 'la~o': 2935, \"t'om\": 2936, 'lo~e': 2937, \"l'uc\": 2938, \"t'ag\": 2939, \"tra'\": 2940, 'ni~a': 2941, 'ze~e': 2942, 'i~ai': 2943, 'ce~a': 2944, 'po~u': 2945, 'na~o': 2946, 'lo~o': 2947, 'e~un': 2948, \"l'ec\": 2949, \"l'oc\": 2950, \"s'em\": 2951, \"s'op\": 2952, \"s'un\": 2953, \"'mal\": 2954, \"m'as\": 2955, \"s'el\": 2956, 'o~et': 2957, 're~a': 2958, 'ne~o': 2959, 'ri~u': 2960, 'a~in': 2961, 'la~e': 2962, \"qu'o\": 2963, 'e~al': 2964, 'so~i': 2965, \"'vun\": 2966, \"'voi\": 2967, \"l'ag\": 2968, \"'tut\": 2969, \"ria'\": 2970, 'na~e': 2971, \"t'as\": 2972, 'se~u': 2973, 'na~a': 2974, 'ri~a': 2975, 'mo~a': 2976, 'do~a': 2977, \"sis'\": 2978, 'de~e': 2979, 'se~o': 2980, \"s'ar\": 2981, \"t'i'\": 2982, 'o~al': 2983, 'ca~o': 2984, 'o~af': 2985, \"m'av\": 2986, 'e~om': 2987, 'va~o': 2988, 'io~o': 2989, 'tu~a': 2990, 'co~o': 2991, 'go~o': 2992, \"tuo'\": 2993, 'o~ad': 2994, \"ch'e\": 2995, \"m'at\": 2996, 'ia~e': 2997, \"s'im\": 2998, \"s'ac\": 2999, 'se~a': 3000, 'sa~a': 3001, 'pe~e': 3002, \"m'af\": 3003, 're~o': 3004, \"v'am\": 3005, 'so~e': 3006, 'se~i': 3007, \"s'io\": 3008, \"l'at\": 3009, \"sie'\": 3010, 'da~e': 3011, 'to~u': 3012, \"d'ar\": 3013, \"'din\": 3014, \"iv'e\": 3015, \"d'un\": 3016, 'o~of': 3017, \"'sum\": 3018, 'ge~o': 3019, 'i~un': 3020, \"n'av\": 3021, \"s'er\": 3022, 'le~i': 3023, \"s'ag\": 3024, 'pa~a': 3025, \"d'in\": 3026, \"n'al\": 3027, \"v'ei\": 3028, 'ga~o': 3029, \"l'ae\": 3030, 'fa~i': 3031, 'ze~o': 3032, \"d'on\": 3033, \"c'ha\": 3034, 'li~i': 3035, 'co~e': 3036, 'si~u': 3037, \"t'am\": 3038, \"mie'\": 3039, 'zi~e': 3040, \"c'ho\": 3041, 'e~or': 3042, 'i~ef': 3043, \"'dio\": 3044, 'i~as': 3045, 'o~am': 3046, 'ci~e': 3047, \"s'al\": 3048, \"v'ac\": 3049, 'gliàn': 3050, 'scrit': 3051, 'trade': 3052, 'sfran': 3053, 'chiap': 3054, 'ghiar': 3055, 'schia': 3056, 'trian': 3057, 'sguar': 3058, 'stièn': 3059, 'sguàr': 3060, 'sciòl': 3061, 'spràz': 3062, 'vrien': 3063, 'agnel': 3064, 'glior': 3065, 'achil': 3066, 'chioc': 3067, 'svuol': 3068, 'schià': 3069, 'esper': 3070, 'isqua': 3071, 'stret': 3072, 'scuoi': 3073, 'ismor': 3074, 'scias': 3075, 'oster': 3076, 'scheg': 3077, 'sciol': 3078, 'ascen': 3079, 'stian': 3080, 'triun': 3081, 'scrìt': 3082, 'gioir': 3083, 'glièn': 3084, 'squil': 3085, 'schie': 3086, 'luian': 3087, 'schét': 3088, 'stier': 3089, 'stroc': 3090, 'sgiùn': 3091, 'stial': 3092, 'scien': 3093, 'blian': 3094, 'gliet': 3095, 'tapin': 3096, 'strai': 3097, 'strìn': 3098, 'stric': 3099, 'schic': 3100, 'gliuo': 3101, 'stiam': 3102, 'strug': 3103, 'ghiot': 3104, 'chion': 3105, 'strin': 3106, 'glion': 3107, 'sgher': 3108, 'schio': 3109, 'stion': 3110, 'stroz': 3111, 'ghian': 3112, 'gluol': 3113, 'scher': 3114, 'scran': 3115, 'stren': 3116, 'crean': 3117, 'traem': 3118, 'strùt': 3119, 'ascol': 3120, 'schér': 3121, 'spiar': 3122, 'aspet': 3123, 'briel': 3124, 'riien': 3125, 'strac': 3126, 'ghiàc': 3127, 'chiàp': 3128, 'drian': 3129, 'chian': 3130, 'stras': 3131, 'sciom': 3132, 'vrian': 3133, 'schiù': 3134, 'istra': 3135, 'gliel': 3136, 'glier': 3137, 'strat': 3138, 'sgrie': 3139, 'splèn': 3140, 'flail': 3141, 'sciar': 3142, 'gliai': 3143, 'sprès': 3144, 'chiet': 3145, 'trion': 3146, 'chias': 3147, 'stran': 3148, 'antèo': 3149, 'glien': 3150, 'squìl': 3151, 'strut': 3152, 'splen': 3153, 'scial': 3154, 'schég': 3155, 'schem': 3156, 'strèl': 3157, 'ascon': 3158, 'scion': 3159, 'sciau': 3160, 'scian': 3161, 'ghiai': 3162, 'stral': 3163, 'triar': 3164, 'strom': 3165, 'gliea': 3166, 'strég': 3167, 'scris': 3168, 'ghièn': 3169, 'schiu': 3170, 'schiè': 3171, 'strét': 3172, 'svian': 3173, 'gliam': 3174, 'sciai': 3175, 'oblio': 3176, 'chier': 3177, 'scioc': 3178, 'sciam': 3179, 'sgiun': 3180, 'scrip': 3181, 'ghiac': 3182, 'chiar': 3183, 'stram': 3184, 'spiac': 3185, 'glian': 3186, 'spràn': 3187, 'strar': 3188, 'squar': 3189, 'temps': 3190, 'glies': 3191, 'sciut': 3192, 'gliar': 3193, 'stròz': 3194, 'scièn': 3195, 'li~oc': 3196, 'do~ia': 3197, 'ni~av': 3198, 'mi~ad': 3199, 'do~an': 3200, 'ne~un': 3201, \"vr'al\": 3202, 'ro~au': 3203, 'ni~il': 3204, 'le~al': 3205, 'do~ac': 3206, \"gh'es\": 3207, 'ze~or': 3208, 'me~io': 3209, 'vo~in': 3210, \"tr'a'\": 3211, 'po~an': 3212, 'ghe~a': 3213, 'fo~io': 3214, \"ch'io\": 3215, 'gue~e': 3216, 'sa~ap': 3217, 'pa~in': 3218, 'pra~a': 3219, 'dio~e': 3220, \"com'e\": 3221, 'ra~es': 3222, 'so~ad': 3223, 'ra~io': 3224, 'be~ar': 3225, 'so~io': 3226, 'que~o': 3227, 'ra~uc': 3228, \"tr'om\": 3229, 'di~il': 3230, 're~im': 3231, 'zi~ap': 3232, 'su~al': 3233, 'zi~un': 3234, \"t'han\": 3235, \"com'è\": 3236, 'si~ar': 3237, 'ci~in': 3238, \"gent'\": 3239, 'di~an': 3240, 've~es': 3241, 'sta~i': 3242, 'ro~ac': 3243, 'lo~al': 3244, 'ne~em': 3245, 've~un': 3246, 'sa~il': 3247, \"ta'lo\": 3248, 'ci~al': 3249, 'ni~al': 3250, 'na~ar': 3251, 'vo~al': 3252, 'pie~a': 3253, 'mài~a': 3254, 'pòi~a': 3255, 'ra~il': 3256, 'le~of': 3257, 'si~al': 3258, 'li~ab': 3259, 'de~ad': 3260, 'ho~io': 3261, 'do~es': 3262, 'sto~e': 3263, 'li~im': 3264, 'te~om': 3265, 'no~ar': 3266, 'va~ed': 3267, 'ra~ab': 3268, 'ta~in': 3269, 'mi~in': 3270, 'pre~i': 3271, 'ge~il': 3272, \"tiam'\": 3273, 'ghi~e': 3274, 'mo~ar': 3275, 'va~id': 3276, 'ca~al': 3277, 'ce~as': 3278, 'so~ee': 3279, 'li~un': 3280, 'bo~al': 3281, \"str'u\": 3282, 'si~am': 3283, 'do~im': 3284, 'ne~ac': 3285, 'vo~at': 3286, 'na~in': 3287, 'to~io': 3288, \"er'an\": 3289, 'lo~of': 3290, 'ra~of': 3291, 'co~in': 3292, 'dro~a': 3293, 'se~ac': 3294, 'da~es': 3295, \"va'mi\": 3296, 'sco~i': 3297, 'ma~or': 3298, 'za~er': 3299, 'io~eb': 3300, 'gia~e': 3301, 'ro~od': 3302, 'se~ir': 3303, 'la~iu': 3304, 'vra~o': 3305, 'tu~ab': 3306, 'me~un': 3307, \"st'ul\": 3308, 'mo~af': 3309, 'ge~un': 3310, 'di~im': 3311, 'ti~or': 3312, \"ch'ai\": 3313, 'no~es': 3314, 'fa~ir': 3315, 'tre~e': 3316, 'me~ap': 3317, 'sa~ad': 3318, 'zi~il': 3319, 'do~ol': 3320, \"ond'u\": 3321, 're~in': 3322, 'zi~at': 3323, 'li~am': 3324, 'nói~e': 3325, 'to~ac': 3326, 'se~ei': 3327, 'na~un': 3328, 'pe~il': 3329, 'tra~e': 3330, 'da~el': 3331, 'fìa~a': 3332, \"ov'io\": 3333, 'no~ap': 3334, 'da~an': 3335, 'di~in': 3336, 'ha~in': 3337, 'fu~im': 3338, 'ma~an': 3339, \"poc'o\": 3340, 'se~op': 3341, 'na~ap': 3342, 'ia~il': 3343, 'to~ec': 3344, \"ch'ab\": 3345, \"ch'in\": 3346, \"ra'ti\": 3347, 'to~in': 3348, 'te~ag': 3349, 'gue~a': 3350, 'li~er': 3351, 'di~ab': 3352, 'la~en': 3353, \"st'an\": 3354, 'no~im': 3355, \"st'ar\": 3356, 'ri~ac': 3357, \"st'al\": 3358, 'tra~i': 3359, 'ne~ap': 3360, 'qua~e': 3361, \"bent'\": 3362, 'fa~il': 3363, 'ne~in': 3364, 'che~a': 3365, 'di~iu': 3366, 'fu~an': 3367, 'so~eb': 3368, 'lio~e': 3369, 'te~ap': 3370, 'ci~am': 3371, 'co~ar': 3372, \"te~a'\": 3373, 'so~am': 3374, 'me~of': 3375, 'de~ap': 3376, 'sa~es': 3377, \"me~a'\": 3378, \"t'ha'\": 3379, 'qua~o': 3380, 'li~av': 3381, 'bra~e': 3382, 'pre~a': 3383, \"sc'io\": 3384, 'lùi~a': 3385, \"no~a'\": 3386, 'za~an': 3387, 'na~es': 3388, 'co~eb': 3389, 'ce~et': 3390, 'to~ir': 3391, 'do~iu': 3392, 'rio~a': 3393, 'vi~ac': 3394, 'to~uc': 3395, 'se~al': 3396, 'bi~in': 3397, 'mi~er': 3398, 'smo~a': 3399, 'la~el': 3400, 'bre~a': 3401, 'nói~a': 3402, 'vi~en': 3403, 'ra~im': 3404, 'rla~u': 3405, 'sce~e': 3406, 'zi~as': 3407, 'mo~il': 3408, 'ra~el': 3409, \"ch'i'\": 3410, \"'deo'\": 3411, 'be~io': 3412, 'ge~in': 3413, \"gn'in\": 3414, 'de~ed': 3415, 'ti~al': 3416, 're~au': 3417, 'zi~al': 3418, 'mi~ap': 3419, 'ta~ac': 3420, 'la~io': 3421, 'de~or': 3422, \"n'han\": 3423, 'i~uom': 3424, \"ch'e'\": 3425, 'te~au': 3426, 'ro~in': 3427, \"usci'\": 3428, 'te~ar': 3429, 'do~ap': 3430, 'tro~a': 3431, 'ni~in': 3432, \"com'a\": 3433, 'go~al': 3434, 'si~as': 3435, 'mo~ac': 3436, 'te~ad': 3437, 'ra~at': 3438, 'no~er': 3439, 'ba~il': 3440, 're~om': 3441, 'ra~ad': 3442, 'ga~in': 3443, \"to~i'\": 3444, 'vi~in': 3445, 'ci~ar': 3446, 'ce~ac': 3447, 'gia~o': 3448, \"ve~a'\": 3449, 'ze~et': 3450, 'te~ai': 3451, 'me~ai': 3452, \"n'aon\": 3453, 'to~eb': 3454, \"ti'mi\": 3455, 'go~in': 3456, 'sài~o': 3457, 'ca~in': 3458, 'le~es': 3459, 'te~ie': 3460, 'tua~e': 3461, 'si~in': 3462, 'gli~u': 3463, 'ga~an': 3464, 'gri~e': 3465, \"'d'al\": 3466, 'de~an': 3467, 'le~io': 3468, 'gli~a': 3469, 'lo~ed': 3470, 're~oc': 3471, \"gn'er\": 3472, 're~ol': 3473, 'mi~al': 3474, 'ri~al': 3475, 'co~av': 3476, 'na~al': 3477, 'bra~u': 3478, 'ma~in': 3479, 'te~of': 3480, 'ra~an': 3481, 'me~ar': 3482, 'do~am': 3483, 'ti~of': 3484, 'tri~o': 3485, 'ro~or': 3486, 'gi~un': 3487, 'me~af': 3488, 'co~ac': 3489, 'fa~az': 3490, 'sta~o': 3491, 'pri~a': 3492, 'gi~an': 3493, \"de'ca\": 3494, 're~ac': 3495, 'tue~a': 3496, \"ti~a'\": 3497, 'cia~i': 3498, 'be~un': 3499, 'za~in': 3500, 'ti~ac': 3501, 'na~ad': 3502, 'da~il': 3503, 'que~e': 3504, 'ge~ad': 3505, 'le~as': 3506, 'ma~el': 3507, 'vo~au': 3508, 'co~et': 3509, 'to~ed': 3510, 're~ir': 3511, 'vi~as': 3512, 'mài~e': 3513, 'gua~a': 3514, 'tu~en': 3515, 'me~as': 3516, \"so~a'\": 3517, 'no~un': 3518, 'ti~an': 3519, 'ni~an': 3520, 'ra~ac': 3521, \"tr'ar\": 3522, 'ra~ap': 3523, 'le~in': 3524, 'do~at': 3525, 'lo~eb': 3526, 'la~an': 3527, 'co~ai': 3528, 'ti~in': 3529, \"st'ac\": 3530, 'se~ad': 3531, 'ta~il': 3532, 're~ot': 3533, \"od'io\": 3534, 'po~il': 3535, 'ce~an': 3536, 'pòi~e': 3537, 'sa~an': 3538, 'sce~a': 3539, 'no~af': 3540, \"s'aom\": 3541, \"st'of\": 3542, 'nli~o': 3543, 'ta~ed': 3544, 'fa~in': 3545, 'to~av': 3546, \"ch'ag\": 3547, 'no~in': 3548, 'li~ad': 3549, 'to~ap': 3550, \"ber'o\": 3551, 'ce~il': 3552, 'gni~a': 3553, \"ra~a'\": 3554, 'ria~a': 3555, 'lio~a': 3556, 'li~es': 3557, 'de~am': 3558, 'tu~an': 3559, 'mi~il': 3560, 'so~as': 3561, \"d'uom\": 3562, 'sa~ac': 3563, 'co~ap': 3564, 'ne~ar': 3565, \"ch'el\": 3566, 'gno~i': 3567, \"ch'ac\": 3568, 'za~im': 3569, \"ce~a'\": 3570, 'lo~ac': 3571, 'to~af': 3572, 'fo~et': 3573, 'li~uc': 3574, 'te~al': 3575, \"st'in\": 3576, 'de~un': 3577, \"tiae'\": 3578, \"ma~i'\": 3579, 'lia~e': 3580, 'li~of': 3581, 'ne~af': 3582, \"l'han\": 3583, 'ti~ar': 3584, 'mi~ef': 3585, 'ci~ad': 3586, 'na~of': 3587, 'io~in': 3588, 'ne~ed': 3589, 'de~au': 3590, 'te~os': 3591, 'le~ab': 3592, 'qui~a': 3593, 'me~es': 3594, 'la~al': 3595, 'va~al': 3596, 'vo~as': 3597, 'so~es': 3598, \"m'han\": 3599, 'déi~a': 3600, 'rli~e': 3601, 'mo~al': 3602, 'lo~af': 3603, 'za~il': 3604, 'di~uò': 3605, 'tri~e': 3606, 'gna~a': 3607, \"te~u'\": 3608, 'bro~e': 3609, 'nia~a': 3610, 'fu~as': 3611, 'so~il': 3612, 'ce~in': 3613, 'no~om': 3614, 'di~ee': 3615, 'di~or': 3616, 'me~ad': 3617, 'di~ie': 3618, 'te~or': 3619, \"fu'mi\": 3620, \"tr'io\": 3621, 'ga~il': 3622, 'ro~ap': 3623, 'chi~a': 3624, 'vo~an': 3625, \"com'u\": 3626, 'ma~on': 3627, 'zio~a': 3628, 'te~at': 3629, 'na~at': 3630, 'rlo~a': 3631, 'no~ab': 3632, 'no~av': 3633, \"ch'ap\": 3634, 'cùi~a': 3635, 'ria~o': 3636, 'zo~in': 3637, 'ba~un': 3638, 're~il': 3639, 'ra~eb': 3640, 'lo~ad': 3641, 'zio~u': 3642, 'so~of': 3643, 'vi~ar': 3644, 'qua~a': 3645, 're~av': 3646, 'ti~et': 3647, \"com'o\": 3648, 'mài~o': 3649, 'ca~er': 3650, 'li~in': 3651, 're~un': 3652, 'de~al': 3653, 're~al': 3654, \"un'om\": 3655, 'de~ae': 3656, 'li~et': 3657, 'li~io': 3658, 'sia~e': 3659, 'mi~am': 3660, 'chi~o': 3661, 'dri~e': 3662, 'ri~in': 3663, 'mo~of': 3664, 'pi~in': 3665, 'si~ad': 3666, 'me~at': 3667, 'rli~a': 3668, 've~in': 3669, \"la~a'\": 3670, 'me~ef': 3671, 'se~ai': 3672, 'li~eb': 3673, 'to~an': 3674, 'ha~el': 3675, 'mo~ec': 3676, \"ma~a'\": 3677, 'ce~at': 3678, 'li~or': 3679, 'zi~ai': 3680, 'me~in': 3681, \"vr'el\": 3682, 'fu~al': 3683, 'te~an': 3684, 'va~un': 3685, 'pio~e': 3686, 'mo~im': 3687, 'tua~i': 3688, 'ta~am': 3689, 'la~av': 3690, \"za'mi\": 3691, 'cia~e': 3692, 'tri~a': 3693, 'ga~as': 3694, 'no~al': 3695, \"di'mi\": 3696, 'ta~at': 3697, 'te~in': 3698, 'le~ar': 3699, 'be~av': 3700, 'la~es': 3701, 'pe~ad': 3702, 'va~ad': 3703, 'bo~in': 3704, 're~as': 3705, 'dre~e': 3706, 'ta~op': 3707, 'go~es': 3708, 'de~ac': 3709, \"ro~a'\": 3710, \"co~a'\": 3711, \"'voi'\": 3712, \"un'au\": 3713, 'ne~as': 3714, 'do~al': 3715, 'te~af': 3716, 'to~im': 3717, 'sa~un': 3718, 'za~or': 3719, 'zia~a': 3720, 'rio~e': 3721, 'mo~eb': 3722, 'ma~al': 3723, 'do~ad': 3724, 'a~aiu': 3725, \"se~a'\": 3726, 'so~al': 3727, 'so~in': 3728, 'ge~et': 3729, 'si~el': 3730, \"ch'en\": 3731, 'si~im': 3732, 're~ap': 3733, 'nli~i': 3734, 'no~et': 3735, 'lùi~e': 3736, 'se~io': 3737, 'pi~un': 3738, 'lo~an': 3739, 'dro~o': 3740, \"co'lo\": 3741, 've~an': 3742, 'ro~on': 3743, 'ghe~e': 3744, 'dia~i': 3745, 'ra~et': 3746, 'ta~on': 3747, \"ch'ad\": 3748, \"tr'am\": 3749, 'ce~af': 3750, \"ch'at\": 3751, 'fu~ac': 3752, 'pio~a': 3753, 'tio~i': 3754, 'sti~a': 3755, 'bre~e': 3756, 'dre~a': 3757, 'za~am': 3758, \"m'hai\": 3759, 'ne~an': 3760, 'cia~a': 3761, 'ia~as': 3762, 'mo~ol': 3763, 'to~ad': 3764, 'di~io': 3765, 'lo~im': 3766, \"to~a'\": 3767, 'cùi~o': 3768, 'zia~o': 3769, \"pr'ar\": 3770, 'to~ab': 3771, 'ce~al': 3772, 'te~ed': 3773, 'ci~at': 3774, \"vr'es\": 3775, \"l'uom\": 3776, 'tu~in': 3777, 'po~al': 3778, 'ni~as': 3779, 'gna~i': 3780, 'ra~as': 3781, 'se~as': 3782, \"ond'o\": 3783, 'li~at': 3784, \"za~i'\": 3785, 'to~ai': 3786, 'ria~i': 3787, 'di~og': 3788, 'di~es': 3789, 'ia~ed': 3790, \"st'ho\": 3791, 'vi~of': 3792, 'si~un': 3793, 'ma~un': 3794, 'gra~o': 3795, 'ia~in': 3796, 'ra~al': 3797, 'ne~ag': 3798, \"ond'è\": 3799, 'gi~il': 3800, 'gi~ar': 3801, 'se~ap': 3802, 'va~im': 3803, \"l'hai\": 3804, 'to~as': 3805, 'ro~il': 3806, \"ch'et\": 3807, 'la~or': 3808, 'pa~or': 3809, \"ch'al\": 3810, 'ti~il': 3811, 'to~et': 3812, 'mo~an': 3813, 'tu~os': 3814, \"ch'or\": 3815, \"ov'el\": 3816, 'ni~or': 3817, 'le~id': 3818, 'di~eu': 3819, \"meos'\": 3820, 'cio~e': 3821, 'lo~in': 3822, 'ro~un': 3823, 'za~un': 3824, 'mo~es': 3825, 'tro~u': 3826, 'so~at': 3827, 'li~af': 3828, 'io~al': 3829, 'lia~a': 3830, 'lo~as': 3831, 'sco~u': 3832, 'li~as': 3833, 'gne~a': 3834, 'ro~as': 3835, 'gio~e': 3836, 'do~iò': 3837, 'ste~a': 3838, \"ch'an\": 3839, 'no~ag': 3840, 'va~an': 3841, 'la~of': 3842, 'sai~o': 3843, 'bi~al': 3844, 'so~ar': 3845, \"'ve~o\": 3846, 'rlo~i': 3847, 're~an': 3848, 'te~io': 3849, 'to~of': 3850, 'ste~i': 3851, 'be~or': 3852, 'ne~ai': 3853, 'tro~i': 3854, 'bra~a': 3855, 'za~et': 3856, 'mo~ad': 3857, 'si~il': 3858, \"ch'as\": 3859, 'mo~un': 3860, 'te~ac': 3861, 'na~il': 3862, 'di~az': 3863, 'si~or': 3864, 'de~in': 3865, 'zo~il': 3866, 'po~io': 3867, \"te'mi\": 3868, 'vi~al': 3869, \"le~i'\": 3870, 'te~un': 3871, 'no~ec': 3872, 'ci~ap': 3873, 'va~il': 3874, \"gl'io\": 3875, 'le~il': 3876, \"tr'al\": 3877, 'de~ag': 3878, 'be~il': 3879, \"tr'ie\": 3880, 'li~ul': 3881, 'sta~u': 3882, 'ro~es': 3883, 'dia~e': 3884, \"stro'\": 3885, 'di~om': 3886, 'le~or': 3887, 'co~er': 3888, \"ra'ne\": 3889, 've~il': 3890, 'no~ac': 3891, 'mo~at': 3892, 'de~er': 3893, 'sto~o': 3894, \"li~i'\": 3895, 'se~il': 3896, 'so~un': 3897, 'co~al': 3898, 'hài~i': 3899, 'ra~av': 3900, 'o~e~a': 3901, 've~at': 3902, 'fu~in': 3903, 'zi~ad': 3904, 'ma~il': 3905, 'vo~ac': 3906, 'sci~a': 3907, 'to~il': 3908, 'va~ar': 3909, 'tu~ar': 3910, 'no~at': 3911, \"c'hai\": 3912, 'sài~e': 3913, 'ne~im': 3914, 'to~ar': 3915, 'ta~al': 3916, 'que~a': 3917, 'zia~e': 3918, 'zo~as': 3919, 'ro~am': 3920, 'sa~in': 3921, 'bia~e': 3922, 'ri~an': 3923, 'co~il': 3924, 'ri~il': 3925, 'lo~il': 3926, 'se~at': 3927, 'ni~ap': 3928, 'sta~e': 3929, 'ra~am': 3930, 'ti~av': 3931, 'li~il': 3932, 'bio~e': 3933, 'mi~an': 3934, \"va~a'\": 3935, 'di~of': 3936, 'che~e': 3937, 'ro~im': 3938, 're~io': 3939, 'se~an': 3940, \"ch'am\": 3941, 're~am': 3942, 'ro~av': 3943, 'sèi~a': 3944, 'li~em': 3945, 'rlo~o': 3946, 'se~in': 3947, 'va~at': 3948, 'ce~au': 3949, 'lo~es': 3950, 'ci~an': 3951, 'ci~as': 3952, 'rla~e': 3953, 'ma~ei': 3954, 'bre~o': 3955, 'lo~er': 3956, 'sti~e': 3957, 'ta~om': 3958, 'te~iu': 3959, 'me~ed': 3960, 'chi~e': 3961, 'sce~i': 3962, 'lo~ar': 3963, \"re~a'\": 3964, \"un'al\": 3965, 'gne~o': 3966, 'bi~un': 3967, \"ci~a'\": 3968, 're~ad': 3969, 'fu~av': 3970, 'mo~or': 3971, 'do~as': 3972, \"s'hai\": 3973, 'li~ap': 3974, 're~eb': 3975, 'go~il': 3976, 'ro~ad': 3977, 've~al': 3978, 'do~un': 3979, 'le~uc': 3980, 'vea~u': 3981, 'cùi~e': 3982, 'de~ar': 3983, 'ste~e': 3984, \"di~a'\": 3985, 'ce~es': 3986, 'di~al': 3987, 'ro~ab': 3988, 'co~ad': 3989, 'ti~un': 3990, 'ti~at': 3991, 'no~ed': 3992, 'su~in': 3993, \"ch'eb\": 3994, 'na~eb': 3995, 'va~in': 3996, 'to~ef': 3997, 'ia~al': 3998, \"st'ot\": 3999, 've~ap': 4000, 're~em': 4001, 'si~an': 4002, 'na~or': 4003, 'su~un': 4004, 'gio~a': 4005, \"ch'av\": 4006, 'bi~et': 4007, \"c'ha'\": 4008, 'da~io': 4009, 'pra~e': 4010, \"lo~a'\": 4011, 'ra~in': 4012, \"t'hai\": 4013, \"no~i'\": 4014, 'fo~im': 4015, 'li~ac': 4016, 'tu~as': 4017, 'da~ir': 4018, 'pa~ed': 4019, \"gn'ol\": 4020, 're~ar': 4021, 'zie~e': 4022, 'do~or': 4023, \"qu'io\": 4024, \"c'han\": 4025, 'di~af': 4026, \"ne~a'\": 4027, 'da~un': 4028, 'gi~al': 4029, 'ro~um': 4030, 'ce~ar': 4031, 'lo~un': 4032, 'ia~an': 4033, 'lo~ef': 4034, 'te~ab': 4035, 'be~as': 4036, 'cro~a': 4037, 'te~er': 4038, 'ta~an': 4039, 'no~ai': 4040, 'vra~i': 4041, 'sta~a': 4042, 'vi~il': 4043, 'gni~e': 4044, 'lèi~a': 4045, 'mi~un': 4046, 'ge~al': 4047, 'me~an': 4048, 'no~am': 4049, 'te~es': 4050, 'ce~im': 4051, 'ca~il': 4052, 'do~er': 4053, \"bo~a'\": 4054, 'de~as': 4055, 'ta~ar': 4056, 'te~em': 4057, 'ta~et': 4058, 'do~oc': 4059, 'de~il': 4060, 'bi~il': 4061, 're~ag': 4062, 'ra~ec': 4063, 'vi~an': 4064, 'vi~am': 4065, \"arr'a\": 4066, \"ch'ar\": 4067, 'ci~af': 4068, 'pre~e': 4069, 'ti~im': 4070, 'fu~er': 4071, 'dio~i': 4072, 'ra~ed': 4073, 'se~un': 4074, 'to~es': 4075, 'ti~ai': 4076, \"ch'un\": 4077, \"do~a'\": 4078, 'co~an': 4079, 'zo~al': 4080, 'te~as': 4081, 'sa~og': 4082, 'di~av': 4083, 'si~at': 4084, 'gno~e': 4085, 'fe~et': 4086, 'de~of': 4087, 'be~in': 4088, 'le~ap': 4089, 'se~af': 4090, 'le~am': 4091, 've~ar': 4092, 'si~of': 4093, 'ta~un': 4094, 'sti~o': 4095, 'ra~ot': 4096, 'ne~il': 4097, 'po~ar': 4098, 'ta~of': 4099, 'na~ab': 4100, 'to~un': 4101, 'no~ad': 4102, \"ch'es\": 4103, 'le~un': 4104, 'vo~ia': 4105, 'ri~ap': 4106, 'ma~ap': 4107, 'za~al': 4108, 'na~ac': 4109, \"ond'e\": 4110, 'ro~of': 4111, 'che~u': 4112, 'tra~a': 4113, 'le~ad': 4114, 'pi~ap': 4115, 'tro~e': 4116, 'fu~ap': 4117, 'di~un': 4118, \"ch'a'\": 4119, 'to~at': 4120, 'co~un': 4121, \"ond'a\": 4122, 'mia~e': 4123, 'so~ab': 4124, 'gna~e': 4125, \"'noi'\": 4126, 'ta~as': 4127, 'nói~o': 4128, 'la~il': 4129, 'sto~a': 4130, 'ma~io': 4131, 'ba~in': 4132, 'si~er': 4133, 'va~ai': 4134, 'fu~of': 4135, 're~ab': 4136, 'le~an': 4137, 'pri~e': 4138, 'co~at': 4139, 'te~il': 4140, 'sai~e': 4141, 'dio~a': 4142, 'ro~an': 4143, \"co~u'\": 4144, 'lo~av': 4145, 'ta~im': 4146, 'ta~es': 4147, \"gi'mi\": 4148, 'ne~et': 4149, 'ti~ad': 4150, 'ge~ai': 4151, 're~es': 4152, 'ce~un': 4153, 'zio~e': 4154, 'li~an': 4155, \"mi~a'\": 4156, 'no~il': 4157, 'fu~il': 4158, 'la~in': 4159, \"ch'om\": 4160, 'no~as': 4161, 'di~ad': 4162, 'do~il': 4163, 'do~el': 4164, 'ne~ad': 4165, 'le~av': 4166, 're~at': 4167, 'ro~al': 4168, 'li~ar': 4169, 'me~il': 4170, 'da~ia': 4171, 'me~ac': 4172, 'no~or': 4173, 'na~af': 4174, \"ch'er\": 4175, 'to~al': 4176, 'sco~e': 4177, 'so~ap': 4178, 'to~oc': 4179, 'sbe~a': 4180, 'ta~el': 4181, 'zi~ag': 4182, \"fe'mi\": 4183, 'va~eb': 4184, 'pie~e': 4185, 'to~or': 4186, 'la~au': 4187, 'chi~u': 4188, 'cio~a': 4189, 'li~ia': 4190, 'ne~es': 4191, 'ne~al': 4192, 'se~es': 4193, 'ra~un': 4194, 'ta~ad': 4195, 'ne~io': 4196, 'te~im': 4197, 'va~ol': 4198, 'va~io': 4199, 'ria~e': 4200, 'pi~or': 4201, 'di~ac': 4202, 'fa~es': 4203, 'li~ag': 4204, \"st'es\": 4205, 'pa~es': 4206, 'po~in': 4207, 'so~an': 4208, 'tu~al': 4209, 'li~al': 4210, 'ma~ac': 4211, 'ci~il': 4212, 'to~ol': 4213, 'no~an': 4214, 'gno~a': 4215, 'si~ac': 4216, 'be~al': 4217, 'li~uo': 4218, 're~et': 4219, 'nói~u': 4220, 'no~ei': 4221, 'lèi~u': 4222, 'le~oc': 4223, 'ni~es': 4224, \"ch'ei\": 4225, 'da~in': 4226, 'me~al': 4227, 'dro~e': 4228, \"co'vi\": 4229, 'ro~ar': 4230, 'lo~ai': 4231, 'ha~or': 4232, 'de~af': 4233, 'ma~es': 4234, 'do~in': 4235, \"am'io\": 4236, 'mo~in': 4237, 'da~or': 4238, 'da~al': 4239, 'ro~eb': 4240, 'schiàt': 4241, 'schiet': 4242, 'schian': 4243, 'gliuol': 4244, 'schiar': 4245, 'schiat': 4246, \"com'ar\": 4247, 'sto~im': 4248, 'pòi~in': 4249, 'qui~am': 4250, 'lùi~es': 4251, 'ghe~on': 4252, 'glio~o': 4253, 'gni~in': 4254, 'gue~il': 4255, 'tro~ad': 4256, \"tra'me\": 4257, 'nia~il': 4258, 'sta~al': 4259, 'gna~in': 4260, 'i~e~ar': 4261, 'ro~e~o': 4262, 'chi~ap': 4263, 'rle~ir': 4264, 'ma~e~a': 4265, 'smo~al': 4266, 'tre~il': 4267, 'cie~in': 4268, 'che~un': 4269, 'ti~e~i': 4270, \"s'io~a\": 4271, 'gna~un': 4272, 'sche~o': 4273, 'zio~al': 4274, 'tue~ac': 4275, 'tra~or': 4276, 'tro~an': 4277, 'zia~in': 4278, 'schi~a': 4279, \"prim'o\": 4280, 'sto~of': 4281, 'tro~ab': 4282, 'dria~e': 4283, 'gro~un': 4284, 'lèi~ar': 4285, 'sti~er': 4286, 'stri~e': 4287, 'ghi~in': 4288, 'gia~in': 4289, \"o~e~a'\": 4290, 'zai~un': 4291, 'pria~e': 4292, 'tri~es': 4293, 'cùi~ar': 4294, 'ge~e~a': 4295, 'sco~al': 4296, 'cia~ad': 4297, 'na~e~a': 4298, 'do~e~a': 4299, 'cùi~os': 4300, \"ond'ei\": 4301, \"vid'i'\": 4302, 'me~e~a': 4303, 'cia~un': 4304, 'ria~of': 4305, 'gni~an': 4306, 'ce~e~a': 4307, 'bra~av': 4308, 'spre~e': 4309, 'scia~a': 4310, 'e~io~e': 4311, 'vi~e~a': 4312, 'cio~ed': 4313, 'ghi~al': 4314, 'stra~i': 4315, 'te~aiu': 4316, 'se~e~a': 4317, 'chio~o': 4318, 'me~iep': 4319, 'sce~in': 4320, 'gio~uc': 4321, 'nói~ar': 4322, 'da~a~u': 4323, 'nói~of': 4324, 'gne~im': 4325, \"ch'a~o\": 4326, 'chio~e': 4327, 'hài~in': 4328, 're~omè': 4329, 'sta~un': 4330, 'ghia~a': 4331, 'de~e~a': 4332, 'bra~in': 4333, 'lia~il': 4334, 'da~e~a': 4335, 'chi~ac': 4336, 'gio~ad': 4337, 'rlo~ad': 4338, 'lùi~ac': 4339, \"ogn'uo\": 4340, 'qua~il': 4341, 'cia~ir': 4342, 'do~alì': 4343, 'gio~in': 4344, 'rio~il': 4345, 'tri~ap': 4346, 'tra~al': 4347, 'io~e~a': 4348, 're~o~u': 4349, 'tro~ar': 4350, 'lia~al': 4351, 'sti~in': 4352, 'chi~al': 4353, 'tro~av': 4354, \"com'oc\": 4355, 'sai~il': 4356, 'spra~e': 4357, 'sce~an': 4358, 'pi~e~i': 4359, 'de~e~o': 4360, 'scia~e': 4361, \"ch'aon\": 4362, \"prim'e\": 4363, 'e~io~a': 4364, \"dom'io\": 4365, \"temp'e\": 4366, 'gio~al': 4367, 'sma~in': 4368, 'cùi~in': 4369, 'sce~el': 4370, 'dri~ai': 4371, 'gni~al': 4372, 'tre~an': 4373, 'te~e~o': 4374, 'bre~in': 4375, 'zie~al': 4376, 'nói~an': 4377, 'tro~ac': 4378, 'che~al': 4379, \"cun'am\": 4380, 'sio~in': 4381, 'ria~al': 4382, 'stri~a': 4383, \"ebb'io\": 4384, 'mài~es': 4385, 'lèi~as': 4386, \"str'ar\": 4387, 'sco~il': 4388, 'bia~in': 4389, 'tri~ad': 4390, 'que~il': 4391, 'guài~a': 4392, 'tra~el': 4393, 'que~ad': 4394, \"ond'er\": 4395, \"cun'ar\": 4396, 'cio~al': 4397, 'gne~uò': 4398, 'tro~al': 4399, 'gno~af': 4400, 'gne~in': 4401, 'nói~in': 4402, 'do~o~e': 4403, \"str'or\": 4404, \"com'al\": 4405, 'tre~os': 4406, 'fia~il': 4407, 'pie~or': 4408, 'qua~en': 4409, 'mi~e~a': 4410, 'za~e~a': 4411, 'nói~ag': 4412, 'cia~il': 4413, 'chia~e': 4414, 'la~età': 4415, 'sti~il': 4416, 'sti~an': 4417, \"vin'ar\": 4418, 'glia~e': 4419, \"fec'io\": 4420, 'ghio~e': 4421, 'tro~il': 4422, 'se~uom': 4423, 'que~al': 4424, \"ond'io\": 4425, 'no~e~a': 4426, 'so~e~a': 4427, \"com'ei\": 4428, 'tro~im': 4429, \"ond'ir\": 4430, 'sto~al': 4431, 'si~e~o': 4432, 'nói~es': 4433, 'gno~al': 4434, 'pòi~ag': 4435, 'dai~in': 4436, 'tua~au': 4437, \"v'io~e\": 4438, 'to~e~o': 4439, 'stra~e': 4440, 'gli~un': 4441, \"co'den\": 4442, 'va~a~u': 4443, 'tra~il': 4444, \"tra'ne\": 4445, 'fìa~il': 4446, 'rlo~in': 4447, 'sto~ap': 4448, 'schi~o': 4449, \"s'io~u\": 4450, 'qua~of': 4451, 'pòi~al': 4452, 'gno~in': 4453, 'go~e~a': 4454, \"chi~a'\": 4455, 'pia~in': 4456, 'dre~al': 4457, 'glie~e': 4458, 'stio~e': 4459, 'rio~in': 4460, 'lùi~in': 4461, 'cia~ar': 4462, 'gne~er': 4463, 'dre~eb': 4464, 'qua~al': 4465, 'le~usò': 4466, 'lia~an': 4467, 'chi~an': 4468, \"com'e'\": 4469, 'cia~im': 4470, 'vrei~a': 4471, 'vra~in': 4472, 'qui~ap': 4473, 'ne~e~i': 4474, 'zia~il': 4475, 'glia~a': 4476, \"com'un\": 4477, 'le~e~a': 4478, 'ria~in': 4479, \"com'io\": 4480, 'sta~in': 4481, 'mài~ar': 4482, 'qui~as': 4483, 'stro~u': 4484, 'tro~ai': 4485, 'tue~on': 4486, 'stro~e': 4487, 'dro~in': 4488, 'mi~a~o': 4489, 'sto~io': 4490, 'cio~ap': 4491, 'qui~or': 4492, 'glia~u': 4493, 'ste~an': 4494, 'pre~in': 4495, 'mo~e~i': 4496, 'te~ior': 4497, 'nia~in': 4498, 'glio~a': 4499, 'bra~od': 4500, 'bi~e~o': 4501, 'date~a': 4502, 'stùi~a': 4503, 'te~e~a': 4504, 'gne~ef': 4505, 'rlo~at': 4506, 'mài~al': 4507, 'gli~al': 4508, 'glia~o': 4509, 'e~avrà': 4510, 'rie~in': 4511, 'glio~e': 4512, 'di~iat': 4513, 'pre~ar': 4514, 'gia~or': 4515, 'gne~al': 4516, 'cia~al': 4517, 'ste~in': 4518, \"gno~a'\": 4519, 'no~e~o': 4520, 'tre~un': 4521, 'gno~il': 4522, 'se~ior': 4523, 'tra~op': 4524, 'sti~or': 4525, \"que~a'\": 4526, 'gna~il': 4527, 'tua~in': 4528, 'stri~o': 4529, 'ste~il': 4530, 'cio~an': 4531, 'sta~im': 4532, 'qua~un': 4533, 'qua~im': 4534, \"run'ar\": 4535, \"bre~a'\": 4536, 'tri~as': 4537, 'tro~ap': 4538, \"com'es\": 4539, 'dia~in': 4540, 'to~e~i': 4541, 'tro~in': 4542, 'gia~ar': 4543, \"d'un'a\": 4544, 'zia~or': 4545, \"ch'uom\": 4546, 'gna~as': 4547, 'i~e~io': 4548, 'bria~e': 4549, 'rio~an': 4550, 'vio~il': 4551, 'qua~in': 4552, 'que~es': 4553, 'gno~ad': 4554, 'se~e~o': 4555, 'vea~in': 4556, 'che~om': 4557, 'lùi~al': 4558, 'cio~et': 4559, 'gue~in': 4560, \"qu'ieu\": 4561, 'pòi~av': 4562, 'chi~in': 4563, 'li~e~i': 4564, \"vid'io\": 4565, 'chie~e': 4566, 'pòi~ap': 4567, 'rla~ed': 4568, 'tri~il': 4569, 'nói~un': 4570, 'que~in': 4571, 'qui~in': 4572, 'tro~as': 4573, \"ogn'at\": 4574, 'cùi~il': 4575, 'lùi~ag': 4576, 'dre~an': 4577, 'sti~av': 4578, 'tro~of': 4579, 'sto~in': 4580, 'dio~in': 4581, 'stro~o': 4582, 'zia~ac': 4583, 'rlo~an': 4584, 'chi~am': 4585, 'scio~a': 4586, \"die'mi\": 4587, 'gue~an': 4588, \"com'po\": 4589, 'vo~e~a': 4590, 'ni~e~a': 4591, 'sto~ar': 4592, 'mi~aiu': 4593, 'stra~a': 4594, \"quand'\": 4595, \"com'en\": 4596, 'sce~il': 4597, 'cio~as': 4598, \"i~e~a'\": 4599, 'lùi~eb': 4600, 'lùi~ar': 4601, 'pria~o': 4602, 'hài~il': 4603, 'mia~an': 4604, 'sto~an': 4605, 'mia~al': 4606, 'sti~un': 4607, 'chi~il': 4608, 'tre~in': 4609, 'vea~il': 4610, 'stro~a': 4611, \"ch'han\": 4612, \"e~ov'è\": 4613, 'mài~ad': 4614, 're~e~a': 4615, 'sti~es': 4616, 'tre~al': 4617, 'to~e~a': 4618, 'ne~e~a': 4619, 'ria~il': 4620, 'gia~un': 4621, 'bre~et': 4622, \"tra'mi\": 4623, 'dia~as': 4624, 'lio~in': 4625, \"l'ho~a\": 4626, 'sta~an': 4627, 'cia~in': 4628, 'tro~un': 4629, 'e~io~u': 4630, 'no~e~u': 4631, 'gia~il': 4632, 'di~iar': 4633, 'sta~il': 4634, 'nio~im': 4635, \"gna~a'\": 4636, 'sce~as': 4637, 'tri~af': 4638, 'sài~es': 4639, 'sto~ad': 4640, 'nói~ad': 4641, 'pre~es': 4642, 'tri~of': 4643, 'sce~al': 4644, \"com'ac\": 4645, 'fa~e~o': 4646, 'rài~al': 4647, 'smo~in': 4648, 'pre~al': 4649, 'tro~et': 4650, \"com'om\": 4651, 'chi~ad': 4652, 'stra~u': 4653, 'co~e~i': 4654, 'nio~al': 4655, 'chio~a': 4656, 'tua~af': 4657, 'pòi~il': 4658, 'mie~un': 4659, 'tra~in': 4660, 'lùi~an': 4661, \"com'si\": 4662, 'mài~in': 4663, 'ta~e~a': 4664, 'va~e~i': 4665, \"vuo'mi\": 4666, 'bri~ap': 4667, 'sto~il': 4668, \"com'ho\": 4669, 'do~e~u': 4670, 'gio~il': 4671, 'tai~in': 4672, 'ca~età': 4673, 'gua~in': 4674, 'stro~i': 4675, 'chi~ei': 4676, 'tua~op': 4677, \"pre~a'\": 4678, \"com'i'\": 4679, 'pra~al': 4680, \"ond'el\": 4681, 'tra~an': 4682, \"tro~a'\": 4683, 'sta~ol': 4684, 'ri~e~a': 4685, 'chi~af': 4686, 'qui~al': 4687, 'gio~et': 4688, 'pre~at': 4689, 'sto~es': 4690, \"com'el\": 4691, 'zie~ec': 4692, 'dre~es': 4693, 'qui~es': 4694, 'òhi~om': 4695, 'pre~ac': 4696, 'cùi~al': 4697, \"grand'a\": 4698, 'trùi~im': 4699, 'se~e~un': 4700, 'stro~an': 4701, 'e~io~an': 4702, 'na~e~al': 4703, \"grand'e\": 4704, 'no~asco': 4705, 'stro~in': 4706, 'chia~an': 4707, 'stri~av': 4708, \"za'mi~a\": 4709, 'chio~il': 4710, 'trio~al': 4711, 'chio~al': 4712, 'ro~o~uc': 4713, \"v'ha~al\": 4714, 'chi~e~a': 4715, \"d'un'al\": 4716, \"d'un'ac\": 4717, 'scia~an': 4718, 'stri~at': 4719, 'so~e~in': 4720, 'te~e~at': 4721, 'scia~al': 4722, 'stri~af': 4723, 're~e~al': 4724, 'ta~o~in': 4725, 'ti~e~im': 4726, \"za~ov'è\": 4727, \"nobb'io\": 4728, \"com'mal\": 4729, \"e~un'al\": 4730, \"t'ha~in\": 4731, 'glia~al': 4732, 'ma~e~al': 4733, 'de~e~in': 4734, \"cinq'an\": 4735, 'co~io~a': 4736, 'stro~im': 4737, 'ro~e~al': 4738, \"ro~e~a'\": 4739, \"s'ha~in\": 4740, 'nói~e~a': 4741, 'chia~of': 4742, 'pre~e~o': 4743, 'ca~e~io': 4744, 'glia~il': 4745, \"prim'ar\": 4746, 'no~ache': 4747, 'ra~e~un': 4748, 'glio~as': 4749, 'chie~et': 4750, \"de~ov'è\": 4751, 'so~ospi': 4752, 'tro~aiu': 4753, 'stia~ad': 4754, 'ti~e~ar': 4755, 'lio~e~i': 4756, 'sto~e~a': 4757, \"cred'io\": 4758, 'stra~il': 4759, 'dia~e~a': 4760, 'e~io~al': 4761, 'glio~es': 4762, 're~usci': 4763, \"quand'è\": 4764, \"com'hai\": 4765, 'si~e~at': 4766, \"glien'a\": 4767, 'giai~al': 4768, 'stri~al': 4769, 'ro~e~in': 4770, 'do~e~ad': 4771, \"com'fer\": 4772, 'lo~e~in': 4773, 'to~e~am': 4774, 'se~e~ar': 4775, 'stro~al': 4776, 'te~oscu': 4777, 'va~e~al': 4778, 'glio~an': 4779, 'o~aspet': 4780, 'ga~e~ar': 4781, 've~e~ar': 4782, 'ro~e~an': 4783, 'glio~ai': 4784, 'da~esti': 4785, \"vegg'io\": 4786, 'te~e~ar': 4787, 'tria~am': 4788, 'antèo~a': 4789, 'po~usci': 4790, 'va~e~ab': 4791, 'e~io~in': 4792, 'stre~in': 4793, 'glia~as': 4794, 'stro~ac': 4795, 'sche~er': 4796, 'ra~io~a': 4797, 'glio~in': 4798, 'li~e~in': 4799, 'ta~e~im': 4800, 'si~e~ad': 4801, 'ni~e~ol': 4802, 'to~e~in': 4803, 'chio~at': 4804, \"ch'io~a\": 4805, \"do~un'o\": 4806, 'no~e~un': 4807, 'ro~e~ar': 4808, 'to~a~un': 4809, \"te~ov'e\": 4810, 'ma~e~ur': 4811, 'chio~an': 4812, \"com'più\": 4813, \"v'er'an\": 4814, 'chio~in': 4815, 're~e~in': 4816, 'ce~uscì': 4817, 'chia~al': 4818, \"de'tuoi\": 4819, 'pi~e~ar': 4820, 'to~acro': 4821, 'glie~in': 4822, 'ra~e~in': 4823, 'gne~uom': 4824, 'di~e~un': 4825, 'li~e~io': 4826, \"ch'io~u\": 4827, \"co~ov'a\": 4828, 'le~e~ar': 4829, 'e~io~ap': 4830, 'mo~e~io': 4831, 'da~e~ar': 4832, 'gio~o~e': 4833, \"quand'i\": 4834, 'so~uscì': 4835, 'de~uscì': 4836, 'to~o~al': 4837, \"quand'u\": 4838, \"l'ha~in\": 4839, \"v'io~en\": 4840, \"cend'io\": 4841, 'to~e~ar': 4842, \"m'ha~of\": 4843, 'ra~oscu': 4844, 'mia~e~a': 4845, \"ond'han\": 4846, 'po~avrà': 4847, \"ra~ov'è\": 4848, 'ni~e~or': 4849, 'li~agni': 4850, 'stri~an': 4851, 'ri~e~at': 4852, \"de~e~a'\": 4853, 'na~e~in': 4854, 'zia~e~a': 4855, 'glie~eb': 4856, \"com'fui\": 4857, 'le~e~at': 4858, \"samm'ol\": 4859, \"quand'a\": 4860, 'sta~e~u': 4861, 'stra~ap': 4862, 'stro~av': 4863, 'stra~ef': 4864, \"ti~e~a'\": 4865, 'so~e~al': 4866, 'e~io~at': 4867, 've~idro': 4868, 'pa~e~in': 4869, 'glia~un': 4870, 'za~e~in': 4871, 'schio~e': 4872, 'scia~il': 4873, 'co~a~un': 4874, 'bo~e~ac': 4875, 'ci~e~or': 4876, 'ca~asce': 4877, \"ch'un'a\": 4878, \"com'uom\": 4879, 'za~e~ar': 4880, \"scun'al\": 4881, \"la~a'ca\": 4882, 'ra~e~ur': 4883, 'ni~e~al': 4884, \"rupp'io\": 4885, 'li~uscì': 4886, 'fìa~iat': 4887, \"prim'om\": 4888, 'ze~e~ac': 4889, \"ta~e~a'\": 4890, 'te~e~in': 4891, 'vria~es': 4892, \"re~er'o\": 4893, 'li~o~al': 4894, 'lo~e~ar': 4895, 'stro~oc': 4896, 'glia~in': 4897, 've~e~io': 4898, 're~asco': 4899, \"'qui~iu\": 4900, 'glia~es': 4901, 'sche~ab': 4902, \"s'io~ap\": 4903, 'ta~e~al': 4904, 'stri~in': 4905, 'te~agru': 4906, 'glia~ac': 4907, 'stùi~in': 4908, 'ri~e~ar': 4909, 'stro~eb': 4910, 'ti~e~al': 4911, 'co~o~as': 4912, 'ti~e~ac': 4913, 'glie~al': 4914, 'no~e~at': 4915, \"ch'ell'\": 4916, 'te~avrà': 4917, \"s'io~al\": 4918, 'dia~e~i': 4919, 'stri~ef': 4920, 'ni~e~ia': 4921, 'le~e~il': 4922, 'da~e~in': 4923, 'mi~e~ar': 4924, \"m'ha~in\": 4925, 'ce~e~of': 4926, 'e~io~et': 4927, \"quand'e\": 4928, 'stro~il': 4929, \"ogn'uom\": 4930, \"de'le~a\": 4931, \"m'ha~el\": 4932, \"t'ho~in\": 4933, 'ra~o~al': 4934, \"co~ov'e\": 4935, \"d'un'om\": 4936, 'do~a~iu': 4937, \"rann'ei\": 4938, 'stra~in': 4939, \"s'io~an\": 4940, 'ca~e~in': 4941, \"scun'om\": 4942, 'stro~uc': 4943, 'stro~es': 4944, 'dre~e~io': 4945, 'me~uscis': 4946, 'bra~o~in': 4947, \"quand'io\": 4948, 'do~uscio': 4949, \"na'mi~in\": 4950, 'qui~e~al': 4951, 'pòi~uscì': 4952, 'lio~e~ar': 4953, 'zia~e~ar': 4954, 'lo~ascol': 4955, \"di~un'am\": 4956, 'chi~uscì': 4957, 'chi~oscu': 4958, \"ve~un'om\": 4959, \"ch'io~ac\": 4960, 'sta~o~in': 4961, 'trade~in': 4962, 're~isnel': 4963, \"va'mi~al\": 4964, 'do~aspet': 4965, \"quand'eo\": 4966, \"tr'io~an\": 4967, \"di~ond'e\": 4968, 'pa~uscia': 4969, 're~aspet': 4970, 'ra~io~in': 4971, 'na~asciu': 4972, 'ho~io~ap': 4973, \"re~ov'io\": 4974, 'no~aspet': 4975, 'ca~aprio': 4976, \"scian'an\": 4977, \"lo~un'al\": 4978, \"co~ov'i'\": 4979, 'gno~e~al': 4980, 'tu~iscor': 4981, \"quand'om\": 4982, 'ro~isnel': 4983, 're~ostel': 4984, 'to~aspet': 4985, \"grand'om\": 4986, \"grand'ar\": 4987, \"te~ond'o\": 4988, \"va~un'al\": 4989, 'do~esper': 4990, 'tro~a~un': 4991, 'ce~eclis': 4992, 'mo~uscir': 4993, \"c'hai~of\": 4994, \"te~un'al\": 4995, 'tu~ascol': 4996, \"se~ond'è\": 4997, 'le~aspet': 4998, \"re~un'on\": 4999, \"li~er'al\": 5000, 'tra~isto': 5001, 'ce~aspet': 5002, \"grand'ur\": 5003, \"si~un'an\": 5004, \"ch'io~al\": 5005, \"co~ov'io\": 5006, \"ch'io~ab\": 5007, \"ne~un'al\": 5008, \"quand'el\": 5009, 'tri~aprì': 5010, 'sto~e~ur': 5011, 'to~adria': 5012, \"ra~ond'è\": 5013, 'ci~uscis': 5014, 'ce~ostel': 5015, \"me~ond'e\": 5016, \"te~ond'e\": 5017, \"ch'io~at\": 5018, \"ve~un'al\": 5019, 'no~ebree': 5020, \"ebb'io~e\": 5021, 'gli~e~in': 5022, \"so~un'al\": 5023, 're~ostan': 5024, \"ch'io~il\": 5025, 'si~aspet': 5026, \"te~ond'è\": 5027, \"quinc'en\": 5028, 'sta~e~an': 5029, 'que~io~a': 5030, \"ch'io~ap\": 5031, 'zio~e~io': 5032, \"mo~er'al\": 5033, 're~apren': 5034, \"le~er'al\": 5035, 'sta~aiuo': 5036, 'sto~e~al': 5037, \"lo~ov'io\": 5038, \"quand'i'\": 5039, 'to~agnel': 5040, 'do~ascol': 5041, 'ho~io~il': 5042, 've~isnel': 5043, 'di~asden': 5044, 'li~aspet': 5045, 'no~uscie': 5046, \"ch'io~un\": 5047, \"ch'io~in\": 5048, 'li~ascol': 5049, 'pa~uscio': 5050, \"tra'ti~a\": 5051, 'sa~uscio': 5052, \"vrebb'es\": 5053, 'sco~e~an': 5054, 'sto~io~a': 5055, \"si~un'al\": 5056, \"ri~ond'è\": 5057, \"di~un'om\": 5058, 'tro~a~iu': 5059, 'cia~a~on': 5060, \"ond'io~a\": 5061, 'ta~uscio': 5062, \"da'mi~in\": 5063, \"te~apri'\": 5064, 'co~agnel': 5065, \"ci~un'om\": 5066, 'pre~e~in': 5067, \"ch'un'al\": 5068, 'ti~e~a~u': 5069, \"ra~ond'u\": 5070, 'de~achil': 5071, 'ma~uscio': 5072, \"vid'io~u\": 5073, \"le~ov'io\": 5074, \"to~ov'io\": 5075, \"ch'io~eb\": 5076, \"ta'mi~al\": 5077, \"fec'io~a\": 5078, \"sa~un'ac\": 5079, \"quand'eb\": 5080, \"cia~ond'è\": 5081, 'gno~aspet': 5082, 'que~ostel': 5083, \"za~ond'io\": 5084, \"com'io~un\": 5085, 'te~asciut': 5086, \"re~ond'io\": 5087, \"ond'io~ap\": 5088, \"com'io~in\": 5089, \"vid'io~an\": 5090, \"fec'io~in\": 5091, \"de~ond'e'\": 5092, \"glio~ov'è\": 5093, 'so~asciut': 5094, 'lèi~uscia': 5095, \"rli~er'io\": 5096, \"di~ond'e'\": 5097, \"venn'io~a\": 5098, 'ta~e~atra': 5099, 'na~e~atra': 5100, 'lùi~uscio': 5101, \"dra'mi~al\": 5102, 'glia~e~ar': 5103, 'ro~espres': 5104, 'li~asciut': 5105, \"te~ond'e'\": 5106, 'tro~eschi': 5107, 'tro~ostel': 5108, 'tra~uscin': 5109, \"sta~ov'el\": 5110, 'ne~espres': 5111, 'cia~apris': 5112, \"ra~ond'io\": 5113, \"le~ond'io\": 5114, 'stro~e~io': 5115, \"vid'io~al\": 5116, \"chi~un'om\": 5117, \"com'hai~u\": 5118, \"na~ond'io\": 5119, \"chi~ov'el\": 5120, \"co~ond'io\": 5121, \"vid'io~in\": 5122, \"com'io~av\": 5123, \"po~ond'el\": 5124, \"com'io~al\": 5125, \"vegg'io~a\": 5126, 'ta~e~asco': 5127, \"lo~ond'ei\": 5128, 're~espres': 5129, \"re~ond'el\": 5130, \"com'io~il\": 5131, 'stro~e~or': 5132, 'ce~e~io~e': 5133, \"ria~ond'io\": 5134, 'tro~e~io~e': 5135, \"sta~ogn'al\": 5136, \"nand'io~in\": 5137, \"zia~ond'io\": 5138, \"tro~ond'io\": 5139, \"si~ogn'uom\": 5140, \"vegg'io~or\": 5141, \"quand'io~o\": 5142, \"pio~ond'el\": 5143, 'ti~e~ascol': 5144, 'sio~e~io~e': 5145, 'da~e~ascol': 5146, 'la~e~io~ar': 5147, \"quand'io~u\": 5148, 'si~e~ascol': 5149, \"chi~ond'io\": 5150, 're~e~ascol': 5151, 'scia~esper': 5152, \"com'io~esti\": 5153, 'stro~e~io~e': 5154, \"quand'io~in\": 5155, \"la~ond'io~a\": 5156, \"stèi~ond'io\": 5157, 'qui~e~io~ed': 5158, \"quand'un'al\": 5159, \"ch'io~usci'\": 5160, \"glio~ond'el\": 5161, \"re~ond'io~ar\": 5162, \"re~ond'io~av\": 5163}\n",
            "\n",
            "idx2str:\n",
            " ['' '<t>' '<s>' ... \"glio~ond'el\" \"re~ond'io~ar\" \"re~ond'io~av\"]\n",
            "\n",
            "\n",
            "====================================================================================================\n",
            "\n",
            "Files:  5\n",
            "Files names:\n",
            "\t1- tokenized_convivio.txt\n",
            "\t2- tokenized_vita.txt\n",
            "\t3- tokenized_detto.txt\n",
            "\t4- tokenized_commedia.txt\n",
            "\t5- tokenized_fiore.txt\n",
            "\n",
            "\n",
            "====================================================================================================\n"
          ],
          "name": "stdout"
        }
      ]
    },
    {
      "cell_type": "code",
      "metadata": {
        "id": "onjTkuBKKO3l",
        "outputId": "2f7719e8-2a5f-4899-b4c2-91a7ead6ccc4",
        "colab": {
          "base_uri": "https://localhost:8080/"
        }
      },
      "source": [
        "# Create Dante's Produciton datasets list\n",
        "dataset_production = []\n",
        "for file_name in myorder:\n",
        "  if not file_name == \"tokenized_commedia.txt\":\n",
        "    dataset_production.append(files[file_name])\n",
        "  \n",
        "# Split input target for Dante's Production dataset\n",
        "if epochs_production > 0:\n",
        "  print(\"Generating Dante's Production\")\n",
        "  dataset_production, real_size_production = split_input_target_production(\n",
        "      dataset_production, inp_len = 3, tar_len = 3, repetitions = repetitions_production)\n",
        "  print(\"Real size production: \", real_size_production)\n",
        "\n",
        "\n",
        "# Split input target for Divine Comedy dataset\n",
        "if epochs_comedy > 0:\n",
        "  print(\"Generating Divine Comedy\")\n",
        "  dataset_comedy, max_len, real_size_comedy = split_input_target_comedy(\n",
        "          text_list = files[\"tokenized_commedia.txt\"], inp_len = 3, tar_len = 4, repetitions = repetitions_comedy)\n",
        "  print(\"Real size comedy: \", real_size_comedy)"
      ],
      "execution_count": 11,
      "outputs": [
        {
          "output_type": "stream",
          "text": [
            "Generating Divine Comedy\n",
            "Real size comedy:  223\n"
          ],
          "name": "stdout"
        }
      ]
    },
    {
      "cell_type": "code",
      "metadata": {
        "id": "a4LheZosGeXA",
        "outputId": "6a6e6786-5639-4186-f797-0bc0d59d93e3",
        "colab": {
          "base_uri": "https://localhost:8080/"
        }
      },
      "source": [
        "# Print samples of the generated Comedy dataset\n",
        "print(\"Comedy datasets Samples:\\n\")\n",
        "for (batch, (inputs, targets)) in enumerate(dataset_comedy.take(1)):\n",
        "  print(\"{} [batch: {}] {}\".format(\"=\"*15, batch, \"=\"*15))\n",
        "  print(\"-- input:\\n\\n{}\\n\\n-- target:\\n\\n{}\\n\".format(clear_text(ints_to_text(inputs[0])),clear_text(ints_to_text(targets[0]))))"
      ],
      "execution_count": 12,
      "outputs": [
        {
          "output_type": "stream",
          "text": [
            "Comedy datasets Samples:\n",
            "\n",
            "=============== [batch: 0] ===============\n",
            "-- input:\n",
            "\n",
            "\n",
            "o iacopo, dicea, da sànto andrea,\n",
            "ché t'è giovàto di me fàre schermo?\n",
            "ché cólpa ho io de la tua vìta rea?.\n",
            "\n",
            "\n",
            "-- target:\n",
            "\n",
            "\n",
            "o iacopo, dicea, da sànto andrea,\n",
            "ché t'è giovàto di me fàre schermo?\n",
            "ché cólpa ho io de la tua vìta rea?.\n",
            "\n",
            "quàndo 'l maestro fu sovr'esso fermo,\n",
            "\n",
            "\n"
          ],
          "name": "stdout"
        }
      ]
    },
    {
      "cell_type": "markdown",
      "metadata": {
        "id": "B-fdKb3tPg9u"
      },
      "source": [
        "# Transformer Components and Functions"
      ]
    },
    {
      "cell_type": "markdown",
      "metadata": {
        "id": "nBQuibYA4n0n"
      },
      "source": [
        "## Positional encoding\n"
      ]
    },
    {
      "cell_type": "markdown",
      "metadata": {
        "id": "55S_7FSSqEER"
      },
      "source": [
        "Since this model doesn't contain any recurrence or convolution, positional encoding is added to give the model some information about the relative position of the words in the sentence. \n",
        "\n",
        "The positional encoding vector is added to the embedding vector. Embeddings represent a token in a d-dimensional space where tokens with similar meaning will be closer to each other. But the embeddings do not encode the relative position of words in a sentence. So after adding the positional encoding, words will be closer to each other based on the *similarity of their meaning and their position in the sentence*, in the d-dimensional space.\n",
        "\n",
        "$$\\Large{PE_{(pos, 2i)} = sin(pos / 10000^{2i / d_{model}})} $$\n",
        "$$\\Large{PE_{(pos, 2i+1)} = cos(pos / 10000^{2i / d_{model}})} $$"
      ]
    },
    {
      "cell_type": "code",
      "metadata": {
        "id": "WhIOZjMNKujn"
      },
      "source": [
        "def get_angles(pos, i, d_model):\n",
        "  angle_rates = 1 / np.power(10000, (2 * (i//2)) / np.float32(d_model))\n",
        "  return pos * angle_rates"
      ],
      "execution_count": 13,
      "outputs": []
    },
    {
      "cell_type": "code",
      "metadata": {
        "id": "1Rz82wEs5biZ"
      },
      "source": [
        "def positional_encoding(position, d_model):\n",
        "  angle_rads = get_angles(np.arange(position)[:, np.newaxis],\n",
        "                          np.arange(d_model)[np.newaxis, :],\n",
        "                          d_model)\n",
        "  \n",
        "  # apply sin to even indices in the array; 2i\n",
        "  angle_rads[:, 0::2] = np.sin(angle_rads[:, 0::2])\n",
        "  \n",
        "  # apply cos to odd indices in the array; 2i+1\n",
        "  angle_rads[:, 1::2] = np.cos(angle_rads[:, 1::2])\n",
        "    \n",
        "  pos_encoding = angle_rads[np.newaxis, ...]\n",
        "    \n",
        "  return tf.cast(pos_encoding, dtype=tf.float32)"
      ],
      "execution_count": 14,
      "outputs": []
    },
    {
      "cell_type": "markdown",
      "metadata": {
        "id": "a_b4ou4TYqUN"
      },
      "source": [
        "## Masking"
      ]
    },
    {
      "cell_type": "markdown",
      "metadata": {
        "id": "s42Uydjkv0hF"
      },
      "source": [
        "Mask all the pad tokens in the batch of sequence. It ensures that the model does not treat padding as the input. The mask indicates where pad value `0` is present: it outputs a `1` at those locations, and a `0` otherwise."
      ]
    },
    {
      "cell_type": "code",
      "metadata": {
        "id": "bk-eypEB4dL-"
      },
      "source": [
        "def create_padding_mask(seq):\n",
        "  seq = tf.cast(tf.math.equal(seq, 0), tf.float32)\n",
        "  \n",
        "  # add extra dimensions to add the padding\n",
        "  # to the attention logits.\n",
        "  return seq[:, tf.newaxis, tf.newaxis, :]  # (batch_size, 1, 1, seq_len)"
      ],
      "execution_count": 15,
      "outputs": []
    },
    {
      "cell_type": "markdown",
      "metadata": {
        "id": "Z0hzukDBgVom"
      },
      "source": [
        "The look-ahead mask is used to mask the future tokens in a sequence. In other words, the mask indicates which entries should not be used.\n",
        "\n",
        "This means that to predict the third word, only the first and second word will be used. Similarly to predict the fourth word, only the first, second and the third word will be used and so on."
      ]
    },
    {
      "cell_type": "code",
      "metadata": {
        "id": "dVxS8OPI9uI0"
      },
      "source": [
        "def create_look_ahead_mask(size):\n",
        "  mask = 1 - tf.linalg.band_part(tf.ones((size, size)), -1, 0)\n",
        "  return mask  # (seq_len, seq_len)"
      ],
      "execution_count": 16,
      "outputs": []
    },
    {
      "cell_type": "code",
      "metadata": {
        "id": "6roK1V85rXqB"
      },
      "source": [
        "def create_masks(inp, tar):\n",
        "  # Encoder padding mask\n",
        "  enc_padding_mask = create_padding_mask(inp)\n",
        "  \n",
        "  # Used in the 2nd attention block in the decoder.\n",
        "  # This padding mask is used to mask the encoder outputs.\n",
        "  dec_padding_mask = create_padding_mask(inp)\n",
        "  \n",
        "  # Used in the 1st attention block in the decoder.\n",
        "  # It is used to pad and mask future tokens in the input received by \n",
        "  # the decoder.\n",
        "  look_ahead_mask = create_look_ahead_mask(tf.shape(tar)[1])\n",
        "  dec_target_padding_mask = create_padding_mask(tar)\n",
        "  combined_mask = tf.maximum(dec_target_padding_mask, look_ahead_mask)\n",
        "  \n",
        "  return enc_padding_mask, combined_mask, dec_padding_mask"
      ],
      "execution_count": 17,
      "outputs": []
    },
    {
      "cell_type": "markdown",
      "metadata": {
        "id": "xluDl5cXYy4y"
      },
      "source": [
        "## Scaled dot product attention"
      ]
    },
    {
      "cell_type": "markdown",
      "metadata": {
        "id": "vsxEE_-Wa1gF"
      },
      "source": [
        "<img src=\"https://www.tensorflow.org/images/tutorials/transformer/scaled_attention.png\" width=\"500\" alt=\"scaled_dot_product_attention\">\n",
        "\n",
        "The attention function used by the transformer takes three inputs: Q (query), K (key), V (value). The equation used to calculate the attention weights is:\n",
        "\n",
        "$$\\Large{Attention(Q, K, V) = softmax_k(\\frac{QK^T}{\\sqrt{d_k}}) V} $$\n",
        "\n",
        "The dot-product attention is scaled by a factor of square root of the depth. This is done because for large values of depth, the dot product grows large in magnitude pushing the softmax function where it has small gradients resulting in a very hard softmax. \n",
        "\n",
        "For example, consider that `Q` and `K` have a mean of 0 and variance of 1. Their matrix multiplication will have a mean of 0 and variance of `dk`. Hence, *square root of `dk`* is used for scaling (and not any other number) because the matmul of `Q` and `K` should have a mean of 0 and variance of 1, and you get a gentler softmax.\n",
        "\n",
        "The mask is multiplied with -1e9 (close to negative infinity). This is done because the mask is summed with the scaled matrix multiplication of Q and K and is applied immediately before a softmax. The goal is to zero out these cells, and large negative inputs to softmax are near zero in the output."
      ]
    },
    {
      "cell_type": "code",
      "metadata": {
        "id": "LazzUq3bJ5SH"
      },
      "source": [
        "def scaled_dot_product_attention(q, k, v, mask):\n",
        "  \"\"\"Calculate the attention weights.\n",
        "  q, k, v must have matching leading dimensions.\n",
        "  k, v must have matching penultimate dimension, i.e.: seq_len_k = seq_len_v.\n",
        "  The mask has different shapes depending on its type(padding or look ahead) \n",
        "  but it must be broadcastable for addition.\n",
        "  \n",
        "  Args:\n",
        "    q: query shape == (..., seq_len_q, depth)\n",
        "    k: key shape == (..., seq_len_k, depth)\n",
        "    v: value shape == (..., seq_len_v, depth_v)\n",
        "    mask: Float tensor with shape broadcastable \n",
        "          to (..., seq_len_q, seq_len_k). Defaults to None.\n",
        "    \n",
        "  Returns:\n",
        "    output, attention_weights\n",
        "  \"\"\"\n",
        "\n",
        "  matmul_qk = tf.matmul(q, k, transpose_b=True)  # (..., seq_len_q, seq_len_k)\n",
        "  \n",
        "  # scale matmul_qk\n",
        "  dk = tf.cast(tf.shape(k)[-1], tf.float32)\n",
        "  scaled_attention_logits = matmul_qk / tf.math.sqrt(dk)\n",
        "\n",
        "  # add the mask to the scaled tensor.\n",
        "  if mask is not None:\n",
        "    scaled_attention_logits += (mask * -1e9)  \n",
        "\n",
        "  # softmax is normalized on the last axis (seq_len_k) so that the scores\n",
        "  # add up to 1.\n",
        "  attention_weights = tf.nn.softmax(scaled_attention_logits, axis=-1)  # (..., seq_len_q, seq_len_k)\n",
        "\n",
        "  output = tf.matmul(attention_weights, v)  # (..., seq_len_q, depth_v)\n",
        "\n",
        "  return output, attention_weights"
      ],
      "execution_count": 18,
      "outputs": []
    },
    {
      "cell_type": "markdown",
      "metadata": {
        "id": "FiqETnhCkoXh"
      },
      "source": [
        "As the softmax normalization is done on K, its values decide the amount of importance given to Q.\n",
        "\n",
        "The output represents the multiplication of the attention weights and the V (value) vector. This ensures that the words you want to focus on are kept as-is and the irrelevant words are flushed out."
      ]
    },
    {
      "cell_type": "markdown",
      "metadata": {
        "id": "kmzGPEy64qmA"
      },
      "source": [
        "## Multi-head attention"
      ]
    },
    {
      "cell_type": "markdown",
      "metadata": {
        "id": "fz5BMC8Kaoqo"
      },
      "source": [
        "<img src=\"https://www.tensorflow.org/images/tutorials/transformer/multi_head_attention.png\" width=\"500\" alt=\"multi-head attention\">\n",
        "\n",
        "\n",
        "Multi-head attention consists of four parts:\n",
        "*    Linear layers and split into heads.\n",
        "*    Scaled dot-product attention.\n",
        "*    Concatenation of heads.\n",
        "*    Final linear layer."
      ]
    },
    {
      "cell_type": "markdown",
      "metadata": {
        "id": "JPmbr6F1C-v_"
      },
      "source": [
        "Each multi-head attention block gets three inputs; Q (query), K (key), V (value). These are put through linear (Dense) layers and split up into multiple heads. \n",
        "\n",
        "The `scaled_dot_product_attention` defined above is applied to each head (broadcasted for efficiency). An appropriate mask must be used in the attention step.  The attention output for each head is then concatenated (using `tf.transpose`, and `tf.reshape`) and put through a final `Dense` layer.\n",
        "\n",
        "Instead of one single attention head, Q, K, and V are split into multiple heads because it allows the model to jointly attend to information at different positions from different representational spaces. After the split each head has a reduced dimensionality, so the total computation cost is the same as a single head attention with full dimensionality."
      ]
    },
    {
      "cell_type": "code",
      "metadata": {
        "id": "BSV3PPKsYecw"
      },
      "source": [
        "class MultiHeadAttention(tf.keras.layers.Layer):\n",
        "  def __init__(self, d_model, num_heads):\n",
        "    super(MultiHeadAttention, self).__init__()\n",
        "    self.num_heads = num_heads\n",
        "    self.d_model = d_model\n",
        "    \n",
        "    assert d_model % self.num_heads == 0\n",
        "    \n",
        "    self.depth = d_model // self.num_heads\n",
        "    \n",
        "    self.wq = tf.keras.layers.Dense(d_model)\n",
        "    self.wk = tf.keras.layers.Dense(d_model)\n",
        "    self.wv = tf.keras.layers.Dense(d_model)\n",
        "    \n",
        "    self.dense = tf.keras.layers.Dense(d_model)\n",
        "        \n",
        "  def split_heads(self, x, batch_size):\n",
        "    \"\"\"Split the last dimension into (num_heads, depth).\n",
        "    Transpose the result such that the shape is (batch_size, num_heads, seq_len, depth)\n",
        "    \"\"\"\n",
        "    x = tf.reshape(x, (batch_size, -1, self.num_heads, self.depth))\n",
        "    return tf.transpose(x, perm=[0, 2, 1, 3])\n",
        "    \n",
        "  def call(self, v, k, q, mask):\n",
        "    batch_size = tf.shape(q)[0]\n",
        "    \n",
        "    q = self.wq(q)  # (batch_size, seq_len, d_model)\n",
        "    k = self.wk(k)  # (batch_size, seq_len, d_model)\n",
        "    v = self.wv(v)  # (batch_size, seq_len, d_model)\n",
        "    \n",
        "    q = self.split_heads(q, batch_size)  # (batch_size, num_heads, seq_len_q, depth)\n",
        "    k = self.split_heads(k, batch_size)  # (batch_size, num_heads, seq_len_k, depth)\n",
        "    v = self.split_heads(v, batch_size)  # (batch_size, num_heads, seq_len_v, depth)\n",
        "    \n",
        "    # scaled_attention.shape == (batch_size, num_heads, seq_len_q, depth)\n",
        "    # attention_weights.shape == (batch_size, num_heads, seq_len_q, seq_len_k)\n",
        "    scaled_attention, attention_weights = scaled_dot_product_attention(\n",
        "        q, k, v, mask)\n",
        "    \n",
        "    scaled_attention = tf.transpose(scaled_attention, perm=[0, 2, 1, 3])  # (batch_size, seq_len_q, num_heads, depth)\n",
        "\n",
        "    concat_attention = tf.reshape(scaled_attention, \n",
        "                                  (batch_size, -1, self.d_model))  # (batch_size, seq_len_q, d_model)\n",
        "\n",
        "    output = self.dense(concat_attention)  # (batch_size, seq_len_q, d_model)\n",
        "        \n",
        "    return output, attention_weights"
      ],
      "execution_count": 19,
      "outputs": []
    },
    {
      "cell_type": "markdown",
      "metadata": {
        "id": "0D8FJue5lDyZ"
      },
      "source": [
        "Create a `MultiHeadAttention` layer to try out. At each location in the sequence, `y`, the `MultiHeadAttention` runs all 8 attention heads across all other locations in the sequence, returning a new vector of the same length at each location."
      ]
    },
    {
      "cell_type": "markdown",
      "metadata": {
        "id": "RdDqGayx67vv"
      },
      "source": [
        "## Point wise feed forward network"
      ]
    },
    {
      "cell_type": "markdown",
      "metadata": {
        "id": "gBqzJXGfHK3X"
      },
      "source": [
        "Point wise feed forward network consists of two fully-connected layers with a ReLU activation in between."
      ]
    },
    {
      "cell_type": "code",
      "metadata": {
        "id": "ET7xLt0yCT6Z"
      },
      "source": [
        "def point_wise_feed_forward_network(d_model, dff):\n",
        "  return tf.keras.Sequential([\n",
        "      tf.keras.layers.Dense(dff, activation='relu'),  # (batch_size, seq_len, dff)\n",
        "      tf.keras.layers.Dense(d_model)  # (batch_size, seq_len, d_model)\n",
        "  ])"
      ],
      "execution_count": 20,
      "outputs": []
    },
    {
      "cell_type": "markdown",
      "metadata": {
        "id": "7e7hKcxn6-zd"
      },
      "source": [
        "## Encoder and decoder"
      ]
    },
    {
      "cell_type": "markdown",
      "metadata": {
        "id": "yScbC0MUH8dS"
      },
      "source": [
        "<img src=\"https://www.tensorflow.org/images/tutorials/transformer/transformer.png\" width=\"600\" alt=\"transformer\">"
      ]
    },
    {
      "cell_type": "markdown",
      "metadata": {
        "id": "MfYJG-Kvgwy2"
      },
      "source": [
        "The transformer model follows the same general pattern as a standard sequence to sequence with attention model. \n",
        "\n",
        "* The input sentence is passed through `N` encoder layers that generates an output for each word/token in the sequence.\n",
        "* The decoder attends on the encoder's output and its own input (self-attention) to predict the next word. "
      ]
    },
    {
      "cell_type": "markdown",
      "metadata": {
        "id": "HzNrTeFPsK-4"
      },
      "source": [
        "### Encoder layer"
      ]
    },
    {
      "cell_type": "code",
      "metadata": {
        "id": "bkaDAL4_sKgy"
      },
      "source": [
        "class EncoderLayer(tf.keras.layers.Layer):\n",
        "  def __init__(self, d_model, num_heads, dff, rate=0.1):\n",
        "    super(EncoderLayer, self).__init__()\n",
        "\n",
        "    self.mha = MultiHeadAttention(d_model, num_heads)\n",
        "    self.ffn = point_wise_feed_forward_network(d_model, dff)\n",
        "\n",
        "    self.layernorm1 = tf.keras.layers.LayerNormalization(epsilon=1e-6)\n",
        "    self.layernorm2 = tf.keras.layers.LayerNormalization(epsilon=1e-6)\n",
        "    \n",
        "    self.dropout1 = tf.keras.layers.Dropout(rate)\n",
        "    self.dropout2 = tf.keras.layers.Dropout(rate)\n",
        "    \n",
        "  def call(self, x, training, mask):\n",
        "\n",
        "    attn_output, _ = self.mha(x, x, x, mask)  # (batch_size, input_seq_len, d_model)\n",
        "    attn_output = self.dropout1(attn_output, training=training)\n",
        "    out1 = self.layernorm1(x + attn_output)  # (batch_size, input_seq_len, d_model)\n",
        "    \n",
        "    ffn_output = self.ffn(out1)  # (batch_size, input_seq_len, d_model)\n",
        "    ffn_output = self.dropout2(ffn_output, training=training)\n",
        "    out2 = self.layernorm2(out1 + ffn_output)  # (batch_size, input_seq_len, d_model)\n",
        "    \n",
        "    return out2"
      ],
      "execution_count": 21,
      "outputs": []
    },
    {
      "cell_type": "markdown",
      "metadata": {
        "id": "6LO_48Owmx_o"
      },
      "source": [
        "### Decoder layer"
      ]
    },
    {
      "cell_type": "code",
      "metadata": {
        "id": "9SoX0-vd1hue"
      },
      "source": [
        "class DecoderLayer(tf.keras.layers.Layer):\n",
        "  def __init__(self, d_model, num_heads, dff, rate=0.1):\n",
        "    super(DecoderLayer, self).__init__()\n",
        "\n",
        "    self.mha1 = MultiHeadAttention(d_model, num_heads)\n",
        "    self.mha2 = MultiHeadAttention(d_model, num_heads)\n",
        "\n",
        "    self.ffn = point_wise_feed_forward_network(d_model, dff)\n",
        " \n",
        "    self.layernorm1 = tf.keras.layers.LayerNormalization(epsilon=1e-6)\n",
        "    self.layernorm2 = tf.keras.layers.LayerNormalization(epsilon=1e-6)\n",
        "    self.layernorm3 = tf.keras.layers.LayerNormalization(epsilon=1e-6)\n",
        "    \n",
        "    self.dropout1 = tf.keras.layers.Dropout(rate)\n",
        "    self.dropout2 = tf.keras.layers.Dropout(rate)\n",
        "    self.dropout3 = tf.keras.layers.Dropout(rate)\n",
        "    \n",
        "    \n",
        "  def call(self, x, enc_output, training, \n",
        "           look_ahead_mask, padding_mask):\n",
        "    # enc_output.shape == (batch_size, input_seq_len, d_model)\n",
        "\n",
        "    attn1, attn_weights_block1 = self.mha1(x, x, x, look_ahead_mask)  # (batch_size, target_seq_len, d_model)\n",
        "    attn1 = self.dropout1(attn1, training=training)\n",
        "    out1 = self.layernorm1(attn1 + x)\n",
        "    \n",
        "    attn2, attn_weights_block2 = self.mha2(\n",
        "        enc_output, enc_output, out1, padding_mask)  # (batch_size, target_seq_len, d_model)\n",
        "    attn2 = self.dropout2(attn2, training=training)\n",
        "    out2 = self.layernorm2(attn2 + out1)  # (batch_size, target_seq_len, d_model)\n",
        "    \n",
        "    ffn_output = self.ffn(out2)  # (batch_size, target_seq_len, d_model)\n",
        "    ffn_output = self.dropout3(ffn_output, training=training)\n",
        "    out3 = self.layernorm3(ffn_output + out2)  # (batch_size, target_seq_len, d_model)\n",
        "    \n",
        "    return out3, attn_weights_block1, attn_weights_block2"
      ],
      "execution_count": 22,
      "outputs": []
    },
    {
      "cell_type": "markdown",
      "metadata": {
        "id": "iz6Ky8W1sbuA"
      },
      "source": [
        "### Encoder"
      ]
    },
    {
      "cell_type": "code",
      "metadata": {
        "id": "GwDyhNpIsYJh"
      },
      "source": [
        "class Encoder(tf.keras.layers.Layer):\n",
        "  def __init__(self, num_layers, d_model, num_heads, dff, input_vocab_size,\n",
        "               maximum_position_encoding, rate=0.1):\n",
        "    super(Encoder, self).__init__()\n",
        "\n",
        "    self.d_model = d_model\n",
        "    self.num_layers = num_layers\n",
        "    \n",
        "    self.embedding = tf.keras.layers.Embedding(input_vocab_size, d_model, mask_zero= True)\n",
        "    self.pos_encoding = positional_encoding(maximum_position_encoding, \n",
        "                                            self.d_model)\n",
        "    \n",
        "    \n",
        "    self.enc_layers = [EncoderLayer(d_model, num_heads, dff, rate) \n",
        "                       for _ in range(num_layers)]\n",
        "  \n",
        "    self.dropout = tf.keras.layers.Dropout(rate)\n",
        "        \n",
        "  def call(self, x, training, mask):\n",
        "\n",
        "    seq_len = tf.shape(x)[1]\n",
        "    \n",
        "    # adding embedding and position encoding.\n",
        "    x = self.embedding(x)  # (batch_size, input_seq_len, d_model)\n",
        "    x *= tf.math.sqrt(tf.cast(self.d_model, tf.float32))\n",
        "    x += self.pos_encoding[:, :seq_len, :]\n",
        "\n",
        "    x = self.dropout(x, training=training)\n",
        "    \n",
        "    for i in range(self.num_layers):\n",
        "      x = self.enc_layers[i](x, training, mask)\n",
        "    \n",
        "    return x  # (batch_size, input_seq_len, d_model)"
      ],
      "execution_count": 23,
      "outputs": []
    },
    {
      "cell_type": "markdown",
      "metadata": {
        "id": "p-uO6ls8m2O5"
      },
      "source": [
        "### Decoder"
      ]
    },
    {
      "cell_type": "code",
      "metadata": {
        "id": "d5_d5-PLQXwY"
      },
      "source": [
        "class Decoder(tf.keras.layers.Layer):\n",
        "  def __init__(self, num_layers, d_model, num_heads, dff, target_vocab_size,\n",
        "               maximum_position_encoding, rate=0.1):\n",
        "    super(Decoder, self).__init__()\n",
        "\n",
        "    self.d_model = d_model\n",
        "    self.num_layers = num_layers\n",
        "    \n",
        "    self.embedding = tf.keras.layers.Embedding(target_vocab_size, d_model, mask_zero= True)\n",
        "    self.pos_encoding = positional_encoding(maximum_position_encoding, d_model)\n",
        "    \n",
        "    self.dec_layers = [DecoderLayer(d_model, num_heads, dff, rate) \n",
        "                       for _ in range(num_layers)]\n",
        "    self.dropout = tf.keras.layers.Dropout(rate)\n",
        "    \n",
        "  def call(self, x, enc_output, training, \n",
        "           look_ahead_mask, padding_mask):\n",
        "\n",
        "    seq_len = tf.shape(x)[1]\n",
        "    attention_weights = {}\n",
        "    \n",
        "    x = self.embedding(x)  # (batch_size, target_seq_len, d_model)\n",
        "    x *= tf.math.sqrt(tf.cast(self.d_model, tf.float32))\n",
        "    x += self.pos_encoding[:, :seq_len, :]\n",
        "    \n",
        "    x = self.dropout(x, training=training)\n",
        "\n",
        "    for i in range(self.num_layers):\n",
        "      x, block1, block2 = self.dec_layers[i](x, enc_output, training,\n",
        "                                             look_ahead_mask, padding_mask)\n",
        "      \n",
        "      attention_weights['decoder_layer{}_block1'.format(i+1)] = block1\n",
        "      attention_weights['decoder_layer{}_block2'.format(i+1)] = block2\n",
        "    \n",
        "    # x.shape == (batch_size, target_seq_len, d_model)\n",
        "    return x, attention_weights"
      ],
      "execution_count": 24,
      "outputs": []
    },
    {
      "cell_type": "markdown",
      "metadata": {
        "id": "y54xnJnuYgJ7"
      },
      "source": [
        "## Transformer"
      ]
    },
    {
      "cell_type": "code",
      "metadata": {
        "id": "PED3bIpOYkBu"
      },
      "source": [
        "class Transformer(tf.keras.Model):\n",
        "  def __init__(self, num_layers_encoder, num_layers_decoder, d_model, num_heads, dff, input_vocab_size, \n",
        "               target_vocab_size, pe_input, pe_target, rate=0.1):\n",
        "    super(Transformer, self).__init__()\n",
        "\n",
        "    self.encoder = Encoder(num_layers_encoder, d_model, num_heads, dff, \n",
        "                           input_vocab_size, pe_input, rate)\n",
        "\n",
        "    self.decoder = Decoder(num_layers_decoder, d_model, num_heads, dff, \n",
        "                           target_vocab_size, pe_target, rate)\n",
        "\n",
        "    self.final_layer = tf.keras.layers.Dense(target_vocab_size)\n",
        "    \n",
        "  def call(self, inp, tar, training, enc_padding_mask, \n",
        "           look_ahead_mask, dec_padding_mask):\n",
        "\n",
        "    enc_output = self.encoder(inp, training, enc_padding_mask)  # (batch_size, inp_seq_len, d_model)\n",
        "    \n",
        "    # dec_output.shape == (batch_size, tar_seq_len, d_model)\n",
        "    dec_output, attention_weights = self.decoder(\n",
        "        tar, enc_output, training, look_ahead_mask, dec_padding_mask)\n",
        "    \n",
        "    final_output = self.final_layer(dec_output)  # (batch_size, tar_seq_len, target_vocab_size)\n",
        "    \n",
        "    return final_output, attention_weights"
      ],
      "execution_count": 25,
      "outputs": []
    },
    {
      "cell_type": "markdown",
      "metadata": {
        "id": "xYEGhEOtzn5W"
      },
      "source": [
        "## Optimizer"
      ]
    },
    {
      "cell_type": "markdown",
      "metadata": {
        "id": "GOmWW--yP3zx"
      },
      "source": [
        "Use the Adam optimizer with a custom learning rate scheduler according to the formula in the [paper](https://arxiv.org/abs/1706.03762).\n",
        "\n",
        "$$\\Large{lrate = d_{model}^{-0.5} * min(step{\\_}num^{-0.5}, step{\\_}num * warmup{\\_}steps^{-1.5})}$$\n"
      ]
    },
    {
      "cell_type": "code",
      "metadata": {
        "id": "iYQdOO1axwEI"
      },
      "source": [
        "class CustomSchedule(tf.keras.optimizers.schedules.LearningRateSchedule):\n",
        "  def __init__(self, d_model, warmup_steps=4000):\n",
        "    super(CustomSchedule, self).__init__()\n",
        "    \n",
        "    self.d_model = d_model\n",
        "    self.d_model = tf.cast(self.d_model, tf.float32)\n",
        "\n",
        "    self.warmup_steps = warmup_steps\n",
        "    \n",
        "  def __call__(self, step):\n",
        "    arg1 = tf.math.rsqrt(step)\n",
        "    arg2 = step * (self.warmup_steps ** -1.5)\n",
        "    \n",
        "    return tf.math.rsqrt(self.d_model) * tf.math.minimum(arg1, arg2)\n",
        "  \n",
        "learning_rate = CustomSchedule(d_model)\n",
        "optimizer = tf.keras.optimizers.Adam(learning_rate, beta_1=0.9, beta_2=0.98, \n",
        "                                     epsilon=1e-9)"
      ],
      "execution_count": 26,
      "outputs": []
    },
    {
      "cell_type": "markdown",
      "metadata": {
        "id": "YgkDE7hzo8r5"
      },
      "source": [
        "## Loss and metrics"
      ]
    },
    {
      "cell_type": "markdown",
      "metadata": {
        "id": "oxGJtoDuYIHL"
      },
      "source": [
        "Since the target sequences are padded, it is important to apply a padding mask when calculating the loss."
      ]
    },
    {
      "cell_type": "code",
      "metadata": {
        "id": "MlhsJMm0TW_B"
      },
      "source": [
        "# Sparse Categorical Crossentropy loss function\n",
        "loss_object = tf.keras.losses.SparseCategoricalCrossentropy(\n",
        "    from_logits=True, reduction='none')"
      ],
      "execution_count": 27,
      "outputs": []
    },
    {
      "cell_type": "code",
      "metadata": {
        "id": "67oqVHiT0Eiu"
      },
      "source": [
        "def loss_function(real, pred):\n",
        "  # \"mask\" is a boolean tensor with False values on padding values (0 values) \n",
        "  mask = tf.math.logical_not(tf.math.equal(real, 0))\n",
        "  # \"loss_\" is a tensor of float values\n",
        "  loss_ = loss_object(real, pred)\n",
        "  # convert mask boolean values to float (False=0. and True=1.)\n",
        "  mask = tf.cast(mask, dtype=loss_.dtype)\n",
        "  # apply mask to loss tensor\n",
        "  loss_ *= mask\n",
        "  \n",
        "  # returns a single float value representing the loss value\n",
        "  return tf.reduce_sum(loss_)/tf.reduce_sum(mask)"
      ],
      "execution_count": 28,
      "outputs": []
    },
    {
      "cell_type": "code",
      "metadata": {
        "id": "phlyxMnm-Tpx"
      },
      "source": [
        "# training metrics definition\n",
        "train_loss = tf.keras.metrics.Mean(name='train_loss')\n",
        "train_accuracy = tf.keras.metrics.SparseCategoricalAccuracy(\n",
        "    name='train_accuracy')"
      ],
      "execution_count": 29,
      "outputs": []
    },
    {
      "cell_type": "markdown",
      "metadata": {
        "id": "aeHumfr7zmMa"
      },
      "source": [
        "# Transformer instantiation\n"
      ]
    },
    {
      "cell_type": "code",
      "metadata": {
        "id": "UiysUa--4tOU"
      },
      "source": [
        "# trainsformer model instantiation\n",
        "transformer = Transformer(num_layers_encoder, num_layers_decoder,\n",
        "                          d_model, num_heads, dff,\n",
        "                          input_vocab_size= vocab_size,\n",
        "                          target_vocab_size= vocab_size,\n",
        "                          pe_input= vocab_size, \n",
        "                          pe_target= vocab_size,\n",
        "                          rate= dropout_rate)"
      ],
      "execution_count": 30,
      "outputs": []
    },
    {
      "cell_type": "markdown",
      "metadata": {
        "id": "gUQKG9FTgITs"
      },
      "source": [
        "# Training\n"
      ]
    },
    {
      "cell_type": "markdown",
      "metadata": {
        "id": "K3Uh-9-pW7uh"
      },
      "source": [
        "## Functions Definition"
      ]
    },
    {
      "cell_type": "code",
      "metadata": {
        "id": "2YyIeDklC6D8"
      },
      "source": [
        "# prints model training progress\n",
        "def print_progress(done:int, total:int, *args):\n",
        "  maxlen = 25\n",
        "  bars = round(done*maxlen/total)\n",
        "  print(\"\\r[{}{}] {:3}%\".format(\"=\"*int(bars),\n",
        "                                \" \"*int((maxlen - bars)),\n",
        "                                round(done*100/total)), \n",
        "        end=\"\\t {:>5}/{:<5}\\t{}\\t\".format(done,\n",
        "                                          total,\n",
        "                                          [str(a) for a in args]))"
      ],
      "execution_count": 31,
      "outputs": []
    },
    {
      "cell_type": "code",
      "metadata": {
        "id": "iJwmp9OE29oj"
      },
      "source": [
        "# The @tf.function trace-compiles train_step into a TF graph for faster\n",
        "# execution. The function specializes to the precise shape of the argument\n",
        "# tensors. To avoid re-tracing due to the variable sequence lengths or variable\n",
        "# batch sizes (the last batch is smaller), use input_signature to specify\n",
        "# more generic shapes.\n",
        " \n",
        "train_step_signature = [\n",
        "    tf.TensorSpec(shape=(None, None), dtype=tf.int32),\n",
        "    tf.TensorSpec(shape=(None, None), dtype=tf.int32),\n",
        "]\n",
        "\n",
        "@tf.function(input_signature=train_step_signature)\n",
        "def train_step(inp, tar):\n",
        " \n",
        "  pred_size = 1\n",
        "  # split input and target\n",
        "  tar_inp = tar[:, :-pred_size]\n",
        "  tar_real = tar[:, pred_size:]\n",
        " \n",
        "  # create masks\n",
        "  enc_padding_mask, combined_mask, dec_padding_mask = create_masks(inp, tar_inp)\n",
        "  \n",
        "  # compute predictions\n",
        "  with tf.GradientTape() as tape:\n",
        "    predictions, _ = transformer(inp,\n",
        "                                 tar_inp, \n",
        "                                 True, \n",
        "                                 enc_padding_mask,\n",
        "                                 combined_mask,\n",
        "                                 dec_padding_mask\n",
        "                                 )\n",
        " \n",
        "    # compute loss function\n",
        "    loss = loss_function(tar_real, predictions)\n",
        "  \n",
        "  # compute gradients\n",
        "  gradients = tape.gradient(loss, transformer.trainable_variables)    \n",
        " \n",
        "  # apply gradients\n",
        "  optimizer.apply_gradients(zip(gradients, transformer.trainable_variables))\n",
        " \n",
        "  train_loss(loss)\n",
        "  train_accuracy(tar_real, predictions)"
      ],
      "execution_count": 32,
      "outputs": []
    },
    {
      "cell_type": "code",
      "metadata": {
        "id": "jUT9QmqcViyM"
      },
      "source": [
        "import time\n",
        " \n",
        "def train_model(dataset, epochs, real_size):\n",
        "\n",
        "  start = time.time()\n",
        "  \n",
        "  repetition = 1\n",
        "  \n",
        "  loss_history = []\n",
        "  accuracy_history = []\n",
        "\n",
        "  for epoch in range(epochs):\n",
        "    \n",
        "    repetitions = int(len(dataset)/real_size)\n",
        "\n",
        "    for (batch, (inp, tar)) in enumerate(dataset):\n",
        "            \n",
        "      train_step(inp, tar)\n",
        " \n",
        "      print_progress(batch, len(dataset), \n",
        "                    \"epoch {}/{}   repetition {}/{}  loss: {:.4f}  accuracy: {:.4f}\".format(\n",
        "                        epoch+1, epochs, repetition, repetitions, train_loss.result(), train_accuracy.result()))\n",
        "\n",
        "      # at each repetition \"epoch\"\n",
        "      if batch != 0 and (batch) % real_size == 0:\n",
        "        # Append values to histories\n",
        "        loss_history.append('{:.4f}'.format(train_loss.result()))\n",
        "        accuracy_history.append('{:.4f}'.format(train_accuracy.result()))\n",
        "        # Reset loss and accuracy states\n",
        "        train_loss.reset_states()\n",
        "        train_accuracy.reset_states()\n",
        "        repetition +=1\n",
        "  \n",
        "  # Append last values to histories\n",
        "  loss_history.append('{:.4f}'.format(train_loss.result()))\n",
        "  accuracy_history.append('{:.4f}'.format(train_accuracy.result()))\n",
        "\n",
        "  t = round(time.time() - start)\n",
        "  print(f'\\n\\tTraining completed in {int(t/3600)}h {int(t/60%60)}m {int(t%60)}s.\\n')\n",
        "  \n",
        "  return t, loss_history, accuracy_history"
      ],
      "execution_count": 33,
      "outputs": []
    },
    {
      "cell_type": "markdown",
      "metadata": {
        "id": "JAA9LD1JXA0P"
      },
      "source": [
        "## Actual Training"
      ]
    },
    {
      "cell_type": "code",
      "metadata": {
        "id": "wzuAyu29dJKo",
        "outputId": "1aa358a3-f203-4efb-c5a9-91cdbef1d942",
        "colab": {
          "base_uri": "https://localhost:8080/"
        }
      },
      "source": [
        "print(f\"Training model:\\n - encoders: {num_layers_encoder}\\n - decoders: {num_layers_decoder}\\n - d_model: {d_model}\\n - dff: {dff}\\n - num_heads: {num_heads}\\n - dropout_rate: {dropout_rate}\")"
      ],
      "execution_count": 34,
      "outputs": [
        {
          "output_type": "stream",
          "text": [
            "Training model:\n",
            " - encoders: 5\n",
            " - decoders: 5\n",
            " - d_model: 256\n",
            " - dff: 512\n",
            " - num_heads: 4\n",
            " - dropout_rate: 0.2\n"
          ],
          "name": "stdout"
        }
      ]
    },
    {
      "cell_type": "code",
      "metadata": {
        "id": "2KIhVrQ9IeQY"
      },
      "source": [
        "# Train on Dante's production\n",
        "if epochs_production > 0:\n",
        "  t_production, loss_hist_production, acc_hist_production = train_model(dataset_production, epochs_production, real_size_production)\n",
        "else:\n",
        "  t_production = 0\n",
        "  loss_hist_production = [\"0\"]\n",
        "  acc_hist_production = [\"0\"]"
      ],
      "execution_count": 35,
      "outputs": []
    },
    {
      "cell_type": "code",
      "metadata": {
        "id": "JvpcX7Zf1bFP",
        "outputId": "ea8b0809-e3f9-49eb-b953-e87668fee708",
        "colab": {
          "base_uri": "https://localhost:8080/"
        }
      },
      "source": [
        "# Train on divine comedy\n",
        "if epochs_comedy > 0:\n",
        "  t_comedy, loss_hist_comedy, acc_hist_comedy = train_model(dataset_comedy, epochs_comedy, real_size_comedy)\n",
        "else:\n",
        "  t_comedy = 0\n",
        "  loss_hist_comedy = [\"0\"]\n",
        "  acc_hist_comedy = [\"0\"]"
      ],
      "execution_count": 36,
      "outputs": [
        {
          "output_type": "stream",
          "text": [
            "[=========================] 100%\t 15673/15674\t['epoch 1/1   repetition 71/70  loss: 0.2627  accuracy: 0.7112']\t\n",
            "\tTraining completed in 0h 58m 38s.\n",
            "\n"
          ],
          "name": "stdout"
        }
      ]
    },
    {
      "cell_type": "markdown",
      "metadata": {
        "id": "Dhtm4rIIoFkw"
      },
      "source": [
        "# Text Generation"
      ]
    },
    {
      "cell_type": "code",
      "metadata": {
        "id": "F7NTRYljXGe-"
      },
      "source": [
        "def evaluate(input, eov, max_length=100, temperature=1.0):\n",
        " \n",
        "  # add the batch dimension for compatibility\n",
        "  encoder_input = tf.expand_dims(input, 0)\n",
        "  decoder_input = tf.expand_dims(input, 0)\n",
        " \n",
        "  # the final output of the evaluation (initially, this is an empty list)\n",
        "  output = []\n",
        " \n",
        "  # we repeat the process to get the entire verse (end-of-verse token is predicted)\n",
        "  for i in range(max_length):\n",
        "    enc_padding_mask, combined_mask, dec_padding_mask = create_masks(encoder_input, decoder_input)  \n",
        "    logits, attention_weights = transformer(\n",
        "        encoder_input, decoder_input, False,\n",
        "        enc_padding_mask, combined_mask, dec_padding_mask\n",
        "    )\n",
        " \n",
        "    # the higher the temperature, the more original (or crazy) is the text\n",
        "    predictions = logits[: ,:, :]\n",
        "    predictions /= temperature\n",
        "    predicted_id = tf.cast(tf.random.categorical(tf.squeeze(predictions, 0), num_samples=1)[-1,0].numpy() , tf.int32)\n",
        "    \n",
        "    # append the predicted token to the output\n",
        "    output.append(predicted_id)\n",
        " \n",
        "    # if the token coincides with the end-of-verse token\n",
        "    if predicted_id == eov:\n",
        "      break\n",
        " \n",
        "    # otherwise the token is appended both to the new decoder input\n",
        "    decoder_input = tf.concat([decoder_input, [[predicted_id]]], axis=-1)\n",
        " \n",
        "  return output, attention_weights"
      ],
      "execution_count": 37,
      "outputs": []
    },
    {
      "cell_type": "code",
      "metadata": {
        "id": "vik73U2EW7DV"
      },
      "source": [
        "def generate(start, eov, max_len, max_iterations=5, temperature=1.0):\n",
        "\n",
        "  # drop the first verse to keep a window of 3 verses\n",
        "  def drop_first_verse(sequence):\n",
        "    for i, element in enumerate(sequence):\n",
        "      if element == str2idx['</v>']:\n",
        "        return sequence[i+1:]\n",
        "\n",
        "  # variables initialization\n",
        "  input_sequence = start.copy()\n",
        "  generated = []\n",
        "\n",
        "  for i in range(max_iterations):\n",
        "\n",
        "    # pad the input list to reach the max_len\n",
        "    input_list = list(tf.keras.preprocessing.sequence.pad_sequences([input_sequence], maxlen=max_len)[0])\n",
        "\n",
        "    # generate one verse\n",
        "    generated_verse, _ = evaluate(input_list, eov, temperature=temperature)\n",
        "\n",
        "    # append the generated verse to the input sequence\n",
        "    input_sequence += generated_verse\n",
        "    # drop the first verse to keep a window of 3 verses\n",
        "    input_sequence = drop_first_verse(input_sequence)\n",
        "\n",
        "    # append the generated verse to the output\n",
        "    generated += generated_verse\n",
        "  \n",
        "  return generated"
      ],
      "execution_count": 38,
      "outputs": []
    },
    {
      "cell_type": "markdown",
      "metadata": {
        "id": "k0ZPQN6NY1y0"
      },
      "source": [
        "#Save results in Drive"
      ]
    },
    {
      "cell_type": "code",
      "metadata": {
        "id": "eMcECPg0Y1G9"
      },
      "source": [
        "import json"
      ],
      "execution_count": 39,
      "outputs": []
    },
    {
      "cell_type": "code",
      "metadata": {
        "id": "jUjQmEDcZq2e",
        "outputId": "6a56f750-f135-4f17-b495-96b745c85f66",
        "colab": {
          "base_uri": "https://localhost:8080/"
        }
      },
      "source": [
        "# initialize start string\n",
        "divine_comedy = files_list[files_names.index(\"tokenized_commedia.txt\")]\n",
        "start = list(tf.keras.preprocessing.sequence.pad_sequences([flatten(encode_tokens(split_tokens(divine_comedy[:3])))], maxlen=max_len)[0])\n",
        "print(\"Start:\\n\", np.array(divine_comedy)[:3])\n",
        "\n",
        "# initialize list of generations\n",
        "generations = []\n",
        "\n",
        "# choose the list of temperatures (one generation for each temperature)\n",
        "temperatures = np.round(np.linspace(0.5, 1.5, num=11), 1)\n",
        "\n",
        "# generate a cantica for each temperature\n",
        "print(\"\\nGenerating new cantica: \")\n",
        "for temp in temperatures:\n",
        "\n",
        "  # start timer\n",
        "  t_start = time.time()\n",
        "  print(f\"- temperature {temp}... \", end=\"\")\n",
        "\n",
        "  # generate cantica\n",
        "  generated_string = generate(start,\n",
        "                              eov = str2idx['</v>'],\n",
        "                              max_len = max_len,\n",
        "                              temperature=temp,\n",
        "                              max_iterations=100)\n",
        "  # decode the generated cantica and remove special tokens\n",
        "  generated_string = clear_text(ints_to_text(generated_string))\n",
        "\n",
        "  # stop timer\n",
        "  t_gen = round(time.time() - t_start)\n",
        "  print(f\"completed ({int(t_gen/3600)}h {int(t_gen/60%60)}m {int(t_gen%60)}s)\")\n",
        "\n",
        "  # append generated cantica to results\n",
        "  generations.append(generated_string)"
      ],
      "execution_count": 40,
      "outputs": [
        {
          "output_type": "stream",
          "text": [
            "Start:\n",
            " ['<t> <v> nél <s> mèz zo <s> dél <s> cam min <s> di <s> no stra <s> vì ta </v>'\n",
            " '<v> mi <s> ri tro va i <s> per <s> ù na <s> sél va~o scu ra </v>'\n",
            " \"<v> che' <s> la <s> di rìt ta <s> vì a <s> è ra <s> smar ri ta . </v>\"]\n",
            "\n",
            "Generating new cantica: \n",
            "- temperature 0.5... completed (0h 4m 22s)\n",
            "- temperature 0.6... completed (0h 4m 20s)\n",
            "- temperature 0.7... completed (0h 4m 19s)\n",
            "- temperature 0.8... completed (0h 4m 14s)\n",
            "- temperature 0.9... completed (0h 4m 19s)\n",
            "- temperature 1.0... completed (0h 4m 19s)\n",
            "- temperature 1.1... completed (0h 4m 22s)\n",
            "- temperature 1.2... completed (0h 4m 17s)\n",
            "- temperature 1.3... completed (0h 4m 20s)\n",
            "- temperature 1.4... completed (0h 4m 22s)\n",
            "- temperature 1.5... completed (0h 4m 15s)\n"
          ],
          "name": "stdout"
        }
      ]
    },
    {
      "cell_type": "code",
      "metadata": {
        "id": "ZD9ds4wbZJ9r",
        "outputId": "062c6fde-d042-4d62-981e-f2eee8761f0b",
        "colab": {
          "base_uri": "https://localhost:8080/"
        }
      },
      "source": [
        "# stringify the model description for the file name\n",
        "model_description = f\"{num_layers_encoder}_{num_layers_decoder}_{d_model}_{dff}_{num_heads}_{repetitions_production}_{repetitions_comedy}\"\n",
        "\n",
        "# create the log dictionary\n",
        "log = {\n",
        "    \"model\": { \n",
        "        \"num_layers_encoder\": num_layers_encoder,\n",
        "        \"num_layers_decoder\": num_layers_decoder,\n",
        "        \"d_model\": d_model,\n",
        "        \"dff\": dff,\n",
        "        \"num_heads\": num_heads\n",
        "        },\n",
        "    \"trainings\": {\n",
        "        \"production\": {\n",
        "            \"repetitions\": repetitions_production,\n",
        "            \"time\": t_production,\n",
        "            \"loss_history\": loss_hist_production,\n",
        "            \"acc_history\": acc_hist_production\n",
        "        },\n",
        "        \"comedy\": {\n",
        "            \"repetitions\": repetitions_comedy,\n",
        "            \"time\": t_comedy,\n",
        "            \"loss_history\": loss_hist_comedy,\n",
        "            \"acc_history\": acc_hist_comedy\n",
        "        }\n",
        "    },\n",
        "    \"generations\": {}\n",
        "}\n",
        "for i, temp in enumerate(temperatures):\n",
        "  log[\"generations\"][\"temp_\"+str(temp)] = generations[i]\n",
        "\n",
        "# create destination folder if it doesn't exist\n",
        "results_folder_path = f\"{path}/{model_description}\"\n",
        "if not os.path.exists(results_folder_path):\n",
        "  os.mkdir(results_folder_path)\n",
        "  print(\"CREATED: \", results_folder_path)\n",
        "\n",
        "# Save the log file \n",
        "log_file = f\"{results_folder_path}/LOG_{model_description}.json\"\n",
        "with open(log_file, 'w+') as fp:\n",
        "  json.dump(log, fp, indent=4)\n",
        "  print(f\"log saved as {log_file}\")\n",
        "\n",
        "# Save the generations as text files\n",
        "generations_files = []\n",
        "for temperature, generated_text in zip(log[\"generations\"], generations):\n",
        "  out_file_name = f\"GEN-{temperature}_[{model_description}].txt\"\n",
        "  file_path = f\"{results_folder_path}/{out_file_name}\"\n",
        "  with open(file_path, \"w+\") as out_file:\n",
        "    out_file.write(\"\\n\".join(generated_text[1:]))\n",
        "    generations_files.append(file_path)\n",
        "    print(f\"generated text at temperature {temperature} saved as {out_file_name}\")\n",
        "print(f\"\\tin folder {results_folder_path}\")"
      ],
      "execution_count": 41,
      "outputs": [
        {
          "output_type": "stream",
          "text": [
            "CREATED:  /DeepComedyGenerated//5_5_256_512_4_0_70\n",
            "log saved as /DeepComedyGenerated//5_5_256_512_4_0_70/LOG_5_5_256_512_4_0_70.json\n",
            "generated text at temperature temp_0.5 saved as GEN-temp_0.5_[5_5_256_512_4_0_70].txt\n",
            "generated text at temperature temp_0.6 saved as GEN-temp_0.6_[5_5_256_512_4_0_70].txt\n",
            "generated text at temperature temp_0.7 saved as GEN-temp_0.7_[5_5_256_512_4_0_70].txt\n",
            "generated text at temperature temp_0.8 saved as GEN-temp_0.8_[5_5_256_512_4_0_70].txt\n",
            "generated text at temperature temp_0.9 saved as GEN-temp_0.9_[5_5_256_512_4_0_70].txt\n",
            "generated text at temperature temp_1.0 saved as GEN-temp_1.0_[5_5_256_512_4_0_70].txt\n",
            "generated text at temperature temp_1.1 saved as GEN-temp_1.1_[5_5_256_512_4_0_70].txt\n",
            "generated text at temperature temp_1.2 saved as GEN-temp_1.2_[5_5_256_512_4_0_70].txt\n",
            "generated text at temperature temp_1.3 saved as GEN-temp_1.3_[5_5_256_512_4_0_70].txt\n",
            "generated text at temperature temp_1.4 saved as GEN-temp_1.4_[5_5_256_512_4_0_70].txt\n",
            "generated text at temperature temp_1.5 saved as GEN-temp_1.5_[5_5_256_512_4_0_70].txt\n",
            "\tin folder /DeepComedyGenerated//5_5_256_512_4_0_70\n"
          ],
          "name": "stdout"
        }
      ]
    },
    {
      "cell_type": "markdown",
      "metadata": {
        "id": "us3G7M_8pItG"
      },
      "source": [
        "#Results"
      ]
    },
    {
      "cell_type": "code",
      "metadata": {
        "id": "PLuc5qklfeGr",
        "outputId": "d836c0f0-aae3-4d81-ec89-15b8c18315ac",
        "colab": {
          "base_uri": "https://localhost:8080/"
        }
      },
      "source": [
        "# print model summary\n",
        "transformer.summary()"
      ],
      "execution_count": 42,
      "outputs": [
        {
          "output_type": "stream",
          "text": [
            "Model: \"transformer\"\n",
            "_________________________________________________________________\n",
            "Layer (type)                 Output Shape              Param #   \n",
            "=================================================================\n",
            "encoder (Encoder)            multiple                  3957504   \n",
            "_________________________________________________________________\n",
            "decoder (Decoder)            multiple                  5275904   \n",
            "_________________________________________________________________\n",
            "dense_80 (Dense)             multiple                  1327148   \n",
            "=================================================================\n",
            "Total params: 10,560,556\n",
            "Trainable params: 10,560,556\n",
            "Non-trainable params: 0\n",
            "_________________________________________________________________\n"
          ],
          "name": "stdout"
        }
      ]
    },
    {
      "cell_type": "code",
      "metadata": {
        "id": "dVcTpjEVAYl3",
        "outputId": "1d8e3741-15c8-4820-f87f-42d8b40c812d",
        "colab": {
          "base_uri": "https://localhost:8080/"
        }
      },
      "source": [
        "# print model and training information\n",
        "print('MODEL:')\n",
        "for param in log['model']:\n",
        "  print(f\" -- {param}: {log['model'][param]}\")\n",
        "print('\\nTRAINING:')\n",
        "for training in log['trainings']:\n",
        "  print(f\" -- {training}\")\n",
        "  for info in log['trainings'][training]:\n",
        "    if 'history' in info:\n",
        "      print(f\"   -- {info}: {log['trainings'][training][info][:3]} ... {log['trainings'][training][info][-3:]}\")\n",
        "    elif info == 'time':\n",
        "      print(f\"   -- {info}: {int(log['trainings'][training][info]/3600)}h {int(log['trainings'][training][info]/60%60)}m {int(log['trainings'][training][info]%60)}s\")\n",
        "    else:\n",
        "      print(f\"   -- {info}: {log['trainings'][training][info]}\")"
      ],
      "execution_count": 43,
      "outputs": [
        {
          "output_type": "stream",
          "text": [
            "MODEL:\n",
            " -- num_layers_encoder: 5\n",
            " -- num_layers_decoder: 5\n",
            " -- d_model: 256\n",
            " -- dff: 512\n",
            " -- num_heads: 4\n",
            "\n",
            "TRAINING:\n",
            " -- production\n",
            "   -- repetitions: 0\n",
            "   -- time: 0h 0m 0s\n",
            "   -- loss_history: ['0'] ... ['0']\n",
            "   -- acc_history: ['0'] ... ['0']\n",
            " -- comedy\n",
            "   -- repetitions: 70\n",
            "   -- time: 0h 58m 38s\n",
            "   -- loss_history: ['7.0842', '4.7566', '3.8558'] ... ['0.2614', '0.2555', '0.2627']\n",
            "   -- acc_history: ['0.1710', '0.2333', '0.2934'] ... ['0.7108', '0.7117', '0.7112']\n"
          ],
          "name": "stdout"
        }
      ]
    },
    {
      "cell_type": "code",
      "metadata": {
        "id": "ystDruoKAVan",
        "outputId": "b8506d18-23eb-4f1c-9243-a4caf499b182",
        "colab": {
          "base_uri": "https://localhost:8080/"
        }
      },
      "source": [
        "# print generations\n",
        "# extract the texts from the log\n",
        "generations = []\n",
        "for temp in log['generations']:\n",
        "  canto = log['generations'][temp] \n",
        "  generations.append(canto.replace(' ,',',').replace(' .','.').replace(' !','!').replace(' ?','?').replace(' :',':').replace(' ;',';').split('\\n'))\n",
        "\n",
        "# header of the table\n",
        "head_line = \"\\t    \"\n",
        "for temp in temperatures:\n",
        "  head_line += \"{:<45}\".format(temp)\n",
        "print(head_line+\"\\n\\n\")\n",
        "\n",
        "# organize by columns\n",
        "for row_idx in range(len(generations[0])):\n",
        "  row = \"\"\n",
        "  for temp_idx in range(len(temperatures)):\n",
        "    row += \"{:<45}\".format(generations[temp_idx][row_idx])\n",
        "  print(row)"
      ],
      "execution_count": 44,
      "outputs": [
        {
          "output_type": "stream",
          "text": [
            "\t    0.5                                          0.6                                          0.7                                          0.8                                          0.9                                          1.0                                          1.1                                          1.2                                          1.3                                          1.4                                          1.5                                          \n",
            "\n",
            "\n",
            "                                                                                                                                                                                                                                                                                                                                                                                                                                                                                                               \n",
            "àhi quànto a dir qual èra è còsa dùra        àhi quànto a dir qual èra è còsa dùra        àhi quànto a dir qual èra è còsa dùra        àhi quànto a dir qual èra è còsa dùra        àhi quànto a dir qual èra è còsa dùra        àhi quànto a dir qual èra è còsa dùra        àhi quànto a dir qual èra è còsa dùra        àhi quànto a dir qual èra è còsa dùra        àhi quànto a dir qual è èra è còsa           àhi quànto a dir qual è quésto èra còsto     àhi quànto a dir qual èra ne la còsta        \n",
            "ché nón si richiudesse, e per le frónte      ché nón si richiudesse, e àltro lente,       ché nón potea dir lo móndo salìva            ché già si ricomincia in pùnta de lo stèlo   ché nón si ragióne in quésto mondo, segno,   ché nón si ragion in mal tardàto suono;      ché nón si rivolse ne l'abisso calle,        nél càpo mio, e nón so ché discerno,         subitaménte si rispuose, e tu riguardi       ché già mài nón si ricorda e cerchi vodo,    si cominciò elli: nón è ché volge tocca      \n",
            "in ché 'l mal dispósto è de la spèra         e àltro fìa rimase, io nón ti scuote         cói gràvi de l'altra, ché giù la cìma        a cùi la prìma ròta va dintorno,             per far si venne, e per altrùi ricorda       ma quàndo 'l ciel per dar vòlto a china.     e ciò ché pàre in altrùi vostra nomica?.     se ché al buòn dì l'annifràte carita!.       cón lo 'mpedita ché 'n dìo riguarda;         per ché 'l buòn segnor fa sèrvo duca.        cerchiamata de le cose ché 'nchiude          \n",
            "                                                                                                                                                                                                                                                                                                                                                                                                                                                                                                               \n",
            "si volge cón le sùe per sùe vèrbo            lì si drizzava per tùtto il ciel vedete,     e nón fu da la còsta per travèrsa            a péna èra la càrlo strétto maler;           dél móndo sù, dóve muta la terra,            nón suona, che' potea 'l sùo fattóre         nón è qui nintro, diè le quai canti,         e se' tu quél dólce un pòco di sotto,        e se 'l princìpio là ónde si vegna           ed elli a me: l'amor par per meglio,         o ànima è: perche' sì ti lenta!              \n",
            "di s.u.a. nazion c'ha nóme disìo             e 'l vìso di lei, ed éssa convene            lo fóndo suo, infin ch'el si ricorda;        e se più nón cón li àltri piedi evai,        pòscia di rètro al dittator sén vànno        l'angelica natùra e 'l bito, o fatto,        diss'io, perche' 'l maestro, io ti dice?     pòscia ché 'nnanzi là dov'è la somaro,       fìa qual or quél da mèzzo 'l de la spèra     tànto verrà la vedùta cortesìa morte,        di quél paése ch'avea intùo dir lo stolo,    \n",
            "già mài nón fui, ma dóve si pàrte scelse     ché 'l tùo parlar tànto nón risponde.        e però ché 'l piànto si lasciò l'oro.        per esser conviene un tèrmine da ónde 'l.    ché 'l sùo vìso prende qual io paschi.       e quàsi convien ché 'l ciel fòsse destra.    se nón li àltri giron sì ché sali.           più nón si tenne la s.u.a. càsa              reggion di s.u.a. vìta stélla sesa           ché 'l potrà dèstra tùtto si ristora?.       e dìo nón ti sarà l'andare allente?.         \n",
            "                                                                                                                                                                                                                                                                                                                                                                                                                                                                                                               \n",
            "dal qual si volga, e 'l dicer cón sùo        e quésto si parve de la ménte ingombra,      quàndo fu la còsta sua, ché s'intende,       allór mi disse: perche' tu mi dischiomi      nón so se 'ntendi quél lòco sànza guèrra     àhi quànto sóvra 'l ciel comprende, nón      e io a lui: per tùo voler ti riprende,       nón vo' però, lettor, ché tu ti sma          nón è se più còrpo infin da la scàla         e 'l dùca mìo ver l'anima volte,             perche' ci appar pur quésto vivagno, elli unci\n",
            "al quàle è crìsto amor ché man si chiude,    tentando a render te, ed ésso mi rispuose    per altrui, e cóme viene è questa?.          d'ogne pàrte più cólpa e duol d'una misura,  ché de la vòglia dél peccàto antico pietro,  ad alber sì, cóme àltro ché di sóle          e disse: parla, infin ché si ristizia        di là dal collo, e correndo in ardito,       di mìo maestro fece più vi erra,             gridando a dio: \"omai più nón ti temo,       dél tùo valor ché 'l ciel nón s'adempia:     \n",
            "e 'l colle rìo mi fece dimandare.            cón vìa di se' ché tu teme nón vedi          ed elli a me: la mìa ménte risponda,         e 'l quàle a dìo sóle è fàtto torse          ma disse: sarete tu sai, ché tu patri        se nón ché già, per voler ti parole.         cóntra 'l federigo ché 'ntende e ' guali     pur ché 'l sospecciar ver si dolente?.       fin ché 'l secondo, ché 'l federita.         ma nón sapei ch'i' sòn giùsto seguino.       però mi dì, se tu si risti giusti.           \n",
            "                                                                                                                                                                                                                                                                                                                                                                                                                                                                                                               \n",
            "qual è colùi ché sùo dannàggio sogna,        di quella vìsta ché risòn più ardìre         e vedi s'altra può nói tànto digiuna,        e quél ché 'ntese le chiastre spalle?.       nón fìa sànza merce' dél popol di no,        mentr'io là giù fisaménte mi fisse,          perche' nón arda, e or per àltro lafreno     parlar, disse, nón altriménti fanno,         o natùra mia, che' più è la càsa             giuridiam noi, che' là giù lo màlo obiètto   o dólce lingua, perche' nón ti chiusi,       \n",
            "ché sognando desidera sognare, al vénta      lo dólce pàdre mio, ma la divina             ché nón lascia vìa da se' tante piene;       già èra in giùso àncora attènto e chi,       sappi ch'i' sòn bertram dal bornio, quél guìzzoallór distesi, e 'l mìo maestro? quelle      giù per lo mónte la s.u.a. bontàte           parlagrimando ìvi cón le sùe grotte?.        ché già si dice, e più nón per esse          a ber dél qual nessun si viver lutto,        conforti dio, a la s.u.a. frónte             \n",
            "sì cóme 'l nóme fa sùo vince mio;            ché mi fa sovvenisse lor più tardo.          ma la tenea cón le sùe parole.               quàndo sarài dinànzi al dólce ràggio fu.     ché la càrne de le piètra nón mi vedi        tra 'l fràte catacità ché s'accendea.        siede óve conosce ché 'l sùo sinizia         o tu chi se', ché ne la rispósta è           la mìa conoscènza s.u.a. dottrìna            quand'io dissi: maestro, già è quésto gusto. la prìma giustìzia ché 'l ciel ti dina       \n",
            "                                                                                                                                                                                                                                                                                                                                                                                                                                                                                                               \n",
            "tal mi fec'io, nón possendo parlare,         i' fui nél prìmo pensier, qui si cànto       nón se' ancor ché dì l'amor ché tu hài       ed elli a me: le tue parole conte,           giù ver lùi chi forà la rivesta;             lo dùca mio, dicendo: or vedi sóle           dicòsa ché 'l móndo fu per se' asse.         ché cón le sùe parole il làdro piana:        se fòsse 'l mìo dimandar, alquànto           nón sòn fàtto tu per quella crude ar so a'   ne le prime e perso! ché si rispuose,        \n",
            "se 'l quìnto la mìa vìsta fu chiuso,         ché dél sóle suo, cóme suole, femmi,         la bèlla dònna ché 'l ciel ti discerni,      nón so, perche' tu vedrai la divina,         e più là giù per lo móndo federigo,          colùi ché la difesi a sùo vìso in rame,      già era, cóme tùtto di fuòr cherci,          ànima trìsta è roman ché 'l dimanda;         fu de la gènte per esser più basso,          dél fóndo sco lui, che' nón de la vòglia     trovàto in un pòco ché 'l móndo dispara,     \n",
            "a guìsa di color ché l'uom nón tegna.        e per sovèrchio s.u.a. figùra in suso        volseci in dietro, che' 'l lùme discerne?.   dov'io son, fo io quésto viaggio, com'è voltocosì si dice: e chi è la cheggia             ché già biancheggia se' per tùtto stelo?.    quésto monteso, e se ne le nostre 'n.        e però mi disse, in su la riva.              io dìco d'amor de le nostre marcine.         da te si fece ch'io li vi 'l duolo.          felice le ùno e àltro cacciàto carone.       \n",
            "                                                                                                                                                                                                                                                                                                                                                                                                                                                                                                               \n",
            "o soda, cóme tu se' sì di mente,             così la mìa dònna man si distese,            per tutte le tue voglie converse cielo:      diss'io, ma a te com'è tànta óra tolta?      vedi lùi sì la fiàmma è più tosto.           e se' rispuose a me: vegno, là 'veni         e io a lui: s'esser puote, io vorrei         per ché 'l maestro accòrto lo sovralecchio,  quàndo navi, più sù di largisconde,          un pòco attesi sì, perch'io là ónde 'l       ma se lìngue lor nón si sentono!.            \n",
            "ché le note dìte mi giù ti conchiude,        disse 'l maestro; ónde 'l sùo pàsso          per ché 'l mìo parlar m'infondamia, e dì     ed elli a me: dél détto tùo risponde;        o tu ché leggi, ché se ne ridice             ne li òcchi santi a dìo paùra voglia,        al montanar, ché 'ncontro si richiama:       dicendo: hài bèn colùi ché si restaro;       disse 'l maestro; e quélli è àltri prègio    ónde voi da tua nón nón ch'elli si si èragióne dagegno da da margiglia sciolse da;io nón sòn discreta ne la ne tene,           \n",
            "e più nón disse, ch'a l'occhio mi tenne.     sén giva, e io nón rimasi in alcuna vìa      più nón ti fìa men dilètto sùo sposto.       e se nón li è rótto il cérchio d'alcun cérchioal dùca mio, colùi ché sù ne prieghi.        per ché la s.u.a. vìsta fu loco              perche' nón lo 'nvidia prìmo èra rotto.      che' gràn crepatì vo ciò ch'om la riprenda.  ché 'l sóle infiamma allór ché quél da róma  pòi mi fu ne l'ordica de la potate.          per nón sappi tacea, che' di vostri me?      \n",
            "                                                                                                                                                                                                                                                                                                                                                                                                                                                                                                               \n",
            "o tu ché di là dal vìso in tèrra fìssa       lo vìso mio, dicendo: or vedi quànla         e se 'l ciel, di se' medésmo strà            quésto duro; e se tu riguardi poi:           vedi ché 'l càrne ógni vìsta tosca,          già vènia la lùce ché s'infiora              e cón quél nasétto ché strétto a consìglio   per ch'io a lui: se tu vuo' ch'i' ti giovi   tra sardi e ' bianchi è la marmicella,       quìnci si volse in su da lùi la stràda       rispuos'io lui, nón mi ten men farno!.       \n",
            "a dir: colùi qual fortùna t'accoglia,        le tenebre etterne, in càldo e 'n gelo,      già di là dal color de la tèrra plora        sapére e di color ché 'n su la góla          rispuose: la gràzia m'è ciò ché tu hai;      per udirti de la ménte a quél voglia,        par cón sì la mìa scàla convien meco;        l'uccel ch'a cantàr più si diletta,          per cùi buòn voler prìma a tànta faculla,    dél cammìno allumo, e nessun diserra;        e se 'l sàvio mio, ànima letigio,            \n",
            "dóve sien genti in gràn vìta si tolse?.      innànzi ché 'l pùnto  ch'io avànte passi!.   ché piace càrlo e festo, e rise giuso.       dél nòstro amor tu nón de noi, manifesti.    per ché gràn fàme nón sén viene a la riva    dise le sùe parole e cón più erra,           sén giva, gridò: qui nón siate carca?        più volte nél vìso a se'; e s'altro fue,     e persoacion ber li visi bagna.              ma di s.u.a. troia, confusióne also          chi pàdre a sùo vìa fìglio de la ponte:      \n",
            "                                                                                                                                                                                                                                                                                                                                                                                                                                                                                                               \n",
            "tu dici: \"benche' io ti togliesti\",          e pòi disse: figliuol, se tu rivi            se 'l tèmpo dél ciel de la tèrra plo         e già la vìta di là mi rispuose:             dirotti per là, per esser bagiostra?         ché cón la natùra assùnta si misura,         s'io dìco di se' tu dél móndo mondo;         dicendo: lètto se le ti nostre grati         pòi si confu lasciar per lo spersi           a péna ebbi la vóce ché rispuose, fàce       se tu se' sì proceder ché tu cange.          \n",
            "se nón fòsse ch'ancor lo màla misura;        tal è la fièra pessima si stava              ché piagne càrlo e felice; e l'altre rivi    \"dopo lui, perche' tu se' sì smarrito?       viene a me, e tùtti li àltri levati,         nùlla già mài sì giustaménte la sprona,      e però ché già di se' mi sìlio morse         per ché 'l móndo sùo abor li piedi?.         dél nòstro cièlo e vanato, i pesi dìa        e le mie parole sùe vivissime ed eccelse     di quésta comedia, ché l'udir 'l dènte       \n",
            "e quésto regno, e quésto è quél pùnto        subitaménte si mette al di sùo riva.         più là 've 'l mo, per tùtto s'adocchia,      ma vieni a te nin giù, e quéi mi disse       si derao la vostra vìa più giustìzia.        se più avesse di se' e più davante.          ne le sùe parole amor contamenza.            e a me guardando, il càpo suona grazia,      di quél ché va cóme l'uom di se' tarda.      sì unifórme son, ch'i' nón so dìre           le membra tue, rispuose quél da tosca.       \n",
            "                                                                                                                                                                                                                                                                                                                                                                                                                                                                                                               \n",
            "di quésta reverènza mi torménta              qual è colùi ché ne la dèstra ruìna          così mi fece su per la gràn fore,            perche' tu se' tu ché 'l cor m'era addusse   e perche' di me voler ché si suona,          o navicèlla mia, com'mal se' carca!';        di se', mi disse, or sù discerno!            nón saper, se tu vuo' ché ti 'ndi            io stava cóme l'uom cùi vissi a fede,        a rispósta così bèl sòl nón si piega         tu ti dì: cón le sacre ti note,              \n",
            "ché prìa si volse in su l'alto la chioma,    si volgea cón sùe dimandemmo a riva,         gridando: \"padre, e pàdre mio, disse         la verità ché 'l ciel nón ti risponde,       prìma ché 'l pòco sóvra se' la riva,         pòi parve a me ché 'l ciel ti diletta,       nón potea chi guàrda l'angel probo, e por    cón altra cortesìa de la ménte ingombra,     perche' la vìa d'i mortali angeli 'l cielo   ché dìo per tornar cón li òcchi pieni,       perche' s'elli è più chiamica ché nón sazia  \n",
            "se nón ché altri, il móndo più soverchio.    per ché 'l lùme pàre ancor lo mi cosse;      ché tu se' a te venir cón sospesi?.          se nón ché altriménti è fàtto straso!.       se nón si vuoli udir, per giovanette.        per lo lémbo e gridò: qual maraviglia!.      cón la mìa glòria e dél qual mi fa mìo       a qual sinifèria di là giù nón è lei.        quàndo fu de la càrne ógni vìsta spento,     se nón la là dóve e tèrmine possiede.        da lùi dél cammìno e sì ché tu ne duri       \n",
            "                                                                                                                                                                                                                                                                                                                                                                                                                                                                                                               \n",
            "e quésto cièlo è ché 'n altra vìta           e tal mòdo parve ché si richiude,            io fui la mìa città, quàndo vive             e per nón esser pur per un cammino,          o tu ché se' stessa pur a la barca,          e io, quàndo la sànta s.u.a. fìglia          in vècchia parente, sì qual fu coperte       se tu se' quél ché più ti consmaglie,        divòta in apprèsso de la s.u.a. spèra e      quél giórno se, nón colùi ché 'n quésto      tùo è risponsa, al tùo vìso e léga           \n",
            "mi disse: guàrda tu la mal diletta;          dicendo: colùi ché 'n quésto è piànto        fui di gange ché sòn ne la registra,         rispuos'io lui, veggendo la mìa guerra;      mostrò còl suòra ciò ché 'l sùo disìo        a le sùe parole, e ancor nón mi nòva         ché se' crudel, se nón fòsse venisse,        comincia' io; ed elli: eran mortali,         piange, rispuose, e fu cón li òcchi prie     è occulta virtù perche' da se' uso,          da la vedùta qual tu se' vi presso,          \n",
            "che' tu se' sì o di vivan sì pieni.          de la s.u.a. superba vìta corte              e per lo 'nferno tùo bèn ti rispondo.        ma chi se' tra ' vivi, in ché dice           cón la mìa glòria de la spèra scorta.        di s.u.a. semènza è parola?.                 e per lo pan de la vìa si dimanda            se nón cóme lùce nover 'n sù e '             manifèsto a chi di dìo bèn far batista.      d'anchise si sente intórno di s.u.a. riccia  la qual tùtti esser pur al móndo pieta.      \n",
            "                                                                                                                                                                                                                                                                                                                                                                                                                                                                                                               \n",
            "lo dùca mio, chi nón se' ché dimanda         ché l'altro ché 'n vìa darebbe schiscorto,   io fui de la città di gràzia pièna           nón riconoscerebbe ìre a' martiri            tu vuogli udir quant'è ché dìo mi puose,     già discendeva, e 'l móndo dicea:            giovanétto ché fuòr se' dél lòco rente:      nón altriménti ché 'n sù si converse,        àltro intento disse: mólto giù ti trice;     nón è se tal, ma rallarga ogne vita          io credeè mài ché per me nón àrbo            \n",
            "volgiti, e cón le nostre spalle intende,     per altrui, e nón fa 'l nòstro pàsso         in quésto ciel, di cùi tèrra s'aspetta,      l'angel di dìo ché siede in su la vera,      più lùnga scàla tutta s.u.a. gemma           vienne oramai, che' 'l tèmpo è chi fui       a rètro di lùi cón se' compagnìa             ma di s.u.a. provedènza fianco,              e perche' i vigini è di lontàno              ché si movea per voler quetar tutte;         già in nuvoletta; ma quell'è pàrte scelle    \n",
            "e se' ricolto, inver' lo tùtto 'l vènto      che, rispuos'io, cóme l'uom ché di questa.   se nón còl mùro tùo bèn farli d'arno;        se più è al giudìcio suo, da lucca.          nón si dimostraro, ma sospeccióso e raro,    ne la quàle il sòl móstra 'l cièlo è munto   ché la francésca sì dél mar si sanna.        ne' così mi parèa là dóve si pagna.          ché nél móndo sù crìsto tùtto 'l fatto.      e se' crudel, se tu già nón rimagna          lo tùo disio, e fuòr di se' rispera          \n",
            "                                                                                                                                                                                                                                                                                                                                                                                                                                                                                                               \n",
            "li àltri dùe punta de la gràn frétta         ma s'io nón posso quél pòco s'arresta,       tu troverai, quant'io ségno ne' gradita,     nón riconosco alcun; ma s'a voi piace        quàndo ti s'attrista, se quél d'intelletto;  di vil pastor si fece; e vien còl            o sànto paramai, risponsa, è tóndo           poi, quàndo 'l buòn proposto, prìa di        nón mi sìria men de li àltri beati:          la fàma di colùi ché dìo a se' nòta          ché sólo a se' i dùe perperch'ei convene     \n",
            "di quél ché 'l sùo mèzzo fece spalle,        la tenea de' mortali io è divìso             e più nón disse, per altra vìta corte        còsa ché voi siete ombre dìo degni,          e di rètro a me, perche' nón guardi sólo     ché richeggia s'era al sòl ché 'l più cerchi,chi fosti, e là dóve si riparava,            lo sol, ché nón sarebbe làrga pàrca          per ché piedi sù, mi fìa nòstro intellètto   liberi d'amor de la s.u.a. spèra             sòno in la tèrra ch'è da tutte quante,       \n",
            "sarebbe tutta s.u.a. vìta corri,             ché già mài da lèi l'usanguite la testa;     ché 'l tùo parlar m'infonda nól dimanda.     dìo cón la sperànza li àltri contenti,       color ché 'l piànto de la tèrra acerba.      per quél ché si va giù nón fòsse tolto.      la qual chi là giù per lùsol si vaneggia     discese nostra via, e prìa ché vanno.        dal quàle in tèrra la mìa séta è ghiotto,    di nón esser convien ché sànza guille?'.     prìma ché pòi ché sì alte mi scallava.       \n",
            "                                                                                                                                                                                                                                                                                                                                                                                                                                                                                                               \n",
            "rispuose: la vòglia ché 'l sùo discende      ma perche' l'occhio mia, io ti rispuosi,     àlto bèn so, se tu nón ti pàrte              e disse: voi, chi siete è quella légge       e cóme 'l perche' tùtto quàndo distese       e già orai; e nón adocchio giova,            per domandar lùi ché li àltri beatrice,      io nón pur per tèmpo ché dìo sospinse        e per divina gràzia èra di sopra.            le sùe per vìta più nón esser fìno           di' beatrice, dìi ché tu sòno in tèrra       \n",
            "cón la vòglia tua sarebbe a maraviglia,      quàndo fui defetta, il piànto si stànca      lo mìo maestro disse: da ché tu ri           ché ti fa trestìzia tùtto rimane, presti     l'aere mi fece un pien di fango,             ne', da se' ne' miei òcchi rifiuto,          dì di 'l grìdo t'ha le sì condótto           ne l'orgoglio ch'è de la mìa rivaglia;       lo mìo maestro disse: più a dire             giù, rimirando incondo, e la s.u.a.          discesi: ele cose sòn sì diffuse,            \n",
            "pur ché 'l lùme dél ciel sèmpre si spanda    per lo qual io vidi quella gènte vesta.      discerno per lo cielo, ond'io mi vidi        ciò ché 'l móndo facea di se' risposto.      un sòl ché per li seguir cón giovanni.       se tu guardi soverchio, io ti parlavi.       qua giù ogne càrcere ché 'l ciel vene.       e fórse dél cammìno ànima merca.             mirava la virtù ch'è di sótto 'l ségno       gràn dottrìna fresca, sì cóme tu vedi?       sótto 'l ciel ségno lì èra venuto,           \n",
            "                                                                                                                                                                                                                                                                                                                                                                                                                                                                                                               \n",
            "la mìa conoscènza s.u.a. morta               io nón so seguitai di quella góla            sù nón par ché i visi tra romóre             così disse: ché nói siamo è picciol bè       cóme 'l fùmmo ch'ibel ci si rigaglie,        verso, lettor, ch'i' fui caritàsco           più nón si puose òro e per alaltrui,         el par giù, ben, ché tu la mìa               dél sùo vóto mio, di sospecciar quìvi        ed elli a me: le sùe parole scoge            ciò ché lì nón sazia, natùra cristo:         \n",
            "e se tu se' di là sèmpre piómbo a' piedi,    in fàmia di colùi ché la già si brama        più càde ché la vittòria e dél paradiso,     dél mìo maestro i passi, e amendùe santi     e mi disse: quél lùme ti onor li fanno       ché giù per quésto lòco alquànto ebbè rugghiàtoma l'altro ché già si convenia dicer mio,    pàssi dira, e nón conoscer le procepe        la quàrta vóce disse: o già levasti,         ché mi lascia di dì fu ch'i' odo? quàndo     lùce per se', mi fòra tùtto il canto,        \n",
            "per farti mover lènto com'uom làsso morte.   de le mie parole sùe più nón erra,           pur a colùi ché le parole sue.               già mostravam su per la s.u.a. scàla         vaneggia un pózzo assài làrgo e profondo,    al mòdo suo, l'aguta pùnta mosse?'.          e colsero a me la s.u.a. semenza             ché téma a s.u.a. ràzo si ritacque,          ché 'l sòl nòstro cièlo è stabilando?.       a colèi ché l'ha, e pennùto ché vana         bestia se' tra s.u.a. virtùte e prèsta       \n",
            "                                                                                                                                                                                                                                                                                                                                                                                                                                                                                                               \n",
            "e al nóme sùo voler nón ti novella:          ché di pochi lùi di lùi fu la góla           qual è colùi ché di nar nón si trasca        nón èra per lui; ma perche' tànto dì         di cùi sùo lòco dicerò l'ordigno,            e pòi ché tu seguitando il mìo duca,         io nón vidi, ma qui piango, nón incre        rispuos'io lui, m'hanno amor discoverto,     e già nón so disse: o a l'occhio a tèrra     fu cón la ménte ché s'era al sòl tondo:      nón quésta è 'l tèmpo sànza mercede,         \n",
            "nón è lor, ma dopo far si fa cèrto           in fàmia dél mìo segnóre a s.u.a. già presènte fu già più sàntadesta,de lo scòglio dùro per la vìta serena,       ché la mìa rispósta è già mài conti,         ché l'una pàrte e l'altra tìra e urge,       dicendo: più grande, e quésto sì agro;       fin ché 'l mar fu già pianger di quella,     ma de la vòglia s.u.a. disira;               se nón fòsse ché varca; ed ei piedi          bèn si fece la s.u.a. palùda,                ché hài de la tèrza dél cièlo ardito,        \n",
            "de la càrne ché i vive tal voce.             ché si muta morta, e nón mi sanno.           in quésto ciel, di cùi l'ombra s'appressa.   ché prìa d'amor par nél tèmpo si chiusa,     tin tin sonando cón sì dólce nota.           e se pensassi come, al vòstro guizzo,        sì ché le prime nube, in mal fiede.          e 'l gràn propóte lor diventar sagiono.      l'antico verso, e di partirsi vòglia         dimanda se' per me; e perche' l'animo        più e men di parevan ch'i' nón vede.         \n",
            "                                                                                                                                                                                                                                                                                                                                                                                                                                                                                                               \n",
            "e se vien me nón lo màno a la disse:         ma lieta fu la chièsa de le figura           lo dùca mìo di vedo, in su la                e quésto è luògo mio, il cùi vagheggia       tin sonando di quél novèlla féde             guizza déntro a lo spècchio vostra imagegno, s'elli ha la mia, ché nùlla mi fue,          li occhi, diss'io, e 'l maestro: àlmen crucciadi rètro a me, e drizzo 'l vìso chiuso       còl dìre e cón la lùce ché nón s'accorda     nón ragioco, se tu 'l mìo cantàrgo           \n",
            "chi è colùi ché rimàso va spento,            di gràn virtù, per far già si discerne,      ché più si facea di se' clàustro imo,        fàtto ghiotti andava, sì ch'esser nón ti duoledél sàngue mio, ànima si disira;             ciò ché 'l dùca mìo ti diceva lui,           fu già damia, e tutta di se' assanna         la vóce tua, ché già mài nón si trova        a veder la colùi ché nón fa venni:           qui è un pòco più al móndo voscosto,         per lo qual tu su per lo màre andaviso,      \n",
            "ché piange nél vìvo giù nón la semenza.      prìma ch'a l'alto spene, e ché s'appressa;   le sètte volte ninfe, cón quéi crini!.       cón ésso pender, cóme suole 'ngegno.         e la s.u.a. natùra in crìsto e piove         pòscia c'ha' il mìo sàngue a te sì tratto.   cón l'ali aperte ché la vìta s.u.a. più più seregione. puotene,di qua dal suon de le parole sue.            per ch'io dìco ché 'l cor diètro s'inconda.  ne' prieghi fatti a dìo còsa di suno.        folgore, lùnga pròda ché 'l móndo riede      \n",
            "                                                                                                                                                                                                                                                                                                                                                                                                                                                                                                               \n",
            "io nón so se tu vien di quésto mondo;        e però fu la mìa virtùte contenne            per ché si puose star cón lùi m'inganna;     nón so se tu se' lòco per cristiana:         a dìo per cristian, fatti la spèra           nón si cùra de la còsta disposta,            rivòlta sì lieta, ché 'n tèrra hài           qual tenendo 'l vìso qui sù crucciato,       voi siete quàsi tùtto il mìo sito?           nón  mi dìcea cón dimanda venuto:            così, fu già da se' fàtto oltraggio,         \n",
            "che' già mài da se' tu cotànto ancor legge,  ché già si move tutta s.u.a. fìne            e quésta terra, còl càpo mal fiere,          sì ché prìa dél lòco ónde si fascia.         ché già mài nón si corse tànto felice,       ché già mài da me l'anima il possènte        quél ché fa màle a se' la tèrza riede,       in su le secol scàle apparivan più viva,     perche' volesse, o di più udìre e luce;      ma chi sòn l'altro vìpózzo intórno da piume, qual è colùi ché per tézza i dica,           \n",
            "io fui desto in lòco la pòrta sanna.         di quésta cosa, ché di lèi nón lece.         e di s.u.a. nazion farà ond'ella;            e però nón disse, ancor ché di nói           ché dél sovèrchio tronòstro è ne la mente.   al sàngue facea di quél tùtto pietre!.       e le cose ragion ché nón ti risponde.        per nón veder, se più nón fòsse il buto      e suol fònte brànda da la nostra vista,      ché 'l contràrio segnerà tùtto 'l nimi.      seguendo lui, o sapien nón porta priègo.     \n",
            "                                                                                                                                                                                                                                                                                                                                                                                                                                                                                                               \n",
            "e 'l buòn maestro: mólto sarà tristìno       la s.u.a. matèria si convene                 ónde è la prodìa di mal pascese,             dél surar facea s.u.a. disteso;              nón è il giudìcio ettèrno a voi mortali,     super lo scòglio l'altra còsta dùe pàrte     o tu ché 'l ciel dél móndo fa scoppia        qual ché 'l giunse ancor ne la còsta fiera   nón il vìso e vento, se tu mi vada           ed elli a me: la gràvi légge nón fuòr        e disse: quàndo 'l sùo discendemmo a quésta  \n",
            "ne la fàccia dél vìso ché più forta,         già mài va drìtta in su la s.u.a. pàrte      mi disse: guàrda quél gràdo ché tu chiedi    ma vidi 'l càrro secóndo s'annida,           pòi se nón mortali è tànto blandamenti,      lo vìso in me, e nón èra fa parole           è la profonda superna, e di queste           di s.u.a. natura, e spandeva;                più ché stra è già la cagion ché malva.      al piàna è sì latrapassar le sante,          al buòn proposar de la gènte fiera,          \n",
            "di rètro da se', ed ei fàtto pieno;          de l'altra, ché già m'avea fàtta fello;      cón la mìa cosa, e ancor nón sarebbe.        pur sù la sperànza de lo 'mpresa.            e giù nón bàsta a seguir la prìma gioco.     ché di se' strade 'l vìso si dipina.         ché si condusse in cón la tùrba óra cela     e l'una per lo sùo tèrzo fìssi e attento.    ed elli a me: sanna, nón dél móndo prègio    ché piene l'erba nél véro surge caso.        ché diètro si tenne a le supernise.          \n",
            "                                                                                                                                                                                                                                                                                                                                                                                                                                                                                                               \n",
            "che' già è la pròda ché 'l mal disce         sì ché la fàccia mìa tànto rimaso,           tu mi dì: accorri, ché quésto cièlo          cón infèrno lagrima, ché di se' venute       o dólce frate, ché 'ntelletto e crea         pur per lo scòglio de l'altra vàlle mostra   o ché la s.u.a. natùra fe',                  a le sùe cón s.u.a. fazion,                  la ménte tua poter se' stésso morso.         io nón so se tu più dicer venute;            pàro è lùngo scàla tutta la pòrta            \n",
            "dél sàngue mìo già ùna fa ché vada,          ch'i' nón posso dal ménto e quél ch'or si viviacciò ché tu diresti qua giù 'l volto,       e visse, a guàrda lo 'nferno fresca,         di piè dél vìso in ettèrno èra prato,        m'era in mostrar disìo d'una na torta;       mi disse: guàrda nél mal tòlto più quànto    tànto ché la ménte diètro si dispoglia,                                                   e ché già per quésto dì lòco ritrova,        dél cùi nòstro cièlo e óltre si dipuote      \n",
            "e per altrui, o ànima favella.               giù per lo lòco ónde prìa si favella.        e nón so di ché pianger ti doglia.           sì ché ' suoi ràggi facean per mano          rispuose: dice qua, io sòn io guido;         e più e più parevan per lo mòrso.            soàve per lo scòglio de le sùe spira.        ché 'l lùme pàre ancor lo mi ferrare.                                                     troviam l'ormeta nostre insième ratto.       la sa inscende, e da se' dimandemciene.      \n",
            "                                                                                                                                                                                                                                                                                                                                                                        o càra piòta mìa ché sì t'insuna,                                                                                                      \n",
            "qual è quél càpo ché più di mille,           e quél móndo ché più si parve carca,         ànzi fu nostra intenzion ch'a dèstra poppa;  de la mìa rispósta è cón quél ségno          e se le parole di lùi sòn pieno,             e già pur venimmo al fìne de l'alto,         cóme fòsse 'l sùo bràco a che partito,       cón quéi lùmi diètro a s.u.a. sposa          che, cóme veggion qui ha fàtto reo?.         e quél segnor ch'a se' mi fa cèrto           giù perche' malaghi de la ménte a cùi        \n",
            "nón riconosco alcun; ma s'a voi piace        dicendo: fràte mio, guàrda e ascolta         per ch'i' fu' io a lùi men càra e men piega, ché gràn disìo solver men ché s'aspiri,      nón ché prìa colùi ché 'l móndo rende,       ch'i' dissi: maestro, il cìnghio sfèrza      per vedùto gridò: qui se' di quésta gréggia  nói direm, ma già la vìta saranno,           tu vedrai la dólce sole, ché m'ade,          a me sinistra, fa far più forte,             al piàro in fìne è sì, ché i cerchi          \n",
            "còsa ch'io possa, spiriti bèn nati,          da l'altra stélla si parti sue.              e dissi: \"padre, da ché tu ti duoli          acciò ché 'l priègo tùo cendesti dìo         per la mìa vòglia dél sùo fecice sé          la cólpa de la in su la invidia, un àstro    ché lo seguitar qua giù nón fòsse pieno!     e cóme persóna ch'è da se' confortato:                                                    nón basti per lo stràda diviso, torse;       piecar si più al, ché nón perder suona       \n",
            "                                                                                                                                                                                                                                                                                                                                                                        ciò ché ti maraviglia, s'io nón risponde                                                                                               \n",
            "voi dite, e io farò per quella pàce          ma nón rimase ne la ménte ché fiàmma         nón so ché tu per la bàrba in bruno,         nón mi dispiaccia, se se vi reggimenti       ché da tutte parti l'altre volte cilio,      disse: la ménte mìa ménte ti fàccia          già per vedùto àncora a quésta pace,         ciascun ciel, a se' medi se' torse.          al càrro e ' buoi, traendo l'arca santa,     ma dimmi, se tu, innànzi al volto,           se mi dì: tu da quésta dimanda spèra         \n",
            "ché 'l tùo mortal podesti bèn dischiuso,     per lo sol, ché 'ntender si dice?.           fu tàrdi per me si volse in usolata.         già mài la memòria mìa incominciò a dio:     pur a me rispuose: francera, i marti         e quél padre, ché se tu nón vedi tro         e disse: la téma ché tu ti tosco:            lo dùca mio, pòi ché di se' mi volse         perche' membrùgi ché nól ti fece tene.       li àltri dopo 'l grifon sén vànno sùso       ché mi rimanessero e chinate il sòl ' volto  \n",
            "sòn le mie òcchi tuoi parole mal fiere       e 'l dùca mìo a lui: perche' pur quésta      pòi ch'ebbe sospirando il càpo ' tuoi duoli  perche' mi facci dél tùo nóme sarebbe.       ché fu per voi sì cóme l'uom dimanda.        da le mie ciglia, e nón de l'intrata.        la vìsta bestial ch'i' nón ti sarebbe.       ne la mìa fòrza dél sùo vìso spese                                                        cón la vedùta ché tutta ristette.            a ché diman per etterna èra verso.           \n",
            "                                                                                                                                                                                                                                                                                                                                                                        nón è sànza cagion di mal camparte,                                                                                                    \n",
            "òdio natùra ché 'l móndo fe' piace,          lo 'ntesi, rispuose: or ti rammenta          cón ciò ché tòsto fu vìso di ganch'i'.       io dico, nón ti sìam cón più lenti           àltro disse, rispuos'io, ché nón ti piaccia  o dólce pàdre mio, disse, a ché se'          e 'l dùca lui: figliuol, ché làto            al dùca mìo gridò: qual fórse negassi        ma chi vidi gendo in se' persone, altrui;    lo dùca stette un bène apparve da il sospinto,quésti ànima pien di? or già dì i            \n",
            "e per lo ciel, di se' conduce stàte          sóvra colùi ché tu veggi la creata?.         e se nón fossi, di mìnor vànno vi,           ché tu seguirai nél mìo dolóre schermo,      già eravam la mìa cón l'alto carco,          fu fàtto il nìdo di se' la s.u.a.            se' dal vòstro vìso in se' tien àlto basso,  ciò ché convenia se' dimandàre io la gente,  pòi ché più sodisfar chi nón si posse.       pòi ch'era necesse dimanda se' al ménte      nón varche, sorrise, e sai, andando,         \n",
            "se nón ché la gènte proceder cristiane.      io nón so chi tu se' ché 'n quél pùnto       chi pésca per lo scòglio ché l'altro suole.  ché la sperànza mi dico, e fa caccia         sì ché 'l tùo parlar ten nón posso.          ma perche' fa 'l móndo èra di soàto          e fa ché di se' medésmo si tace,             ché 'l lùme tùtto qua sù nón mi me.                                                       di mìa conoscènza or li fa bruna.            lùi ne la rispósta è in picciol cénno        \n",
            "                                                                                                                                                                                                                                                                                                                                                                        nón girò cón altriménti ónde si scema                                                                                                  \n",
            "per li ciechi sòl ché sèmpre la ménte        lo tùo pensier da qui innànzi sovr'ello.     lo buòn maestro acciò ché nón si paia,       dél mìo maestro a me tùtto 'l móndo          rispuos'io lui, quantùnque può, ciascun ségnode la fiàmma sua, ché 'l tèmpo si bra        disse: per altrui, ché ti fa presso:         nón ti se convegnon or là sù mondo,          piene l'erba ché 'n s.u.a. rìpa uscio.       io fui sormonte di 'n sul focàro             ch'è a piè dél mar ché si consigli!          \n",
            "di se' giovàto su per lo stremo, e quésto    attendi ad altro, ed ei là si rimanga;       sappiendo chi fui là dóve 'l duolo?,         d'amendue altra, e disse, giù cervella:      de la mìa dònna compagnìa malvagio:          ne pòrta solo, e in un pòco attesi,          nón pur vi ve, ma di lèi conchiedere,        sappi ch'i' sòn bertram dal bornio, quél baditutte, tutte a l'acqua ché più e più piace   ché 'nsegneraron nél vìro e nón odo il volto,tànto di sovr'a noi, che' correndo ipersi    \n",
            "rimirando in se' cóme s.u.a. còrda.          e più là giù li disse: o dimanda,            e per nón vànno ché là sù si piega,          lùce è la fièra di se' cruda queta.          per ché sìa di se' tu sì discerna?.          da ch'el si stingue; e pòi da ch'elli è      a péna per lagrimar ché tu hai?\".            ché la perdea volger diètro si guati.                                                     e diètro val più sù nón mi ricordia?.        l'altra; ma perche' piecuor nón portier perdo.\n",
            "                                                                                                                                                                                                                                                                                                                                                                        par cón un àestro sùo dispade affètto                                                                                                  \n",
            "nón sai tu ché 'l cièlo àltro s'interna      ch'io véggio certo; che' tu mi lascesti.     disse: \"padre, ancor nón sarei ón            quél peccator, ne la tèrza nón giove         ma dimmi, se tu sai, in ché di lèi           revedendo terra, credendo di qua ségno       per nón aver lui, se tu ti rispuose          cón l'argine de la léga e 'l vècchio piàno   mosse la dònna ché 'l ciel par giùsto        io vidi per la costrida, e dichina il        ancor ch'ei fu nón so; che' di sotto,        \n",
            "la vostra region ché 'l ciel ti risponde,    nél móndo sù, torce, e nón procede,          ché tu se' sìmi càccia il lùngo tema, perse  se più nón si vien, ne' sótto la lùna        dél sàngue fece la qual tu se' dimandi?      per ché dél bèn mostrar convien ché vadire.  cón quella ché 'l nòstro móndo è basso,      gridò: quésta fortùna ché tu ti dici,        lo generàce a dìo éssa pòi volesse.          dél nòstro mónte sànza pròprio simole,       menalo ad un altr'arco e a quél cingi        \n",
            "e fu nél qual doménico si dice.              se tu se' sì di se' parole tue pieghe        ché 'l vìso dél dolor da se' rifiuto.        ché da se' pòrta pàrte ancor ferra;          e cón li àltri legni, in tànto seggio        tu hài cotànto di quél lùme vivace,          àhi quànto amóre amicimane! e quél vosco.    e fa venìce  da lùi si disfaccia;                                                         se nón altriménti ché 'l fùmmo fenno,        ché si sentì la fàscia di sùo sento.         \n",
            "                                                                                                                                                                                                                                                                                                                                                                        saettando qual ànima è divina cìma                                                                                                     \n",
            "cón vìro e chinato, quàndo lo 'ntelletto     ne la ménte peggio; e ché mal éntro          i' sòn io d'una pàrte e d'altra preso:       e quél nasétto ché strétto a consìglio       per esser tra ' corpi nón ti doloro          lùme si crede, e nón conver lucènte          nón so se tu per nón fòsse ch'ancive         lo buòn maravigliar più oltre, inconti       sì, ché 'l visitaménte è lor rimaso          da l'uno a l'altro ch'anne fa la guerra;     nón so io perche', là dov'io si lasciati:    \n",
            "di gràn virtù, disdegnosa colùi ché giace    ha posto in lòco di sùo pastor verole.       però ch'i' sòn già pensier, da l'intrata;    par cón sì, ch'i' vidi par di consìglio      in làgo dél dolor nón si facea prìma         fin ché si volge cón la s.u.a. lùda          per ché si fece euròpa ch'ei venestino,      mi pinse 'l ciel nél ciel dél martiro,       diètro a lo 'mpedita ché la réna sta.        e, perche' pieta ne le parole sue,           che' 'n quésto tùo grìdo t'ha di lui,        \n",
            "nón ti maravigliar s'io la rincalzo.         io nón so se tu più fòsse o s'ei puose,      e nón so se tu nón temesti procedi.          lo dùca mio, dicendo: or m'avria tràtto      ché la mìa rispósta è già decreta\".          cuopre le nòtte già mài nón fu spense.       ch'io nón dissi: maestro mio, ché riprendi   ché nón corsè cóme gràn fàtto è vaso.                                                     il qual si conoscerà da se' già erra,        la gràzia s.u.a. natùra in assiede.          \n",
            "                                                                                                                                                                                                                                                                                                                                                                        e qual più ché si rende per nói rimàre                                                                                                 \n",
            "nói ci volgemmo il dòsso al mìo vallon verto,tant'era già di là dal mal trascorso?.       or se' tu la rispósta sì toscopèrta          ciò ché 'l mòdo par ché più si congiunga     ed elli a me: perche' i nostri conditi       da quella pàrte óve 'l sòl s'intende,        nón so ché tu potei farne dov'io?.           dònna mi sgridò: perche' pur ardimenti;      lo mìo maestro disse, in ché dimanda         ché cacciar cogligènza e indùgio vole.       già nón è; ma qui vien, diss'io.cùi          \n",
            "e disse: in là, sù nón ti risponde           e 'l buòn maestro: più prèsso si stinghe,    ché di véro a me tue chiare e amor mi pieni, cón le sùe parole il làdro nón mi move       nón pur a terminar mìo per àltro dóve        e quìnci e quìndi il lùme tùo sopranòna      la mòrte dissolve 'l francésco mai, fura     e sì vedrai somigliànte a quella altezza,    domandò 'l cammin, ma fa veder va.           da te, in se' riposo, e cón ésso             ell'è?, se tu mi fe' più lo nipó,            \n",
            "ché 'l tùo successor pàrte ti pieni.         rispuos'io lui, nón sarei ché di venne;      se tu se' quél ch'è pàdre d'ogne parte?.     di quella vìsta ché 'l móndo ha poso.        dirotti brievemente, mi rispuose.            più giùsto ferisse! e de la misura,          ché già toglie altrùi memòria dél peccato\";  prèsso di mal grati, ché nón seppe féde                                                   pur di rètro a se' ed ei ché la rance:       ché de lo stàgno cón lùi la sostesa.         \n",
            "                                                                                                                                                                                                                                                                                                                                                                        io fui desto innànzi chi era, e ridendo                                                                                                \n",
            "àlto pàsso 'l maestro, ché per me stésso     ma per ch'io dissi: fa ché tu riluci         dì rispuose: or mi duol ché tu m'hai         bèn si vedrà ciò ché mi fa motto;            quàndo sarài nél mìo vìso mi riposto         se nón còl sùo lùme fece contento;           che' nón è nuòva a so il móndo ponesta:      quél ché io ti farò ne la risposta.          èra cón li òcchi miei si fe' parole          cagnàzzo a cotal mòtto a le man grame,       qual è colùi ché gràn prèzio e arlucca?      \n",
            "lo càrro e ' buoi, traendo l'arca santa,     giù trovar lo cólpo de la s.u.a. mòrte       ne la ménte tua, e tu se' rimemgio,          e l'altro è la vìsta de la riva dì           là dóve 'l sùo ségno è da la vàlle           ma ché tutte le cose cite piene puoi,        che' guiglielmo al guàsco fu d'amor ardo.    lùce è la mia, ché già mài nón falla         di sùbito 'in, do, speravi'spuòza.           crollór cón la nòva cagionea mattina.        io soprava chi dél peccar nón può imo,       \n",
            "per ché si teme offìcio nón commesso.        e 'l ciel padre, ché nón si rimase.          la qual tu se' quél ch'i' ho sèmpre savi.    per lo mónte ché già mài nón si dice.        ché salìta a me, nón perder giogo.           la ménte ché s.u.a. natùra diede             e più volte chi vi li òcchi e 'l giardi,     se mài cón altri, il càpo piede' suoi.                                                    e cóme 'l fùmmo dél rofernai dura,           e disse: più è còrpo mòrso cariddi,          \n",
            "                                                                                                                                                                                                                                                                                                                                                                        fecer nón so; ma lùnro avversari dier lòco                                                                                             \n",
            "dinànzi parèa gente; e tutta quanta          cón l'argine ché si volge a l'altro monte,   se tu se' quél ch'i' ho concètto vano,       ma quàndo beatrìce sì cóme si scema          ma perche' sìa qui parea il fiùme lonta      cóme còl mèrto infin ché sùo quésto suole    nón tenne a lor, che' già nón ti crucciare   quìvi è la città ché nél móndo suona         a dùe punti, di dolóre ìre a' marti          disse: elli, tricorti già crudeli!.          qui si mostra; e crescer l'ambascia morta    \n",
            "partìta in àere ùna piànta di sospiri,       cón vìso i piè, qui vedi sì veloci,          ciò ché si va dintórno per la feste?.        l'aere si fece, a se' raccolta volse         nél fóndo suo, e più si ritrasse l'erba      più bàsso crìsto a s.u.a. malizia,           l'anima sànza dél càpo ché mi leva,          e cón le sùe parole il làdro                 l'antico mio.ed esser su per lo stràle.      àhi quànto a dir compartir si l'anima scaltrocón spensar la gènte a figurato raffigura,   \n",
            "disse: \"casta, in contràrio è quella;        ché 'l móndo facea di rètro seconda.         nón pur a chi miei colùi ché tu dice         il mèzzo 'l grifon di sùo parlàre fanno      cón lo regno, e tùtto 'l nòstro pàsso        e fa di tal pàrte in voi, secóndo gigli      senea di se' e di rètro china.               di s.u.a. cima, per drìtre ad omàne                                                       còl sole, e di sù ti rimembri vi,            ciò ché 'l vòstro mónte sànza la testa.      \n",
            "                                                                                                                                                                                                                                                                                                                                                                        quand'elli ebbè a piè le genti nanno,                                                                                                  \n",
            "che' per la péna par ché ti dismaga          i' mi volsi dal sùo vìso in quell'arco,      ché tu se' sì di novi, ché concede           quàndo si volgea nél fìglio di sire,         a péna èra la fiàmma più a volte             ché 'l sùo voler prende l'emisperio spèra    nón se' far, ma perche' di se' stessi        dùe vergogna ché di sótto fèrro fue,         la s.u.a. màdre più m'aiutana\";              l'una tenea ne la riva; e dintórno           quàsi convien ché la sètta per séna          \n",
            "sì ché 'l sòl vìso tùtto quàndo lo 'nte      e disse: taci e la stélla si collegra,       fu vòlta l'ombra che, per tutt'i coperchi,   ché nón pur perdon lor, ma per ristrinse     di sopra, ché tùtto par sùo ricorcarsi       a la mìa glòria de la gènte spira,           a le ripe e per lo cammin lo fondo,          al quàle intender stàto da me si ripa,       e se dél sùo càpo gràve si distende          a la mìa compagnìa mal dormente,             volge, e 'l buòn voler lor digiùno mosse     \n",
            "e nón pur di rètro da quél converso.         ché più nón farebbe còrpo cascane.           e domandò in se' cóme vieni ànzi ora?        l'animo tùo m'avea la vìsta tolta.           ne la qual si volge cón éssa piangesse.      pur per lo ciel, di se' gènte vera.          pòi ché 'ncontro, ed ésso si condusse.       qual doménico è su per lo scòglio muso.                                                   ché la fàccia dél tùtto si smarrita.         vòglia di reger s.u.a. ómbra spira,          \n",
            "                                                                                                                                                                                                                                                                                                                                                                        tutta a noi, gridar: qui si dice!.                                                                                                     \n",
            "àhi quànto fuòr di nói compiaghe giova,      per ch'i' lagrimando, qual tu se' tosca;     lo buòn maestro, ché tu vedi concedi,        poi, quàndo di là soccorse le volte,         qui si volge, e ribatter più avànte          così di quél gràn sèggio a ché tu li òcchi   àhi quànto tu tra se' diretro, e             lo pantan lo vìo da se' stesso,              io èra 'n chi la borsa, il cappello,         oh!, diss'io lui, nón fièno ancor luca;      ch'ella sénmirà; ónde 'l ciel profondòglia   \n",
            "guardando 'l maestro mìo segnóre a lui,      che' venùta guizza prìa ché 'l soccorso,     le vostre spalle a nói èra già derivaso;     diss'io, e pàre inver' nói esser mosso?' suoicón ésso i piè; ma qui sì ha posto inte,     per li òcchi miei significai festaménte      per lo mónte ché già si ritenne ésse         pur ché 'l pìo parlar mena, ti piacque       ché più correrà dolor cón la tèsta scàla     ma picciol tèmpo là 've 'l mónte stesso,     ché tu per basti vien, per tùtto vàno        \n",
            "ché più nón facea così com'io ti dolente!    torna lo 'ngegno tùo già mài torse.          pòi mi volse la vòglia dél mal tardo.        nón ti maravigliar s'io la mortale.          rispuose 'l mìo maestro a tormentarlo.       ne lo 'mperador de' piè dél cielo?.          al drùdo sùo quàndo disse, elli!\".           se nón còl primo, e dicea d'altra gréggia                                                 prìa ché carità si mutò di gange:            di dóre ancor mi la capra, e troia.          \n",
            "                                                                                                                                                                                                                                                                                                                                                                        si leva sùe braccia: più nón ti piaccia                                                                                                \n",
            "e se nón fòsse ch'ancor lo mi morsi,         e io: cón le dìta ti dolenti dolenti         e 'l piè ché vide tùtto sù riposo            nón ti maravigliar s'io piango, ancor morti  ed elli a me: qui sòn li eran quivi;         e se misèria d'esto lòco prìma               li angeli ne' fratei di mìo dovete,          punto, cóme tu ché parli più arro.           di s.u.a. corsar la scàla sànta              chi è colùi ché 'n móndo picciol tèmpo       di color ché l'un, se de l'altra dìa         \n",
            "per lo 'nferno tùo bèn far si posarmi        di là dal buòn voler ciò ché 'l valóre       al dùca mio, di bèn m'accorsi ch'elli        per lo tùo prèsso ché 'l talor siede,        sì ché 'l vìso di quella vàlle fiere,        di dìo sópra tua guàrda e pòi s'apprezza,    cóme quéi ché più e diètro mi fece l'ama     per lo qual cón ésso de la ménte pièna       ch'è per altrui, e cón li òcchi segui.       de l'alta cornizia, ché 'n lùi si fende      dél pàdre versi, e vidi com'hai veduto,      \n",
            "cón la vedùta ché 'l móndo diserto.          cón la fòrza al voler si racchiusa volge.    cón ésso tenne a ciò ché qui nón ha poso     ché dice per vìa giù tra ésse piega!         e ha posto in lòco ritor venuto.             più fu per la qual ché già éssa geme.        ché ti fa manir cón l'ali alti segno.        di paradiso, e dìo ti riguarda ogne:                                                      di s.u.a. nazion de l'aguglia conte          nón si sarebbe lor per quàndo santo?.        \n",
            "                                                                                                                                                                                                                                                                                                                                                                        e i ràggi ne feo per men lontani;                                                                                                      \n",
            "quàndo mi fui chièsto e tràtto a quél cappello,mentr'io dubbiava per lo vìso spento!        nón è chi è di là nèsso arrivato,            già nón èra in lòco sànza mòrso fiora,       io sòn d'esser là giù tra man distretti,     se tu se' di me, sì ti compiango,            e cóme s'avea dige da se' fessi;             ciascun di nói sì fosse, ch'a l'altra bócca  pòi cominciò: in quésta redìta suso:         già si move il ciel ché tùtti li àltri suolo o bèn si dimostra, se tu richeggi,           \n",
            "ché di màle in pèggio si travaglia;          e se' tu sì a tra ésso si pensa,             quàndo nói ci mettemmo per un bòsco quelle   ma fa seguitar la calìgine ónde              disse 'l maestro, ché li àltri mi scarsi     rispuos'io; e qui cominciò: se tu se'        per far si bagna, e 'l mìo disir de          ti rivolse, e parlaro a chi d'un fànte       mólto è lùngi al per ché quìvi si tuoi.      la prìma mìa dél ciel per l'altrui nifèsta   se' ogne per l'angoma' dél parer di dìgna    \n",
            "e venne de la gènte còl sòl tragitta.        ché dal colóre e dal cor ché 'l mi suona     ché da lùi fecer lo sùo dolóre schermo.      dél càrro e ' suoi per altrùi conformati.    lo qual più ché fossi cinge dintórno hài?    acciati a l'alto dìo più parlar valente?.    nón è giùsto ver così fàtto quinci.          ché bagni ancor la lìngua a la mammella mamma.                                             ne li àltri modo; e nón eran pur quésto      ché si fa sovvenir dél móndo antico.         \n",
            "                                                                                                                                                                                                                                                                                                                                                                        sì cantavan sì, ché ne le sùe priega                                                                                                   \n",
            "o frate, ìssa vegg'io, diss'elli, il nò      nón eran diritte e vìe più torgherardo:      sànza navar li ànimo ónde si mòrto           nón ti maravigliar s'io s'annida,            già nón so chi tu se', ma per ché aggi       io nón so chi tu se', ne' per àltri          quésto sì e giù de la ménte ché 'l           nón perche' più ch'un sémplice sembiànza     s'aiuta, se 'l ciel, girar percosse;         sùo sicùra la mortali, i girarti             tu dici: \"benche' io ti arrìgo               \n",
            "a chi più ché 'l viver tra lor fue.          per lo 'nferno tùo bèn chiàro nascose,       e tenne a le nostre piante, per la scàla     ne' sì tòsto di nói pareti, aventi,          dallàto de la ménte governa il giganto,      ché dicea nél vìvo giù di gìro in gi,        dinànzi a me, rispuose, allór cón sovrano    fòsse nél vìvo mìo trovar nón è tolto,       e l'altro ché già la vìta è da piove         pietà per se' stessa, a lor si fende,        già t'ho scovèrto cói capelli asciutti, e dìo\n",
            "lo sòl morir fuggir disdegno, e favella      ma la vìsta s.u.a. ci tien méle              u' nón si sarebbe lor càpo aia guasto.       ché dìo si frange chi la riva giuso.         e 'l buòn maestro, trasmutava le genti.      e più ché strate in per lo chiostro famiglia,sén giva; e in altrùi vostra maggior cura:   sì ché 'l vìso mi disse: da quél pùnto                                                    ché di se' a te parére a la genti.           a se' alèssio interminei da lucca:           \n",
            "                                                                                                                                                                                                                                                                                                                                                                        più volte poi, così parlàndo soverse,                                                                                                  \n",
            "ché fe' dal sòl ché 'l sòl sèmpro si,        cóme tu vedi, nón mólto di sotto,            e s'elli hanno la persóna nón tocchi,        nón ti maravigliar s'io per un cristo!       per ché le fessure giaci la froda,           acciò ché 'l benediménto più vivace,         sì la ménte in ché 'l ciel ti riguardi.      da se' stessi la vìsta ché 'l specchio.      la dònna mìa griman di sùo vedrai.           qual è colùi ché sùo dannàggio sogna,        però t'adocchio nél più ché li àltri tutti   \n",
            "                                                                                                                                                                                                                                                                                                                                                                        ma nón vedete colùi ché 'nterno a l'altro ràgché sognando desidera soàve tro?',                                                        \n"
          ],
          "name": "stdout"
        }
      ]
    },
    {
      "cell_type": "code",
      "metadata": {
        "id": "DycCq4S-lE1r",
        "outputId": "e97e0b71-db25-4fe8-d435-8d16b6dae9bd",
        "colab": {
          "base_uri": "https://localhost:8080/",
          "height": 555
        }
      },
      "source": [
        "import matplotlib.pyplot as plt\n",
        "from matplotlib.pyplot import figure\n",
        "\n",
        "# plot loss and accuracy histories\n",
        "fig, (ax0, ax1) = plt.subplots(nrows=1, ncols=2, figsize=(30, 10))\n",
        "\n",
        "# loss history\n",
        "loss_history = log['trainings']['comedy']['loss_history']\n",
        "for i, loss in enumerate(loss_history):\n",
        "  loss_history[i] = float(loss_history[i])\n",
        "\n",
        "# accuracy history\n",
        "acc_history = log['trainings']['comedy']['acc_history']\n",
        "for i, loss in enumerate(acc_history):\n",
        "  acc_history[i] = float(acc_history[i]) \n",
        "\n",
        "# plot loss history\n",
        "ax0.set_title('Loss History', color='lightblue', fontsize=15, fontweight= 'bold')\n",
        "ax0.set_xticks(range(0,len(loss_history),5))\n",
        "ax0.grid()\n",
        "ax0.plot(loss_history, color='blue')\n",
        "\n",
        "# plot accuracy history\n",
        "ax1.set_title('Accuracy History', color='orange', fontsize=15, fontweight= 'bold')\n",
        "ax1.set_xticks(range(0,len(acc_history),5))\n",
        "ax1.set_ylim(top=1)\n",
        "ax1.grid()\n",
        "ax1.plot(acc_history, color='red')"
      ],
      "execution_count": 45,
      "outputs": [
        {
          "output_type": "execute_result",
          "data": {
            "text/plain": [
              "[<matplotlib.lines.Line2D at 0x7fa1e20310f0>]"
            ]
          },
          "metadata": {
            "tags": []
          },
          "execution_count": 45
        },
        {
          "output_type": "display_data",
          "data": {
            "image/png": "[encoded data removed]",
            "text/plain": [
              "<Figure size 2160x720 with 2 Axes>"
            ]
          },
          "metadata": {
            "tags": [],
            "needs_background": "light"
          }
        }
      ]
    }
  ]
}